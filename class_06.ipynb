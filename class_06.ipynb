{
 "cells": [
  {
   "cell_type": "markdown",
   "metadata": {},
   "source": [
    "# 2. 爬蟲套件介紹"
   ]
  },
  {
   "cell_type": "code",
   "execution_count": 1,
   "metadata": {
    "collapsed": true
   },
   "outputs": [],
   "source": [
    "import requests\n",
    "from bs4 import BeautifulSoup"
   ]
  },
  {
   "cell_type": "markdown",
   "metadata": {},
   "source": [
    "# 3. 爬蟲範例"
   ]
  },
  {
   "cell_type": "markdown",
   "metadata": {},
   "source": [
    "請求網頁程式碼"
   ]
  },
  {
   "cell_type": "code",
   "execution_count": 2,
   "metadata": {
    "collapsed": false,
    "scrolled": false
   },
   "outputs": [],
   "source": [
    "res = requests.get(\"https://www.ptt.cc/bbs/Baseball/M.1532380925.A.361.html\")\n",
    "# print(res.text)"
   ]
  },
  {
   "cell_type": "code",
   "execution_count": 6,
   "metadata": {
    "collapsed": false
   },
   "outputs": [
    {
     "data": {
      "text/plain": [
       "requests.models.Response"
      ]
     },
     "execution_count": 6,
     "metadata": {},
     "output_type": "execute_result"
    }
   ],
   "source": [
    "type(res)"
   ]
  },
  {
   "cell_type": "markdown",
   "metadata": {},
   "source": [
    "解析網頁程式碼"
   ]
  },
  {
   "cell_type": "code",
   "execution_count": 3,
   "metadata": {
    "collapsed": false,
    "scrolled": false
   },
   "outputs": [
    {
     "name": "stderr",
     "output_type": "stream",
     "text": [
      "/Users/andy/anaconda/lib/python3.6/site-packages/bs4/__init__.py:181: UserWarning: No parser was explicitly specified, so I'm using the best available HTML parser for this system (\"lxml\"). This usually isn't a problem, but if you run this code on another system, or in a different virtual environment, it may use a different parser and behave differently.\n",
      "\n",
      "The code that caused this warning is on line 193 of the file /Users/andy/anaconda/lib/python3.6/runpy.py. To get rid of this warning, change code that looks like this:\n",
      "\n",
      " BeautifulSoup(YOUR_MARKUP})\n",
      "\n",
      "to this:\n",
      "\n",
      " BeautifulSoup(YOUR_MARKUP, \"lxml\")\n",
      "\n",
      "  markup_type=markup_type))\n"
     ]
    }
   ],
   "source": [
    "soup = BeautifulSoup(res.text)\n",
    "# print(soup)"
   ]
  },
  {
   "cell_type": "code",
   "execution_count": 9,
   "metadata": {
    "collapsed": false
   },
   "outputs": [
    {
     "data": {
      "text/plain": [
       "bs4.BeautifulSoup"
      ]
     },
     "execution_count": 9,
     "metadata": {},
     "output_type": "execute_result"
    }
   ],
   "source": [
    "type(soup)"
   ]
  },
  {
   "cell_type": "markdown",
   "metadata": {},
   "source": [
    "使用python抓回查詢到的資訊"
   ]
  },
  {
   "cell_type": "code",
   "execution_count": 4,
   "metadata": {
    "collapsed": false
   },
   "outputs": [
    {
     "data": {
      "text/plain": [
       "[<span class=\"article-meta-value\">ixnine920 (親愛的喬德)</span>,\n",
       " <span class=\"article-meta-value\">Baseball</span>,\n",
       " <span class=\"article-meta-value\">[情報] 胡智為重返大聯盟</span>,\n",
       " <span class=\"article-meta-value\">Tue Jul 24 05:22:01 2018</span>]"
      ]
     },
     "execution_count": 4,
     "metadata": {},
     "output_type": "execute_result"
    }
   ],
   "source": [
    "soup.select(\".article-meta-value\")"
   ]
  },
  {
   "cell_type": "code",
   "execution_count": 8,
   "metadata": {
    "collapsed": false
   },
   "outputs": [
    {
     "data": {
      "text/plain": [
       "list"
      ]
     },
     "execution_count": 8,
     "metadata": {},
     "output_type": "execute_result"
    }
   ],
   "source": [
    "type(soup.select(\".article-meta-value\"))"
   ]
  },
  {
   "cell_type": "code",
   "execution_count": 12,
   "metadata": {
    "collapsed": false
   },
   "outputs": [
    {
     "name": "stdout",
     "output_type": "stream",
     "text": [
      "作者:ixnine920 (親愛的喬德)\n",
      "看板:Baseball\n",
      "標題:[情報] 胡智為重返大聯盟\n",
      "時間:Tue Jul 24 05:22:01 2018\n"
     ]
    }
   ],
   "source": [
    "print(\"作者:\"+soup.select(\".article-meta-value\")[0].text)\n",
    "print(\"看板:\"+soup.select(\".article-meta-value\")[1].text)\n",
    "print(\"標題:\"+soup.select(\".article-meta-value\")[2].text)\n",
    "print(\"時間:\"+soup.select(\".article-meta-value\")[3].text)"
   ]
  },
  {
   "cell_type": "markdown",
   "metadata": {},
   "source": [
    "爬取文章內容"
   ]
  },
  {
   "cell_type": "code",
   "execution_count": 20,
   "metadata": {
    "collapsed": true
   },
   "outputs": [
    {
     "data": {
      "text/plain": [
       "[<div class=\"bbs-screen bbs-content\" id=\"main-content\"><div class=\"article-metaline\"><span class=\"article-meta-tag\">作者</span><span class=\"article-meta-value\">ixnine920 (親愛的喬德)</span></div><div class=\"article-metaline-right\"><span class=\"article-meta-tag\">看板</span><span class=\"article-meta-value\">Baseball</span></div><div class=\"article-metaline\"><span class=\"article-meta-tag\">標題</span><span class=\"article-meta-value\">[情報] 胡智為重返大聯盟</span></div><div class=\"article-metaline\"><span class=\"article-meta-tag\">時間</span><span class=\"article-meta-value\">Tue Jul 24 05:22:01 2018</span></div>\n",
       " \n",
       " 官方推特：\n",
       " <a href=\"https://twitter.com/RaysBaseball/status/1021478652314308609?s=19\" rel=\"nofollow\" target=\"_blank\">https://twitter.com/RaysBaseball/status/1021478652314308609?s=19</a>\n",
       " \n",
       " 其他來源：\n",
       " <a href=\"https://tinyurl.com/y8bvh6vb\" rel=\"nofollow\" target=\"_blank\">https://tinyurl.com/y8bvh6vb</a>\n",
       " \n",
       " \n",
       " 胡智為又上來啦～\n",
       " 歡迎大家一起笑死（誤）\n",
       " \n",
       " 不過目前的球隊王牌\n",
       " Blake Snell進了十天傷兵名單\n",
       " 老Snell迷如我希望沒有大礙\n",
       " 樓下BlakeSnell請來解惑呀～\n",
       " \n",
       " 附老Snell迷證明：\n",
       " <a href=\"https://i.imgur.com/kajygD0.jpg\" rel=\"nofollow\" target=\"_blank\">https://i.imgur.com/kajygD0.jpg</a>\n",
       " <div class=\"richcontent\"><blockquote class=\"imgur-embed-pub\" data-id=\"kajygD0\" lang=\"en\"><a href=\"//imgur.com/kajygD0\"></a></blockquote><script async=\"\" charset=\"utf-8\" src=\"//s.imgur.com/min/embed.js\"></script></div>\n",
       " \n",
       " \n",
       " --\n",
       " <span class=\"f2\">※ 發信站: 批踢踢實業坊(ptt.cc), 來自: 117.19.65.159\n",
       " </span><span class=\"f2\">※ 文章網址: <a href=\"https://www.ptt.cc/bbs/Baseball/M.1532380925.A.361.html\" rel=\"nofollow\" target=\"_blank\">https://www.ptt.cc/bbs/Baseball/M.1532380925.A.361.html</a>\n",
       " </span><div class=\"push\"><span class=\"hl push-tag\">推 </span><span class=\"f3 hl push-userid\">victorchiang</span><span class=\"f3 push-content\">: 推</span><span class=\"push-ipdatetime\">07/24 05:23\n",
       " </span></div><span class=\"f2\">※ 編輯: ixnine920 (117.19.65.159), 07/24/2018 05:24:09\n",
       " </span><div class=\"push\"><span class=\"hl push-tag\">推 </span><span class=\"f3 hl push-userid\">andyll2</span><span class=\"f3 push-content\">: 讚</span><span class=\"push-ipdatetime\">07/24 05:24\n",
       " </span></div><div class=\"push\"><span class=\"hl push-tag\">推 </span><span class=\"f3 hl push-userid\">blacklittle</span><span class=\"f3 push-content\">: 簽名球衣放閃</span><span class=\"push-ipdatetime\">07/24 05:25\n",
       " </span></div><div class=\"push\"><span class=\"hl push-tag\">推 </span><span class=\"f3 hl push-userid\">yankeefans</span><span class=\"f3 push-content\">: 樓下笑</span><span class=\"push-ipdatetime\">07/24 05:26\n",
       " </span></div><div class=\"push\"><span class=\"hl push-tag\">推 </span><span class=\"f3 hl push-userid\">cokepd</span><span class=\"f3 push-content\">: 笑死，我下去了，我又上來了</span><span class=\"push-ipdatetime\">07/24 05:28\n",
       " </span></div><div class=\"push\"><span class=\"hl push-tag\">推 </span><span class=\"f3 hl push-userid\">a963852741l</span><span class=\"f3 push-content\">: 推</span><span class=\"push-ipdatetime\">07/24 05:32\n",
       " </span></div><div class=\"push\"><span class=\"f1 hl push-tag\">→ </span><span class=\"f3 hl push-userid\">rei196</span><span class=\"f3 push-content\">: 樓下幫叫靈車，等下會笑死很多人</span><span class=\"push-ipdatetime\">07/24 05:32\n",
       " </span></div><span class=\"f2\">※ 編輯: ixnine920 (117.19.65.159), 07/24/2018 05:35:27\n",
       " </span><div class=\"push\"><span class=\"hl push-tag\">推 </span><span class=\"f3 hl push-userid\">Nokia33l0</span><span class=\"f3 push-content\">: 估計等等一堆人起床馬上笑死</span><span class=\"push-ipdatetime\"> 07/24 05:34\n",
       " </span></div><div class=\"push\"><span class=\"f1 hl push-tag\">→ </span><span class=\"f3 hl push-userid\">lyt5566</span><span class=\"f3 push-content\">: 又有人要笑死了</span><span class=\"push-ipdatetime\"> 07/24 05:39\n",
       " </span></div><div class=\"push\"><span class=\"hl push-tag\">推 </span><span class=\"f3 hl push-userid\">hototogisu</span><span class=\"f3 push-content\">: 如果明天先發就是和田中大對決了</span><span class=\"push-ipdatetime\"> 07/24 05:43\n",
       " </span></div><div class=\"push\"><span class=\"hl push-tag\">推 </span><span class=\"f3 hl push-userid\">tony70635</span><span class=\"f3 push-content\">: 笑死 推</span><span class=\"push-ipdatetime\"> 07/24 05:50\n",
       " </span></div><div class=\"push\"><span class=\"hl push-tag\">推 </span><span class=\"f3 hl push-userid\">evilgenius</span><span class=\"f3 push-content\">: 笑死 XD</span><span class=\"push-ipdatetime\"> 07/24 05:54\n",
       " </span></div><div class=\"push\"><span class=\"hl push-tag\">推 </span><span class=\"f3 hl push-userid\">kurotuna</span><span class=\"f3 push-content\">: 笑死       早安</span><span class=\"push-ipdatetime\"> 07/24 05:56\n",
       " </span></div><div class=\"push\"><span class=\"hl push-tag\">推 </span><span class=\"f3 hl push-userid\">pase139</span><span class=\"f3 push-content\">: 那些厭世小丑們笑死也好 你看這樣板面不是清爽乾淨許多了</span><span class=\"push-ipdatetime\"> 07/24 06:05\n",
       " </span></div><div class=\"push\"><span class=\"f1 hl push-tag\">→ </span><span class=\"f3 hl push-userid\">acwz7362</span><span class=\"f3 push-content\">: 樓下笑死</span><span class=\"push-ipdatetime\"> 07/24 06:22\n",
       " </span></div><div class=\"push\"><span class=\"f1 hl push-tag\">→ </span><span class=\"f3 hl push-userid\">lucky1lk</span><span class=\"f3 push-content\">: 我又上來了 我又下去了</span><span class=\"push-ipdatetime\"> 07/24 06:26\n",
       " </span></div><div class=\"push\"><span class=\"hl push-tag\">推 </span><span class=\"f3 hl push-userid\">joesong</span><span class=\"f3 push-content\">: 讚喔，加油</span><span class=\"push-ipdatetime\"> 07/24 06:26\n",
       " </span></div><div class=\"push\"><span class=\"hl push-tag\">推 </span><span class=\"f3 hl push-userid\">abc55322</span><span class=\"f3 push-content\">: 怎麼一直上上下下啊</span><span class=\"push-ipdatetime\"> 07/24 06:46\n",
       " </span></div><div class=\"push\"><span class=\"hl push-tag\">推 </span><span class=\"f3 hl push-userid\">jason7111994</span><span class=\"f3 push-content\">: 笑鼠～</span><span class=\"push-ipdatetime\"> 07/24 06:50\n",
       " </span></div><div class=\"push\"><span class=\"hl push-tag\">推 </span><span class=\"f3 hl push-userid\">Leaflock</span><span class=\"f3 push-content\">: 早安 大家笑死～～～</span><span class=\"push-ipdatetime\"> 07/24 07:04\n",
       " </span></div><div class=\"push\"><span class=\"hl push-tag\">推 </span><span class=\"f3 hl push-userid\">lion3210</span><span class=\"f3 push-content\">: 上去了就別再下來吧！</span><span class=\"push-ipdatetime\"> 07/24 07:06\n",
       " </span></div><div class=\"push\"><span class=\"hl push-tag\">推 </span><span class=\"f3 hl push-userid\">carlow</span><span class=\"f3 push-content\">: 笑醒</span><span class=\"push-ipdatetime\"> 07/24 07:09\n",
       " </span></div><div class=\"push\"><span class=\"hl push-tag\">推 </span><span class=\"f3 hl push-userid\">sue5566</span><span class=\"f3 push-content\">: 笑死 又上大聯盟，不要再下去了</span><span class=\"push-ipdatetime\"> 07/24 07:20\n",
       " </span></div><div class=\"push\"><span class=\"hl push-tag\">推 </span><span class=\"f3 hl push-userid\">justdoit</span><span class=\"f3 push-content\">: 加減賺一點薪水</span><span class=\"push-ipdatetime\"> 07/24 07:23\n",
       " </span></div><div class=\"push\"><span class=\"hl push-tag\">推 </span><span class=\"f3 hl push-userid\">goury</span><span class=\"f3 push-content\">: 胡現在在球團的定位是什麼？</span><span class=\"push-ipdatetime\"> 07/24 07:25\n",
       " </span></div><div class=\"push\"><span class=\"f1 hl push-tag\">→ </span><span class=\"f3 hl push-userid\">kakain</span><span class=\"f3 push-content\">: 棒球板天天都一堆人笑死 很可怕……</span><span class=\"push-ipdatetime\"> 07/24 07:30\n",
       " </span></div><div class=\"push\"><span class=\"hl push-tag\">推 </span><span class=\"f3 hl push-userid\">polanco</span><span class=\"f3 push-content\">: 加油</span><span class=\"push-ipdatetime\"> 07/24 07:38\n",
       " </span></div><div class=\"push\"><span class=\"f1 hl push-tag\">→ </span><span class=\"f3 hl push-userid\">wl355062</span><span class=\"f3 push-content\">: 哭活</span><span class=\"push-ipdatetime\"> 07/24 07:41\n",
       " </span></div><div class=\"push\"><span class=\"hl push-tag\">推 </span><span class=\"f3 hl push-userid\">ZachBritton</span><span class=\"f3 push-content\">: 未看先猜投一場就回去了</span><span class=\"push-ipdatetime\"> 07/24 07:43\n",
       " </span></div><div class=\"push\"><span class=\"hl push-tag\">推 </span><span class=\"f3 hl push-userid\">zx800524</span><span class=\"f3 push-content\">: 推笑死</span><span class=\"push-ipdatetime\"> 07/24 07:46\n",
       " </span></div><div class=\"push\"><span class=\"hl push-tag\">推 </span><span class=\"f3 hl push-userid\">a30253</span><span class=\"f3 push-content\">: 上上下下左右左右ABAB</span><span class=\"push-ipdatetime\"> 07/24 07:50\n",
       " </span></div><div class=\"push\"><span class=\"hl push-tag\">推 </span><span class=\"f3 hl push-userid\">as222930</span><span class=\"f3 push-content\">: 笑死</span><span class=\"push-ipdatetime\"> 07/24 07:53\n",
       " </span></div><div class=\"push\"><span class=\"hl push-tag\">推 </span><span class=\"f3 hl push-userid\">bravo</span><span class=\"f3 push-content\">: 笑死，上上下下</span><span class=\"push-ipdatetime\"> 07/24 07:56\n",
       " </span></div><div class=\"push\"><span class=\"hl push-tag\">推 </span><span class=\"f3 hl push-userid\">f88108523</span><span class=\"f3 push-content\">: 笑起來</span><span class=\"push-ipdatetime\"> 07/24 07:56\n",
       " </span></div><div class=\"push\"><span class=\"hl push-tag\">推 </span><span class=\"f3 hl push-userid\">Twatch</span><span class=\"f3 push-content\">: 大家 笑死了</span><span class=\"push-ipdatetime\"> 07/24 08:03\n",
       " </span></div><div class=\"push\"><span class=\"hl push-tag\">推 </span><span class=\"f3 hl push-userid\">atzer2002</span><span class=\"f3 push-content\">: 上上下下的浪費社會資源 笑死</span><span class=\"push-ipdatetime\"> 07/24 08:04\n",
       " </span></div><div class=\"push\"><span class=\"f1 hl push-tag\">→ </span><span class=\"f3 hl push-userid\">johna830525</span><span class=\"f3 push-content\">: 還是下去吧你</span><span class=\"push-ipdatetime\"> 07/24 08:07\n",
       " </span></div><div class=\"push\"><span class=\"hl push-tag\">推 </span><span class=\"f3 hl push-userid\">garfield112</span><span class=\"f3 push-content\">: 上上下下 左左右右</span><span class=\"push-ipdatetime\"> 07/24 08:07\n",
       " </span></div><div class=\"push\"><span class=\"hl push-tag\">推 </span><span class=\"f3 hl push-userid\">qqq87112</span><span class=\"f3 push-content\">: 笑死</span><span class=\"push-ipdatetime\"> 07/24 08:08\n",
       " </span></div><div class=\"push\"><span class=\"hl push-tag\">推 </span><span class=\"f3 hl push-userid\">warren92971</span><span class=\"f3 push-content\">: 笑死又生了</span><span class=\"push-ipdatetime\"> 07/24 08:11\n",
       " </span></div><div class=\"push\"><span class=\"hl push-tag\">推 </span><span class=\"f3 hl push-userid\">lepidoptera</span><span class=\"f3 push-content\">: 上上下下 左右左右 ba</span><span class=\"push-ipdatetime\"> 07/24 08:12\n",
       " </span></div><div class=\"push\"><span class=\"hl push-tag\">推 </span><span class=\"f3 hl push-userid\">Cezaill</span><span class=\"f3 push-content\">: 一起笑死xd</span><span class=\"push-ipdatetime\"> 07/24 08:12\n",
       " </span></div><div class=\"push\"><span class=\"hl push-tag\">推 </span><span class=\"f3 hl push-userid\">AllenHuang</span><span class=\"f3 push-content\">: 魂斗羅</span><span class=\"push-ipdatetime\"> 07/24 08:12\n",
       " </span></div><div class=\"push\"><span class=\"hl push-tag\">推 </span><span class=\"f3 hl push-userid\">cpc21478</span><span class=\"f3 push-content\">: 簡諧運動</span><span class=\"push-ipdatetime\"> 07/24 08:15\n",
       " </span></div><div class=\"push\"><span class=\"hl push-tag\">推 </span><span class=\"f3 hl push-userid\">imyuft</span><span class=\"f3 push-content\">: 上上下下左左右右前前後後</span><span class=\"push-ipdatetime\"> 07/24 08:17\n",
       " </span></div><div class=\"push\"><span class=\"hl push-tag\">推 </span><span class=\"f3 hl push-userid\">woodyj</span><span class=\"f3 push-content\">: 免洗人</span><span class=\"push-ipdatetime\"> 07/24 08:22\n",
       " </span></div><div class=\"push\"><span class=\"hl push-tag\">推 </span><span class=\"f3 hl push-userid\">iamkelsey</span><span class=\"f3 push-content\">: 又笑死啦</span><span class=\"push-ipdatetime\"> 07/24 08:25\n",
       " </span></div><div class=\"push\"><span class=\"f1 hl push-tag\">→ </span><span class=\"f3 hl push-userid\">tending</span><span class=\"f3 push-content\">: 志效</span><span class=\"push-ipdatetime\"> 07/24 08:27\n",
       " </span></div><div class=\"push\"><span class=\"hl push-tag\">推 </span><span class=\"f3 hl push-userid\">PerFrancis</span><span class=\"f3 push-content\">: 子瑜</span><span class=\"push-ipdatetime\"> 07/24 08:31\n",
       " </span></div><div class=\"push\"><span class=\"hl push-tag\">推 </span><span class=\"f3 hl push-userid\">k33536</span><span class=\"f3 push-content\">: 幹嘛這樣啦XDD</span><span class=\"push-ipdatetime\"> 07/24 08:33\n",
       " </span></div><div class=\"push\"><span class=\"hl push-tag\">推 </span><span class=\"f3 hl push-userid\">web946719</span><span class=\"f3 push-content\">: 25人名單抽插</span><span class=\"push-ipdatetime\"> 07/24 08:37\n",
       " </span></div><div class=\"push\"><span class=\"hl push-tag\">推 </span><span class=\"f3 hl push-userid\">AtDe</span><span class=\"f3 push-content\">: 哭升</span><span class=\"push-ipdatetime\"> 07/24 08:40\n",
       " </span></div><div class=\"push\"><span class=\"hl push-tag\">推 </span><span class=\"f3 hl push-userid\">wplinwp</span><span class=\"f3 push-content\">: 好像免洗筷一樣只用一次</span><span class=\"push-ipdatetime\"> 07/24 08:40\n",
       " </span></div><div class=\"push\"><span class=\"hl push-tag\">推 </span><span class=\"f3 hl push-userid\">tcfwbper</span><span class=\"f3 push-content\">: 笑死XD</span><span class=\"push-ipdatetime\"> 07/24 08:40\n",
       " </span></div><div class=\"push\"><span class=\"hl push-tag\">推 </span><span class=\"f3 hl push-userid\">pounil</span><span class=\"f3 push-content\">: 怎麼推文變笑死 看來紅了 沒人推什麼上去就不要下來之類的</span><span class=\"push-ipdatetime\"> 07/24 08:43\n",
       " </span></div><div class=\"push\"><span class=\"hl push-tag\">推 </span><span class=\"f3 hl push-userid\">muakxxxs</span><span class=\"f3 push-content\">: 推上去讓他下不來啊</span><span class=\"push-ipdatetime\"> 07/24 09:01\n",
       " </span></div><div class=\"push\"><span class=\"hl push-tag\">推 </span><span class=\"f3 hl push-userid\">samuncle123</span><span class=\"f3 push-content\">: 該給他一個先發的機會了啦</span><span class=\"push-ipdatetime\"> 07/24 09:07\n",
       " </span></div><div class=\"push\"><span class=\"hl push-tag\">推 </span><span class=\"f3 hl push-userid\">Vincent8026</span><span class=\"f3 push-content\">: 哭死</span><span class=\"push-ipdatetime\"> 07/24 09:08\n",
       " </span></div><div class=\"push\"><span class=\"hl push-tag\">推 </span><span class=\"f3 hl push-userid\">MaxScherzer</span><span class=\"f3 push-content\">: 笑起來了！！！！</span><span class=\"push-ipdatetime\"> 07/24 09:13\n",
       " </span></div><div class=\"push\"><span class=\"f1 hl push-tag\">→ </span><span class=\"f3 hl push-userid\">ADDUCE</span><span class=\"f3 push-content\">: snell簽名好像印刷的</span><span class=\"push-ipdatetime\"> 07/24 09:16\n",
       " </span></div><div class=\"push\"><span class=\"hl push-tag\">推 </span><span class=\"f3 hl push-userid\">c753968412</span><span class=\"f3 push-content\">: 棒球方唐鏡</span><span class=\"push-ipdatetime\"> 07/24 09:24\n",
       " </span></div><div class=\"push\"><span class=\"hl push-tag\">推 </span><span class=\"f3 hl push-userid\">BlakeSnell</span><span class=\"f3 push-content\">: 昨天抽抽亮兩次金珠都不是布姐 還被哪吒Gank 心有點痛</span><span class=\"push-ipdatetime\"> 07/24 09:26\n",
       " </span></div><div class=\"push\"><span class=\"f1 hl push-tag\">→ </span><span class=\"f3 hl push-userid\">BlakeSnell</span><span class=\"f3 push-content\">:  肩傷是對外說法 嗚嗚嗚嗚嗚嗚</span><span class=\"push-ipdatetime\"> 07/24 09:26\n",
       " </span></div><div class=\"push\"><span class=\"hl push-tag\">推 </span><span class=\"f3 hl push-userid\">brian551a</span><span class=\"f3 push-content\">: 笑死</span><span class=\"push-ipdatetime\"> 07/24 09:31\n",
       " </span></div><div class=\"push\"><span class=\"f1 hl push-tag\">→ </span><span class=\"f3 hl push-userid\">ri31625</span><span class=\"f3 push-content\">: 加油！</span><span class=\"push-ipdatetime\"> 07/24 09:37\n",
       " </span></div><div class=\"push\"><span class=\"hl push-tag\">推 </span><span class=\"f3 hl push-userid\">final9711</span><span class=\"f3 push-content\">: Archer走就換胡扶正了吧</span><span class=\"push-ipdatetime\"> 07/24 09:45\n",
       " </span></div><div class=\"push\"><span class=\"hl push-tag\">推 </span><span class=\"f3 hl push-userid\">befly10015</span><span class=\"f3 push-content\">: ++++++++++++++++U</span><span class=\"push-ipdatetime\"> 07/24 10:00\n",
       " </span></div><div class=\"push\"><span class=\"hl push-tag\">推 </span><span class=\"f3 hl push-userid\">alinwang</span><span class=\"f3 push-content\">: 上下折騰這麼多次誰受得了?</span><span class=\"push-ipdatetime\"> 07/24 10:09\n",
       " </span></div><div class=\"push\"><span class=\"hl push-tag\">推 </span><span class=\"f3 hl push-userid\">Minikin</span><span class=\"f3 push-content\">: 最會笑死的兩個版，棒球版跟股版</span><span class=\"push-ipdatetime\"> 07/24 10:39\n",
       " </span></div><div class=\"push\"><span class=\"hl push-tag\">推 </span><span class=\"f3 hl push-userid\">atzer2002</span><span class=\"f3 push-content\">: 全員笑死</span><span class=\"push-ipdatetime\"> 07/24 11:42\n",
       " </span></div><div class=\"push\"><span class=\"hl push-tag\">推 </span><span class=\"f3 hl push-userid\">woodyj</span><span class=\"f3 push-content\">: 明天又下去，不能笑了</span><span class=\"push-ipdatetime\"> 07/24 11:44\n",
       " </span></div><div class=\"push\"><span class=\"hl push-tag\">推 </span><span class=\"f3 hl push-userid\">JH4748</span><span class=\"f3 push-content\">: 加油！</span><span class=\"push-ipdatetime\"> 07/24 11:46\n",
       " </span></div><div class=\"push\"><span class=\"hl push-tag\">推 </span><span class=\"f3 hl push-userid\">smallsix</span><span class=\"f3 push-content\">: 笑死，加油別再下去啦！</span><span class=\"push-ipdatetime\"> 07/24 12:01\n",
       " </span></div><div class=\"push\"><span class=\"hl push-tag\">推 </span><span class=\"f3 hl push-userid\">takamiku</span><span class=\"f3 push-content\">: UP&amp;DOWN 胡智維可以考慮用EXID的歌當出場樂了</span><span class=\"push-ipdatetime\"> 07/24 12:30\n",
       " </span></div><div class=\"push\"><span class=\"hl push-tag\">推 </span><span class=\"f3 hl push-userid\">takamiku</span><span class=\"f3 push-content\">: 對於不是球團歸化內的小聯盟選手來說 能登上mlb就是賺</span><span class=\"push-ipdatetime\"> 07/24 12:34\n",
       " </span></div><div class=\"push\"><span class=\"f1 hl push-tag\">→ </span><span class=\"f3 hl push-userid\">takamiku</span><span class=\"f3 push-content\">: 錢的開始 一天換算是10萬台幣 上面一堆人是在憤慨什麼</span><span class=\"push-ipdatetime\"> 07/24 12:34\n",
       " </span></div><div class=\"push\"><span class=\"f1 hl push-tag\">→ </span><span class=\"f3 hl push-userid\">takamiku</span><span class=\"f3 push-content\">: 鬼 就算被冰在休息區一個禮拜都不上場7場球就可以賺70萬</span><span class=\"push-ipdatetime\"> 07/24 12:34\n",
       " </span></div><div class=\"push\"><span class=\"f1 hl push-tag\">→ </span><span class=\"f3 hl push-userid\">takamiku</span><span class=\"f3 push-content\">: 了好嗎</span><span class=\"push-ipdatetime\"> 07/24 12:34\n",
       " </span></div><div class=\"push\"><span class=\"hl push-tag\">推 </span><span class=\"f3 hl push-userid\">XD051</span><span class=\"f3 push-content\">: 往好處想 胡每次都是遞補首選 這是很大優勢</span><span class=\"push-ipdatetime\"> 07/24 13:26\n",
       " </span></div><div class=\"push\"><span class=\"hl push-tag\">推 </span><span class=\"f3 hl push-userid\">ri31625</span><span class=\"f3 push-content\">: 加油！</span><span class=\"push-ipdatetime\"> 07/24 13:38\n",
       " </span></div><div class=\"push\"><span class=\"hl push-tag\">推 </span><span class=\"f3 hl push-userid\">blakespring</span><span class=\"f3 push-content\">: 負面思考不就站不穩MLB才上上下下</span><span class=\"push-ipdatetime\"> 07/24 13:50\n",
       " </span></div><div class=\"push\"><span class=\"f1 hl push-tag\">→ </span><span class=\"f3 hl push-userid\">hchs31705</span><span class=\"f3 push-content\">: 棒球版死亡率再度提升</span><span class=\"push-ipdatetime\"> 07/24 14:13\n",
       " </span></div><div class=\"push\"><span class=\"hl push-tag\">推 </span><span class=\"f3 hl push-userid\">nipi</span><span class=\"f3 push-content\">: 加油，上去就不要再下來了！</span><span class=\"push-ipdatetime\"> 07/24 17:48\n",
       " </span></div><div class=\"push\"><span class=\"hl push-tag\">推 </span><span class=\"f3 hl push-userid\">vencil</span><span class=\"f3 push-content\">: 有得上總是比沒得上好了</span><span class=\"push-ipdatetime\"> 07/24 18:08\n",
       " </span></div></div>]"
      ]
     },
     "execution_count": 20,
     "metadata": {},
     "output_type": "execute_result"
    }
   ],
   "source": [
    "soup.select(\"#main-content\")"
   ]
  },
  {
   "cell_type": "code",
   "execution_count": 24,
   "metadata": {
    "collapsed": false
   },
   "outputs": [
    {
     "data": {
      "text/plain": [
       "1"
      ]
     },
     "execution_count": 24,
     "metadata": {},
     "output_type": "execute_result"
    }
   ],
   "source": [
    "len(soup.select(\"#main-content\"))"
   ]
  },
  {
   "cell_type": "code",
   "execution_count": 17,
   "metadata": {
    "collapsed": false,
    "scrolled": false
   },
   "outputs": [
    {
     "name": "stdout",
     "output_type": "stream",
     "text": [
      "作者ixnine920 (親愛的喬德)看板Baseball標題[情報] 胡智為重返大聯盟時間Tue Jul 24 05:22:01 2018\n",
      "\n",
      "官方推特：\n",
      "https://twitter.com/RaysBaseball/status/1021478652314308609?s=19\n",
      "\n",
      "其他來源：\n",
      "https://tinyurl.com/y8bvh6vb\n",
      "\n",
      "\n",
      "胡智為又上來啦～\n",
      "歡迎大家一起笑死（誤）\n",
      "\n",
      "不過目前的球隊王牌\n",
      "Blake Snell進了十天傷兵名單\n",
      "老Snell迷如我希望沒有大礙\n",
      "樓下BlakeSnell請來解惑呀～\n",
      "\n",
      "附老Snell迷證明：\n",
      "https://i.imgur.com/kajygD0.jpg\n",
      "\n",
      "\n",
      "\n",
      "--\n",
      "※ 發信站: 批踢踢實業坊(ptt.cc), 來自: 117.19.65.159\n",
      "※ 文章網址: https://www.ptt.cc/bbs/Baseball/M.1532380925.A.361.html\n",
      "推 victorchiang: 推07/24 05:23\n",
      "※ 編輯: ixnine920 (117.19.65.159), 07/24/2018 05:24:09\n",
      "推 andyll2: 讚07/24 05:24\n",
      "推 blacklittle: 簽名球衣放閃07/24 05:25\n",
      "推 yankeefans: 樓下笑07/24 05:26\n",
      "推 cokepd: 笑死，我下去了，我又上來了07/24 05:28\n",
      "推 a963852741l: 推07/24 05:32\n",
      "→ rei196: 樓下幫叫靈車，等下會笑死很多人07/24 05:32\n",
      "※ 編輯: ixnine920 (117.19.65.159), 07/24/2018 05:35:27\n",
      "推 Nokia33l0: 估計等等一堆人起床馬上笑死 07/24 05:34\n",
      "→ lyt5566: 又有人要笑死了 07/24 05:39\n",
      "推 hototogisu: 如果明天先發就是和田中大對決了 07/24 05:43\n",
      "推 tony70635: 笑死 推 07/24 05:50\n",
      "推 evilgenius: 笑死 XD 07/24 05:54\n",
      "推 kurotuna: 笑死       早安 07/24 05:56\n",
      "推 pase139: 那些厭世小丑們笑死也好 你看這樣板面不是清爽乾淨許多了 07/24 06:05\n",
      "→ acwz7362: 樓下笑死 07/24 06:22\n",
      "→ lucky1lk: 我又上來了 我又下去了 07/24 06:26\n",
      "推 joesong: 讚喔，加油 07/24 06:26\n",
      "推 abc55322: 怎麼一直上上下下啊 07/24 06:46\n",
      "推 jason7111994: 笑鼠～ 07/24 06:50\n",
      "推 Leaflock: 早安 大家笑死～～～ 07/24 07:04\n",
      "推 lion3210: 上去了就別再下來吧！ 07/24 07:06\n",
      "推 carlow: 笑醒 07/24 07:09\n",
      "推 sue5566: 笑死 又上大聯盟，不要再下去了 07/24 07:20\n",
      "推 justdoit: 加減賺一點薪水 07/24 07:23\n",
      "推 goury: 胡現在在球團的定位是什麼？ 07/24 07:25\n",
      "→ kakain: 棒球板天天都一堆人笑死 很可怕…… 07/24 07:30\n",
      "推 polanco: 加油 07/24 07:38\n",
      "→ wl355062: 哭活 07/24 07:41\n",
      "推 ZachBritton: 未看先猜投一場就回去了 07/24 07:43\n",
      "推 zx800524: 推笑死 07/24 07:46\n",
      "推 a30253: 上上下下左右左右ABAB 07/24 07:50\n",
      "推 as222930: 笑死 07/24 07:53\n",
      "推 bravo: 笑死，上上下下 07/24 07:56\n",
      "推 f88108523: 笑起來 07/24 07:56\n",
      "推 Twatch: 大家 笑死了 07/24 08:03\n",
      "推 atzer2002: 上上下下的浪費社會資源 笑死 07/24 08:04\n",
      "→ johna830525: 還是下去吧你 07/24 08:07\n",
      "推 garfield112: 上上下下 左左右右 07/24 08:07\n",
      "推 qqq87112: 笑死 07/24 08:08\n",
      "推 warren92971: 笑死又生了 07/24 08:11\n",
      "推 lepidoptera: 上上下下 左右左右 ba 07/24 08:12\n",
      "推 Cezaill: 一起笑死xd 07/24 08:12\n",
      "推 AllenHuang: 魂斗羅 07/24 08:12\n",
      "推 cpc21478: 簡諧運動 07/24 08:15\n",
      "推 imyuft: 上上下下左左右右前前後後 07/24 08:17\n",
      "推 woodyj: 免洗人 07/24 08:22\n",
      "推 iamkelsey: 又笑死啦 07/24 08:25\n",
      "→ tending: 志效 07/24 08:27\n",
      "推 PerFrancis: 子瑜 07/24 08:31\n",
      "推 k33536: 幹嘛這樣啦XDD 07/24 08:33\n",
      "推 web946719: 25人名單抽插 07/24 08:37\n",
      "推 AtDe: 哭升 07/24 08:40\n",
      "推 wplinwp: 好像免洗筷一樣只用一次 07/24 08:40\n",
      "推 tcfwbper: 笑死XD 07/24 08:40\n",
      "推 pounil: 怎麼推文變笑死 看來紅了 沒人推什麼上去就不要下來之類的 07/24 08:43\n",
      "推 muakxxxs: 推上去讓他下不來啊 07/24 09:01\n",
      "推 samuncle123: 該給他一個先發的機會了啦 07/24 09:07\n",
      "推 Vincent8026: 哭死 07/24 09:08\n",
      "推 MaxScherzer: 笑起來了！！！！ 07/24 09:13\n",
      "→ ADDUCE: snell簽名好像印刷的 07/24 09:16\n",
      "推 c753968412: 棒球方唐鏡 07/24 09:24\n",
      "推 BlakeSnell: 昨天抽抽亮兩次金珠都不是布姐 還被哪吒Gank 心有點痛 07/24 09:26\n",
      "→ BlakeSnell:  肩傷是對外說法 嗚嗚嗚嗚嗚嗚 07/24 09:26\n",
      "推 brian551a: 笑死 07/24 09:31\n",
      "→ ri31625: 加油！ 07/24 09:37\n",
      "推 final9711: Archer走就換胡扶正了吧 07/24 09:45\n",
      "推 befly10015: ++++++++++++++++U 07/24 10:00\n",
      "推 alinwang: 上下折騰這麼多次誰受得了? 07/24 10:09\n",
      "推 Minikin: 最會笑死的兩個版，棒球版跟股版 07/24 10:39\n",
      "推 atzer2002: 全員笑死 07/24 11:42\n",
      "推 woodyj: 明天又下去，不能笑了 07/24 11:44\n",
      "推 JH4748: 加油！ 07/24 11:46\n",
      "推 smallsix: 笑死，加油別再下去啦！ 07/24 12:01\n",
      "推 takamiku: UP&DOWN 胡智維可以考慮用EXID的歌當出場樂了 07/24 12:30\n",
      "推 takamiku: 對於不是球團歸化內的小聯盟選手來說 能登上mlb就是賺 07/24 12:34\n",
      "→ takamiku: 錢的開始 一天換算是10萬台幣 上面一堆人是在憤慨什麼 07/24 12:34\n",
      "→ takamiku: 鬼 就算被冰在休息區一個禮拜都不上場7場球就可以賺70萬 07/24 12:34\n",
      "→ takamiku: 了好嗎 07/24 12:34\n",
      "推 XD051: 往好處想 胡每次都是遞補首選 這是很大優勢 07/24 13:26\n",
      "推 ri31625: 加油！ 07/24 13:38\n",
      "推 blakespring: 負面思考不就站不穩MLB才上上下下 07/24 13:50\n",
      "→ hchs31705: 棒球版死亡率再度提升 07/24 14:13\n",
      "推 nipi: 加油，上去就不要再下來了！ 07/24 17:48\n",
      "推 vencil: 有得上總是比沒得上好了 07/24 18:08\n",
      "\n"
     ]
    }
   ],
   "source": [
    "print(soup.select(\"#main-content\")[0].text)"
   ]
  },
  {
   "cell_type": "code",
   "execution_count": 30,
   "metadata": {
    "collapsed": false,
    "scrolled": false
   },
   "outputs": [
    {
     "name": "stdout",
     "output_type": "stream",
     "text": [
      "作者ixnine920 (親愛的喬德)看板Baseball標題[情報] 胡智為重返大聯盟時間Tue Jul 24 05:22:01 2018\n",
      "\n",
      "官方推特：\n",
      "https://twitter.com/RaysBaseball/status/1021478652314308609?s=19\n",
      "\n",
      "其他來源：\n",
      "https://tinyurl.com/y8bvh6vb\n",
      "\n",
      "\n",
      "胡智為又上來啦～\n",
      "歡迎大家一起笑死（誤）\n",
      "\n",
      "不過目前的球隊王牌\n",
      "Blake Snell進了十天傷兵名單\n",
      "老Snell迷如我希望沒有大礙\n",
      "樓下BlakeSnell請來解惑呀～\n",
      "\n",
      "附老Snell迷證明：\n",
      "https://i.imgur.com/kajygD0.jpg\n",
      "\n",
      "\n",
      "\n",
      "--\n",
      "\n"
     ]
    }
   ],
   "source": [
    "print(soup.select(\"#main-content\")[0].text.split(\"※\")[0])"
   ]
  },
  {
   "cell_type": "code",
   "execution_count": 34,
   "metadata": {
    "collapsed": false
   },
   "outputs": [
    {
     "name": "stdout",
     "output_type": "stream",
     "text": [
      "\n",
      "\n",
      "官方推特：\n",
      "https://twitter.com/RaysBaseball/status/1021478652314308609?s=19\n",
      "\n",
      "其他來源：\n",
      "https://tinyurl.com/y8bvh6vb\n",
      "\n",
      "\n",
      "胡智為又上來啦～\n",
      "歡迎大家一起笑死（誤）\n",
      "\n",
      "不過目前的球隊王牌\n",
      "Blake Snell進了十天傷兵名單\n",
      "老Snell迷如我希望沒有大礙\n",
      "樓下BlakeSnell請來解惑呀～\n",
      "\n",
      "附老Snell迷證明：\n",
      "https://i.imgur.com/kajygD0.jpg\n",
      "\n",
      "\n",
      "\n",
      "--\n",
      "\n"
     ]
    }
   ],
   "source": [
    "time = soup.select(\".article-meta-value\")[3].text\n",
    "content = soup.select(\"#main-content\")[0].text.split(\"※\")[0]\n",
    "print(content.split(time)[1])"
   ]
  },
  {
   "cell_type": "markdown",
   "metadata": {
    "collapsed": false,
    "scrolled": false
   },
   "source": [
    "整理目前爬好的程式碼"
   ]
  },
  {
   "cell_type": "code",
   "execution_count": 35,
   "metadata": {
    "collapsed": true
   },
   "outputs": [],
   "source": [
    "author = soup.select(\".article-meta-value\")[0].text\n",
    "board = soup.select(\".article-meta-value\")[1].text\n",
    "title = soup.select(\".article-meta-value\")[2].text\n",
    "time = soup.select(\".article-meta-value\")[3].text\n",
    "content = soup.select(\"#main-content\")[0].text.split(\"※\")[0].split(time)[1]"
   ]
  },
  {
   "cell_type": "markdown",
   "metadata": {},
   "source": [
    "# 4. 爬取多篇PTT文章"
   ]
  },
  {
   "cell_type": "code",
   "execution_count": 2,
   "metadata": {
    "collapsed": false
   },
   "outputs": [
    {
     "name": "stderr",
     "output_type": "stream",
     "text": [
      "/Users/andy/anaconda/lib/python3.6/site-packages/bs4/__init__.py:181: UserWarning: No parser was explicitly specified, so I'm using the best available HTML parser for this system (\"lxml\"). This usually isn't a problem, but if you run this code on another system, or in a different virtual environment, it may use a different parser and behave differently.\n",
      "\n",
      "The code that caused this warning is on line 193 of the file /Users/andy/anaconda/lib/python3.6/runpy.py. To get rid of this warning, change code that looks like this:\n",
      "\n",
      " BeautifulSoup(YOUR_MARKUP})\n",
      "\n",
      "to this:\n",
      "\n",
      " BeautifulSoup(YOUR_MARKUP, \"lxml\")\n",
      "\n",
      "  markup_type=markup_type))\n"
     ]
    }
   ],
   "source": [
    "res = requests.get(\"https://www.ptt.cc/bbs/Baseball/index7903.html\")\n",
    "soup = BeautifulSoup(res.text)"
   ]
  },
  {
   "cell_type": "markdown",
   "metadata": {},
   "source": [
    "網址資訊"
   ]
  },
  {
   "cell_type": "code",
   "execution_count": 3,
   "metadata": {
    "collapsed": false,
    "scrolled": false
   },
   "outputs": [
    {
     "name": "stdout",
     "output_type": "stream",
     "text": [
      "https://www.ptt.cc/bbs/Baseball/M.1532774478.A.AE7.html\n",
      "https://www.ptt.cc/bbs/Baseball/M.1532774479.A.A23.html\n",
      "https://www.ptt.cc/bbs/Baseball/M.1532774479.A.0DB.html\n",
      "https://www.ptt.cc/bbs/Baseball/M.1532775313.A.43C.html\n",
      "https://www.ptt.cc/bbs/Baseball/M.1532775321.A.281.html\n",
      "https://www.ptt.cc/bbs/Baseball/M.1532775699.A.8D3.html\n",
      "https://www.ptt.cc/bbs/Baseball/M.1532775855.A.607.html\n",
      "https://www.ptt.cc/bbs/Baseball/M.1532776003.A.A38.html\n",
      "https://www.ptt.cc/bbs/Baseball/M.1532776026.A.7F4.html\n",
      "https://www.ptt.cc/bbs/Baseball/M.1532776603.A.14F.html\n",
      "https://www.ptt.cc/bbs/Baseball/M.1532776604.A.0BB.html\n",
      "https://www.ptt.cc/bbs/Baseball/M.1532777629.A.3CC.html\n",
      "https://www.ptt.cc/bbs/Baseball/M.1532777713.A.6B9.html\n",
      "https://www.ptt.cc/bbs/Baseball/M.1532779390.A.F97.html\n",
      "https://www.ptt.cc/bbs/Baseball/M.1532779416.A.229.html\n",
      "https://www.ptt.cc/bbs/Baseball/M.1532779587.A.34A.html\n",
      "https://www.ptt.cc/bbs/Baseball/M.1532779951.A.E91.html\n",
      "https://www.ptt.cc/bbs/Baseball/M.1532780261.A.9C6.html\n",
      "https://www.ptt.cc/bbs/Baseball/M.1532780270.A.135.html\n",
      "https://www.ptt.cc/bbs/Baseball/M.1532780415.A.AE3.html\n"
     ]
    }
   ],
   "source": [
    "for i in soup.select(\".title\"):\n",
    "    print(\"https://www.ptt.cc\"+i('a')[0]['href'])"
   ]
  },
  {
   "cell_type": "markdown",
   "metadata": {},
   "source": [
    "練習時間"
   ]
  },
  {
   "cell_type": "markdown",
   "metadata": {},
   "source": [
    "爬取出剛剛抓到所有網址的文章內容"
   ]
  },
  {
   "cell_type": "code",
   "execution_count": 35,
   "metadata": {
    "collapsed": true
   },
   "outputs": [
    {
     "name": "stderr",
     "output_type": "stream",
     "text": [
      "/Users/andy/anaconda/lib/python3.6/site-packages/bs4/__init__.py:181: UserWarning: No parser was explicitly specified, so I'm using the best available HTML parser for this system (\"lxml\"). This usually isn't a problem, but if you run this code on another system, or in a different virtual environment, it may use a different parser and behave differently.\n",
      "\n",
      "The code that caused this warning is on line 193 of the file /Users/andy/anaconda/lib/python3.6/runpy.py. To get rid of this warning, change code that looks like this:\n",
      "\n",
      " BeautifulSoup(YOUR_MARKUP})\n",
      "\n",
      "to this:\n",
      "\n",
      " BeautifulSoup(YOUR_MARKUP, \"lxml\")\n",
      "\n",
      "  markup_type=markup_type))\n"
     ]
    },
    {
     "name": "stdout",
     "output_type": "stream",
     "text": [
      "kk999999 (小鼠鼠)\n",
      "Baseball\n",
      "[新聞] 桃猿靠打擊攻頂　挑戰中信兄弟紀錄？\n",
      "Fri Jul 27 22:21:53 2018\n",
      "\n",
      "桃猿靠打擊攻頂　挑戰中信兄弟紀錄？\n",
      "\n",
      "記者蕭保祥／桃園報導\n",
      "\n",
      "Lamigo Monkeys桃猿2018年獲得中華職棒（CPBL）上半季冠軍，主要就是靠打擊，下半季\n",
      "開始火力不若上半年兇猛，年度平均3成20遙遙領先其他3隊，有機會挑戰中信兄弟保有的\n",
      "中職紀錄。\n",
      "\n",
      "直到27日賽前，Lamigo年度團隊打擊率3成20，這是下修過後的數字，因為下半季9場比賽\n",
      "打擊率是3成14，今年至今聯盟平均值是2成92，但唯一超過這數字只有Lamigo，其他3球\n",
      "團都不達平均。\n",
      "\n",
      "Lamigo總教練洪一中在桃園青埔球場賽前受訪時說，「其實我們幾乎每年都是靠打擊，從\n",
      "牛棚的一些數字不難看出來……這個聯盟很少一夫當關的投手，怎麼可能不靠打擊贏？」\n",
      "\n",
      "就以今晚排出打序來說，只有林智平、朱育賢與劉時豪打擊率不到3成，可以看出Lamigo\n",
      "內部野手的強力競爭。\n",
      "\n",
      "桃猿隊史團隊打擊率最高是2015年3成099，聯盟紀錄則是中信兄弟2016年3成28，Lamigo\n",
      "本季要挑戰不是沒有機會。\n",
      "\n",
      "https://www.setn.com/News.aspx?NewsID=409140\n",
      "\n",
      "--\n",
      "\n",
      "jack801016 (電子發票小板工)\n",
      "Baseball\n",
      "[宣傳] 7/28 Vamos好朋友同樂會\n",
      "Fri Jul 27 22:24:46 2018\n",
      "\n",
      "雖然可能沒棒球點，但還是來宣傳一下\n",
      "\n",
      "Vamos翊起運動為慶祝成立4周年，將於明天(7/28)舉辦Vamos同樂會\n",
      "\n",
      "時間：13:00~16:00\n",
      "\n",
      "地點就在狗吠火車的攝影棚（台北市松山區光復南路32巷23號）\n",
      "\n",
      "當天將會有精彩活動帶給板友們\n",
      "------------------------------------------------------------------------------\n",
      "http://vamossports.com.tw/?p=17026\n",
      "\n",
      "vamos四周年同樂會 經典時刻邀您”翊”起回味\n",
      "\n",
      "為慶祝vamos sports翊起運動成立四周年，明(28)日下午一點將於vamos攝影棚舉辦好朋\n",
      "友同樂會，包括創辦人主播徐裴翊、狗吠火車模擬選秀爆紅主播陳捷盛都將蒞臨現場，與\n",
      "粉絲同樂。\n",
      "\n",
      "同樂會現場活動豐富，入場前映入眼簾的vamos時光隧道，要帶你回顧四年來採訪點滴；\n",
      "想實現主播夢嗎?「翊起來新聞」讓你圓夢，為你特製專屬你的新聞影音。\n",
      "\n",
      "每次直播都吸引超過2000人觀看的狗吠火車，這天則是要「換你來狗吠」，完整還原節目\n",
      "布景，讓你上節目大談棒球經。除了可以拍照留念，現場還有「who is team vamos」的\n",
      "知識王挑戰，所有vamos成員也將在現場陪你聊天，有任何真心話」讓你一次說個夠，完\n",
      "成所有活動後，還有機會抽中陳偉殷簽名球等獎品！\n",
      "\n",
      "為回饋基層，強大體育用品社也特別提供空白簽名球義賣，所得將全數捐贈中信兄弟周思\n",
      "齊球芽基金會培育未來棒球人才。vamos sports翊起運動從2014年開始，秉持認真的運動\n",
      "員就應該被看見的理念，傳遞體育運動的力量、美好與希望，誠摯邀請您來到現場，與我\n",
      "們歡慶經典時刻。\n",
      "\n",
      "【vamos好朋友同樂會】活動資訊\n",
      "日期：7月28日(六)13:00入場\n",
      "地點：台北市光復南路32巷23號\n",
      "\n",
      "--\n",
      "\n"
     ]
    },
    {
     "ename": "KeyboardInterrupt",
     "evalue": "",
     "output_type": "error",
     "traceback": [
      "\u001b[0;31m---------------------------------------------------------------------------\u001b[0m",
      "\u001b[0;31mTypeError\u001b[0m                                 Traceback (most recent call last)",
      "\u001b[0;32m/Users/andy/anaconda/lib/python3.6/site-packages/urllib3/connectionpool.py\u001b[0m in \u001b[0;36m_make_request\u001b[0;34m(self, conn, method, url, timeout, chunked, **httplib_request_kw)\u001b[0m\n\u001b[1;32m    378\u001b[0m             \u001b[0;32mtry\u001b[0m\u001b[0;34m:\u001b[0m  \u001b[0;31m# Python 2.7, use buffering of HTTP responses\u001b[0m\u001b[0;34m\u001b[0m\u001b[0m\n\u001b[0;32m--> 379\u001b[0;31m                 \u001b[0mhttplib_response\u001b[0m \u001b[0;34m=\u001b[0m \u001b[0mconn\u001b[0m\u001b[0;34m.\u001b[0m\u001b[0mgetresponse\u001b[0m\u001b[0;34m(\u001b[0m\u001b[0mbuffering\u001b[0m\u001b[0;34m=\u001b[0m\u001b[0;32mTrue\u001b[0m\u001b[0;34m)\u001b[0m\u001b[0;34m\u001b[0m\u001b[0m\n\u001b[0m\u001b[1;32m    380\u001b[0m             \u001b[0;32mexcept\u001b[0m \u001b[0mTypeError\u001b[0m\u001b[0;34m:\u001b[0m  \u001b[0;31m# Python 2.6 and older, Python 3\u001b[0m\u001b[0;34m\u001b[0m\u001b[0m\n",
      "\u001b[0;31mTypeError\u001b[0m: getresponse() got an unexpected keyword argument 'buffering'",
      "\nDuring handling of the above exception, another exception occurred:\n",
      "\u001b[0;31mKeyboardInterrupt\u001b[0m                         Traceback (most recent call last)",
      "\u001b[0;32m<ipython-input-35-dcecda8bda6a>\u001b[0m in \u001b[0;36m<module>\u001b[0;34m()\u001b[0m\n\u001b[1;32m      2\u001b[0m \u001b[0msoup\u001b[0m \u001b[0;34m=\u001b[0m \u001b[0mBeautifulSoup\u001b[0m\u001b[0;34m(\u001b[0m\u001b[0mres\u001b[0m\u001b[0;34m.\u001b[0m\u001b[0mtext\u001b[0m\u001b[0;34m)\u001b[0m\u001b[0;34m\u001b[0m\u001b[0m\n\u001b[1;32m      3\u001b[0m \u001b[0;32mfor\u001b[0m \u001b[0mi\u001b[0m \u001b[0;32min\u001b[0m \u001b[0msoup\u001b[0m\u001b[0;34m.\u001b[0m\u001b[0mselect\u001b[0m\u001b[0;34m(\u001b[0m\u001b[0;34m\".title\"\u001b[0m\u001b[0;34m)\u001b[0m\u001b[0;34m:\u001b[0m\u001b[0;34m\u001b[0m\u001b[0m\n\u001b[0;32m----> 4\u001b[0;31m     \u001b[0mres2\u001b[0m \u001b[0;34m=\u001b[0m \u001b[0mrequests\u001b[0m\u001b[0;34m.\u001b[0m\u001b[0mget\u001b[0m\u001b[0;34m(\u001b[0m\u001b[0;34m\"https://www.ptt.cc\"\u001b[0m\u001b[0;34m+\u001b[0m\u001b[0mi\u001b[0m\u001b[0;34m(\u001b[0m\u001b[0;34m'a'\u001b[0m\u001b[0;34m)\u001b[0m\u001b[0;34m[\u001b[0m\u001b[0;36m0\u001b[0m\u001b[0;34m]\u001b[0m\u001b[0;34m[\u001b[0m\u001b[0;34m'href'\u001b[0m\u001b[0;34m]\u001b[0m\u001b[0;34m)\u001b[0m\u001b[0;34m\u001b[0m\u001b[0m\n\u001b[0m\u001b[1;32m      5\u001b[0m     \u001b[0msoup2\u001b[0m \u001b[0;34m=\u001b[0m \u001b[0mBeautifulSoup\u001b[0m\u001b[0;34m(\u001b[0m\u001b[0mres2\u001b[0m\u001b[0;34m.\u001b[0m\u001b[0mtext\u001b[0m\u001b[0;34m)\u001b[0m\u001b[0;34m\u001b[0m\u001b[0m\n\u001b[1;32m      6\u001b[0m     \u001b[0mprint\u001b[0m\u001b[0;34m(\u001b[0m\u001b[0msoup2\u001b[0m\u001b[0;34m.\u001b[0m\u001b[0mselect\u001b[0m\u001b[0;34m(\u001b[0m\u001b[0;34m\".article-meta-value\"\u001b[0m\u001b[0;34m)\u001b[0m\u001b[0;34m[\u001b[0m\u001b[0;36m0\u001b[0m\u001b[0;34m]\u001b[0m\u001b[0;34m.\u001b[0m\u001b[0mtext\u001b[0m\u001b[0;34m)\u001b[0m\u001b[0;34m\u001b[0m\u001b[0m\n",
      "\u001b[0;32m/Users/andy/anaconda/lib/python3.6/site-packages/requests/api.py\u001b[0m in \u001b[0;36mget\u001b[0;34m(url, params, **kwargs)\u001b[0m\n\u001b[1;32m     70\u001b[0m \u001b[0;34m\u001b[0m\u001b[0m\n\u001b[1;32m     71\u001b[0m     \u001b[0mkwargs\u001b[0m\u001b[0;34m.\u001b[0m\u001b[0msetdefault\u001b[0m\u001b[0;34m(\u001b[0m\u001b[0;34m'allow_redirects'\u001b[0m\u001b[0;34m,\u001b[0m \u001b[0;32mTrue\u001b[0m\u001b[0;34m)\u001b[0m\u001b[0;34m\u001b[0m\u001b[0m\n\u001b[0;32m---> 72\u001b[0;31m     \u001b[0;32mreturn\u001b[0m \u001b[0mrequest\u001b[0m\u001b[0;34m(\u001b[0m\u001b[0;34m'get'\u001b[0m\u001b[0;34m,\u001b[0m \u001b[0murl\u001b[0m\u001b[0;34m,\u001b[0m \u001b[0mparams\u001b[0m\u001b[0;34m=\u001b[0m\u001b[0mparams\u001b[0m\u001b[0;34m,\u001b[0m \u001b[0;34m**\u001b[0m\u001b[0mkwargs\u001b[0m\u001b[0;34m)\u001b[0m\u001b[0;34m\u001b[0m\u001b[0m\n\u001b[0m\u001b[1;32m     73\u001b[0m \u001b[0;34m\u001b[0m\u001b[0m\n\u001b[1;32m     74\u001b[0m \u001b[0;34m\u001b[0m\u001b[0m\n",
      "\u001b[0;32m/Users/andy/anaconda/lib/python3.6/site-packages/requests/api.py\u001b[0m in \u001b[0;36mrequest\u001b[0;34m(method, url, **kwargs)\u001b[0m\n\u001b[1;32m     56\u001b[0m     \u001b[0;31m# cases, and look like a memory leak in others.\u001b[0m\u001b[0;34m\u001b[0m\u001b[0;34m\u001b[0m\u001b[0m\n\u001b[1;32m     57\u001b[0m     \u001b[0;32mwith\u001b[0m \u001b[0msessions\u001b[0m\u001b[0;34m.\u001b[0m\u001b[0mSession\u001b[0m\u001b[0;34m(\u001b[0m\u001b[0;34m)\u001b[0m \u001b[0;32mas\u001b[0m \u001b[0msession\u001b[0m\u001b[0;34m:\u001b[0m\u001b[0;34m\u001b[0m\u001b[0m\n\u001b[0;32m---> 58\u001b[0;31m         \u001b[0;32mreturn\u001b[0m \u001b[0msession\u001b[0m\u001b[0;34m.\u001b[0m\u001b[0mrequest\u001b[0m\u001b[0;34m(\u001b[0m\u001b[0mmethod\u001b[0m\u001b[0;34m=\u001b[0m\u001b[0mmethod\u001b[0m\u001b[0;34m,\u001b[0m \u001b[0murl\u001b[0m\u001b[0;34m=\u001b[0m\u001b[0murl\u001b[0m\u001b[0;34m,\u001b[0m \u001b[0;34m**\u001b[0m\u001b[0mkwargs\u001b[0m\u001b[0;34m)\u001b[0m\u001b[0;34m\u001b[0m\u001b[0m\n\u001b[0m\u001b[1;32m     59\u001b[0m \u001b[0;34m\u001b[0m\u001b[0m\n\u001b[1;32m     60\u001b[0m \u001b[0;34m\u001b[0m\u001b[0m\n",
      "\u001b[0;32m/Users/andy/anaconda/lib/python3.6/site-packages/requests/sessions.py\u001b[0m in \u001b[0;36mrequest\u001b[0;34m(self, method, url, params, data, headers, cookies, files, auth, timeout, allow_redirects, proxies, hooks, stream, verify, cert, json)\u001b[0m\n\u001b[1;32m    500\u001b[0m         }\n\u001b[1;32m    501\u001b[0m         \u001b[0msend_kwargs\u001b[0m\u001b[0;34m.\u001b[0m\u001b[0mupdate\u001b[0m\u001b[0;34m(\u001b[0m\u001b[0msettings\u001b[0m\u001b[0;34m)\u001b[0m\u001b[0;34m\u001b[0m\u001b[0m\n\u001b[0;32m--> 502\u001b[0;31m         \u001b[0mresp\u001b[0m \u001b[0;34m=\u001b[0m \u001b[0mself\u001b[0m\u001b[0;34m.\u001b[0m\u001b[0msend\u001b[0m\u001b[0;34m(\u001b[0m\u001b[0mprep\u001b[0m\u001b[0;34m,\u001b[0m \u001b[0;34m**\u001b[0m\u001b[0msend_kwargs\u001b[0m\u001b[0;34m)\u001b[0m\u001b[0;34m\u001b[0m\u001b[0m\n\u001b[0m\u001b[1;32m    503\u001b[0m \u001b[0;34m\u001b[0m\u001b[0m\n\u001b[1;32m    504\u001b[0m         \u001b[0;32mreturn\u001b[0m \u001b[0mresp\u001b[0m\u001b[0;34m\u001b[0m\u001b[0m\n",
      "\u001b[0;32m/Users/andy/anaconda/lib/python3.6/site-packages/requests/sessions.py\u001b[0m in \u001b[0;36msend\u001b[0;34m(self, request, **kwargs)\u001b[0m\n\u001b[1;32m    610\u001b[0m \u001b[0;34m\u001b[0m\u001b[0m\n\u001b[1;32m    611\u001b[0m         \u001b[0;31m# Send the request\u001b[0m\u001b[0;34m\u001b[0m\u001b[0;34m\u001b[0m\u001b[0m\n\u001b[0;32m--> 612\u001b[0;31m         \u001b[0mr\u001b[0m \u001b[0;34m=\u001b[0m \u001b[0madapter\u001b[0m\u001b[0;34m.\u001b[0m\u001b[0msend\u001b[0m\u001b[0;34m(\u001b[0m\u001b[0mrequest\u001b[0m\u001b[0;34m,\u001b[0m \u001b[0;34m**\u001b[0m\u001b[0mkwargs\u001b[0m\u001b[0;34m)\u001b[0m\u001b[0;34m\u001b[0m\u001b[0m\n\u001b[0m\u001b[1;32m    613\u001b[0m \u001b[0;34m\u001b[0m\u001b[0m\n\u001b[1;32m    614\u001b[0m         \u001b[0;31m# Total elapsed time of the request (approximately)\u001b[0m\u001b[0;34m\u001b[0m\u001b[0;34m\u001b[0m\u001b[0m\n",
      "\u001b[0;32m/Users/andy/anaconda/lib/python3.6/site-packages/requests/adapters.py\u001b[0m in \u001b[0;36msend\u001b[0;34m(self, request, stream, timeout, verify, cert, proxies)\u001b[0m\n\u001b[1;32m    438\u001b[0m                     \u001b[0mdecode_content\u001b[0m\u001b[0;34m=\u001b[0m\u001b[0;32mFalse\u001b[0m\u001b[0;34m,\u001b[0m\u001b[0;34m\u001b[0m\u001b[0m\n\u001b[1;32m    439\u001b[0m                     \u001b[0mretries\u001b[0m\u001b[0;34m=\u001b[0m\u001b[0mself\u001b[0m\u001b[0;34m.\u001b[0m\u001b[0mmax_retries\u001b[0m\u001b[0;34m,\u001b[0m\u001b[0;34m\u001b[0m\u001b[0m\n\u001b[0;32m--> 440\u001b[0;31m                     \u001b[0mtimeout\u001b[0m\u001b[0;34m=\u001b[0m\u001b[0mtimeout\u001b[0m\u001b[0;34m\u001b[0m\u001b[0m\n\u001b[0m\u001b[1;32m    441\u001b[0m                 )\n\u001b[1;32m    442\u001b[0m \u001b[0;34m\u001b[0m\u001b[0m\n",
      "\u001b[0;32m/Users/andy/anaconda/lib/python3.6/site-packages/urllib3/connectionpool.py\u001b[0m in \u001b[0;36murlopen\u001b[0;34m(self, method, url, body, headers, retries, redirect, assert_same_host, timeout, pool_timeout, release_conn, chunked, body_pos, **response_kw)\u001b[0m\n\u001b[1;32m    598\u001b[0m                                                   \u001b[0mtimeout\u001b[0m\u001b[0;34m=\u001b[0m\u001b[0mtimeout_obj\u001b[0m\u001b[0;34m,\u001b[0m\u001b[0;34m\u001b[0m\u001b[0m\n\u001b[1;32m    599\u001b[0m                                                   \u001b[0mbody\u001b[0m\u001b[0;34m=\u001b[0m\u001b[0mbody\u001b[0m\u001b[0;34m,\u001b[0m \u001b[0mheaders\u001b[0m\u001b[0;34m=\u001b[0m\u001b[0mheaders\u001b[0m\u001b[0;34m,\u001b[0m\u001b[0;34m\u001b[0m\u001b[0m\n\u001b[0;32m--> 600\u001b[0;31m                                                   chunked=chunked)\n\u001b[0m\u001b[1;32m    601\u001b[0m \u001b[0;34m\u001b[0m\u001b[0m\n\u001b[1;32m    602\u001b[0m             \u001b[0;31m# If we're going to release the connection in ``finally:``, then\u001b[0m\u001b[0;34m\u001b[0m\u001b[0;34m\u001b[0m\u001b[0m\n",
      "\u001b[0;32m/Users/andy/anaconda/lib/python3.6/site-packages/urllib3/connectionpool.py\u001b[0m in \u001b[0;36m_make_request\u001b[0;34m(self, conn, method, url, timeout, chunked, **httplib_request_kw)\u001b[0m\n\u001b[1;32m    380\u001b[0m             \u001b[0;32mexcept\u001b[0m \u001b[0mTypeError\u001b[0m\u001b[0;34m:\u001b[0m  \u001b[0;31m# Python 2.6 and older, Python 3\u001b[0m\u001b[0;34m\u001b[0m\u001b[0m\n\u001b[1;32m    381\u001b[0m                 \u001b[0;32mtry\u001b[0m\u001b[0;34m:\u001b[0m\u001b[0;34m\u001b[0m\u001b[0m\n\u001b[0;32m--> 382\u001b[0;31m                     \u001b[0mhttplib_response\u001b[0m \u001b[0;34m=\u001b[0m \u001b[0mconn\u001b[0m\u001b[0;34m.\u001b[0m\u001b[0mgetresponse\u001b[0m\u001b[0;34m(\u001b[0m\u001b[0;34m)\u001b[0m\u001b[0;34m\u001b[0m\u001b[0m\n\u001b[0m\u001b[1;32m    383\u001b[0m                 \u001b[0;32mexcept\u001b[0m \u001b[0mException\u001b[0m \u001b[0;32mas\u001b[0m \u001b[0me\u001b[0m\u001b[0;34m:\u001b[0m\u001b[0;34m\u001b[0m\u001b[0m\n\u001b[1;32m    384\u001b[0m                     \u001b[0;31m# Remove the TypeError from the exception chain in Python 3;\u001b[0m\u001b[0;34m\u001b[0m\u001b[0;34m\u001b[0m\u001b[0m\n",
      "\u001b[0;32m/Users/andy/anaconda/lib/python3.6/http/client.py\u001b[0m in \u001b[0;36mgetresponse\u001b[0;34m(self)\u001b[0m\n\u001b[1;32m   1329\u001b[0m         \u001b[0;32mtry\u001b[0m\u001b[0;34m:\u001b[0m\u001b[0;34m\u001b[0m\u001b[0m\n\u001b[1;32m   1330\u001b[0m             \u001b[0;32mtry\u001b[0m\u001b[0;34m:\u001b[0m\u001b[0;34m\u001b[0m\u001b[0m\n\u001b[0;32m-> 1331\u001b[0;31m                 \u001b[0mresponse\u001b[0m\u001b[0;34m.\u001b[0m\u001b[0mbegin\u001b[0m\u001b[0;34m(\u001b[0m\u001b[0;34m)\u001b[0m\u001b[0;34m\u001b[0m\u001b[0m\n\u001b[0m\u001b[1;32m   1332\u001b[0m             \u001b[0;32mexcept\u001b[0m \u001b[0mConnectionError\u001b[0m\u001b[0;34m:\u001b[0m\u001b[0;34m\u001b[0m\u001b[0m\n\u001b[1;32m   1333\u001b[0m                 \u001b[0mself\u001b[0m\u001b[0;34m.\u001b[0m\u001b[0mclose\u001b[0m\u001b[0;34m(\u001b[0m\u001b[0;34m)\u001b[0m\u001b[0;34m\u001b[0m\u001b[0m\n",
      "\u001b[0;32m/Users/andy/anaconda/lib/python3.6/http/client.py\u001b[0m in \u001b[0;36mbegin\u001b[0;34m(self)\u001b[0m\n\u001b[1;32m    295\u001b[0m         \u001b[0;31m# read until we get a non-100 response\u001b[0m\u001b[0;34m\u001b[0m\u001b[0;34m\u001b[0m\u001b[0m\n\u001b[1;32m    296\u001b[0m         \u001b[0;32mwhile\u001b[0m \u001b[0;32mTrue\u001b[0m\u001b[0;34m:\u001b[0m\u001b[0;34m\u001b[0m\u001b[0m\n\u001b[0;32m--> 297\u001b[0;31m             \u001b[0mversion\u001b[0m\u001b[0;34m,\u001b[0m \u001b[0mstatus\u001b[0m\u001b[0;34m,\u001b[0m \u001b[0mreason\u001b[0m \u001b[0;34m=\u001b[0m \u001b[0mself\u001b[0m\u001b[0;34m.\u001b[0m\u001b[0m_read_status\u001b[0m\u001b[0;34m(\u001b[0m\u001b[0;34m)\u001b[0m\u001b[0;34m\u001b[0m\u001b[0m\n\u001b[0m\u001b[1;32m    298\u001b[0m             \u001b[0;32mif\u001b[0m \u001b[0mstatus\u001b[0m \u001b[0;34m!=\u001b[0m \u001b[0mCONTINUE\u001b[0m\u001b[0;34m:\u001b[0m\u001b[0;34m\u001b[0m\u001b[0m\n\u001b[1;32m    299\u001b[0m                 \u001b[0;32mbreak\u001b[0m\u001b[0;34m\u001b[0m\u001b[0m\n",
      "\u001b[0;32m/Users/andy/anaconda/lib/python3.6/http/client.py\u001b[0m in \u001b[0;36m_read_status\u001b[0;34m(self)\u001b[0m\n\u001b[1;32m    256\u001b[0m \u001b[0;34m\u001b[0m\u001b[0m\n\u001b[1;32m    257\u001b[0m     \u001b[0;32mdef\u001b[0m \u001b[0m_read_status\u001b[0m\u001b[0;34m(\u001b[0m\u001b[0mself\u001b[0m\u001b[0;34m)\u001b[0m\u001b[0;34m:\u001b[0m\u001b[0;34m\u001b[0m\u001b[0m\n\u001b[0;32m--> 258\u001b[0;31m         \u001b[0mline\u001b[0m \u001b[0;34m=\u001b[0m \u001b[0mstr\u001b[0m\u001b[0;34m(\u001b[0m\u001b[0mself\u001b[0m\u001b[0;34m.\u001b[0m\u001b[0mfp\u001b[0m\u001b[0;34m.\u001b[0m\u001b[0mreadline\u001b[0m\u001b[0;34m(\u001b[0m\u001b[0m_MAXLINE\u001b[0m \u001b[0;34m+\u001b[0m \u001b[0;36m1\u001b[0m\u001b[0;34m)\u001b[0m\u001b[0;34m,\u001b[0m \u001b[0;34m\"iso-8859-1\"\u001b[0m\u001b[0;34m)\u001b[0m\u001b[0;34m\u001b[0m\u001b[0m\n\u001b[0m\u001b[1;32m    259\u001b[0m         \u001b[0;32mif\u001b[0m \u001b[0mlen\u001b[0m\u001b[0;34m(\u001b[0m\u001b[0mline\u001b[0m\u001b[0;34m)\u001b[0m \u001b[0;34m>\u001b[0m \u001b[0m_MAXLINE\u001b[0m\u001b[0;34m:\u001b[0m\u001b[0;34m\u001b[0m\u001b[0m\n\u001b[1;32m    260\u001b[0m             \u001b[0;32mraise\u001b[0m \u001b[0mLineTooLong\u001b[0m\u001b[0;34m(\u001b[0m\u001b[0;34m\"status line\"\u001b[0m\u001b[0;34m)\u001b[0m\u001b[0;34m\u001b[0m\u001b[0m\n",
      "\u001b[0;32m/Users/andy/anaconda/lib/python3.6/socket.py\u001b[0m in \u001b[0;36mreadinto\u001b[0;34m(self, b)\u001b[0m\n\u001b[1;32m    584\u001b[0m         \u001b[0;32mwhile\u001b[0m \u001b[0;32mTrue\u001b[0m\u001b[0;34m:\u001b[0m\u001b[0;34m\u001b[0m\u001b[0m\n\u001b[1;32m    585\u001b[0m             \u001b[0;32mtry\u001b[0m\u001b[0;34m:\u001b[0m\u001b[0;34m\u001b[0m\u001b[0m\n\u001b[0;32m--> 586\u001b[0;31m                 \u001b[0;32mreturn\u001b[0m \u001b[0mself\u001b[0m\u001b[0;34m.\u001b[0m\u001b[0m_sock\u001b[0m\u001b[0;34m.\u001b[0m\u001b[0mrecv_into\u001b[0m\u001b[0;34m(\u001b[0m\u001b[0mb\u001b[0m\u001b[0;34m)\u001b[0m\u001b[0;34m\u001b[0m\u001b[0m\n\u001b[0m\u001b[1;32m    587\u001b[0m             \u001b[0;32mexcept\u001b[0m \u001b[0mtimeout\u001b[0m\u001b[0;34m:\u001b[0m\u001b[0;34m\u001b[0m\u001b[0m\n\u001b[1;32m    588\u001b[0m                 \u001b[0mself\u001b[0m\u001b[0;34m.\u001b[0m\u001b[0m_timeout_occurred\u001b[0m \u001b[0;34m=\u001b[0m \u001b[0;32mTrue\u001b[0m\u001b[0;34m\u001b[0m\u001b[0m\n",
      "\u001b[0;32m/Users/andy/anaconda/lib/python3.6/site-packages/urllib3/contrib/pyopenssl.py\u001b[0m in \u001b[0;36mrecv_into\u001b[0;34m(self, *args, **kwargs)\u001b[0m\n\u001b[1;32m    275\u001b[0m     \u001b[0;32mdef\u001b[0m \u001b[0mrecv_into\u001b[0m\u001b[0;34m(\u001b[0m\u001b[0mself\u001b[0m\u001b[0;34m,\u001b[0m \u001b[0;34m*\u001b[0m\u001b[0margs\u001b[0m\u001b[0;34m,\u001b[0m \u001b[0;34m**\u001b[0m\u001b[0mkwargs\u001b[0m\u001b[0;34m)\u001b[0m\u001b[0;34m:\u001b[0m\u001b[0;34m\u001b[0m\u001b[0m\n\u001b[1;32m    276\u001b[0m         \u001b[0;32mtry\u001b[0m\u001b[0;34m:\u001b[0m\u001b[0;34m\u001b[0m\u001b[0m\n\u001b[0;32m--> 277\u001b[0;31m             \u001b[0;32mreturn\u001b[0m \u001b[0mself\u001b[0m\u001b[0;34m.\u001b[0m\u001b[0mconnection\u001b[0m\u001b[0;34m.\u001b[0m\u001b[0mrecv_into\u001b[0m\u001b[0;34m(\u001b[0m\u001b[0;34m*\u001b[0m\u001b[0margs\u001b[0m\u001b[0;34m,\u001b[0m \u001b[0;34m**\u001b[0m\u001b[0mkwargs\u001b[0m\u001b[0;34m)\u001b[0m\u001b[0;34m\u001b[0m\u001b[0m\n\u001b[0m\u001b[1;32m    278\u001b[0m         \u001b[0;32mexcept\u001b[0m \u001b[0mOpenSSL\u001b[0m\u001b[0;34m.\u001b[0m\u001b[0mSSL\u001b[0m\u001b[0;34m.\u001b[0m\u001b[0mSysCallError\u001b[0m \u001b[0;32mas\u001b[0m \u001b[0me\u001b[0m\u001b[0;34m:\u001b[0m\u001b[0;34m\u001b[0m\u001b[0m\n\u001b[1;32m    279\u001b[0m             \u001b[0;32mif\u001b[0m \u001b[0mself\u001b[0m\u001b[0;34m.\u001b[0m\u001b[0msuppress_ragged_eofs\u001b[0m \u001b[0;32mand\u001b[0m \u001b[0me\u001b[0m\u001b[0;34m.\u001b[0m\u001b[0margs\u001b[0m \u001b[0;34m==\u001b[0m \u001b[0;34m(\u001b[0m\u001b[0;34m-\u001b[0m\u001b[0;36m1\u001b[0m\u001b[0;34m,\u001b[0m \u001b[0;34m'Unexpected EOF'\u001b[0m\u001b[0;34m)\u001b[0m\u001b[0;34m:\u001b[0m\u001b[0;34m\u001b[0m\u001b[0m\n",
      "\u001b[0;32m/Users/andy/anaconda/lib/python3.6/site-packages/OpenSSL/SSL.py\u001b[0m in \u001b[0;36mrecv_into\u001b[0;34m(self, buffer, nbytes, flags)\u001b[0m\n\u001b[1;32m   1332\u001b[0m             \u001b[0mresult\u001b[0m \u001b[0;34m=\u001b[0m \u001b[0m_lib\u001b[0m\u001b[0;34m.\u001b[0m\u001b[0mSSL_peek\u001b[0m\u001b[0;34m(\u001b[0m\u001b[0mself\u001b[0m\u001b[0;34m.\u001b[0m\u001b[0m_ssl\u001b[0m\u001b[0;34m,\u001b[0m \u001b[0mbuf\u001b[0m\u001b[0;34m,\u001b[0m \u001b[0mnbytes\u001b[0m\u001b[0;34m)\u001b[0m\u001b[0;34m\u001b[0m\u001b[0m\n\u001b[1;32m   1333\u001b[0m         \u001b[0;32melse\u001b[0m\u001b[0;34m:\u001b[0m\u001b[0;34m\u001b[0m\u001b[0m\n\u001b[0;32m-> 1334\u001b[0;31m             \u001b[0mresult\u001b[0m \u001b[0;34m=\u001b[0m \u001b[0m_lib\u001b[0m\u001b[0;34m.\u001b[0m\u001b[0mSSL_read\u001b[0m\u001b[0;34m(\u001b[0m\u001b[0mself\u001b[0m\u001b[0;34m.\u001b[0m\u001b[0m_ssl\u001b[0m\u001b[0;34m,\u001b[0m \u001b[0mbuf\u001b[0m\u001b[0;34m,\u001b[0m \u001b[0mnbytes\u001b[0m\u001b[0;34m)\u001b[0m\u001b[0;34m\u001b[0m\u001b[0m\n\u001b[0m\u001b[1;32m   1335\u001b[0m         \u001b[0mself\u001b[0m\u001b[0;34m.\u001b[0m\u001b[0m_raise_ssl_error\u001b[0m\u001b[0;34m(\u001b[0m\u001b[0mself\u001b[0m\u001b[0;34m.\u001b[0m\u001b[0m_ssl\u001b[0m\u001b[0;34m,\u001b[0m \u001b[0mresult\u001b[0m\u001b[0;34m)\u001b[0m\u001b[0;34m\u001b[0m\u001b[0m\n\u001b[1;32m   1336\u001b[0m \u001b[0;34m\u001b[0m\u001b[0m\n",
      "\u001b[0;31mKeyboardInterrupt\u001b[0m: "
     ]
    }
   ],
   "source": [
    "res = requests.get(\"https://www.ptt.cc/bbs/Baseball/index7903.html\")\n",
    "soup = BeautifulSoup(res.text)\n",
    "for i in soup.select(\".title\"):\n",
    "    res2 = requests.get(\"https://www.ptt.cc\"+i('a')[0]['href'])\n",
    "    soup2 = BeautifulSoup(res2.text)\n",
    "    print(soup2.select(\".article-meta-value\")[0].text)\n",
    "    print(soup2.select(\".article-meta-value\")[1].text)\n",
    "    print(soup2.select(\".article-meta-value\")[2].text)\n",
    "    print(soup2.select(\".article-meta-value\")[3].text)\n",
    "    print(soup2.select(\"#main-content\")[0].text.split(\"※\")[0].split(soup2.select(\".article-meta-value\")[3].text)[1])"
   ]
  },
  {
   "cell_type": "markdown",
   "metadata": {},
   "source": [
    "將爬取到的資訊存成excel or csv檔"
   ]
  },
  {
   "cell_type": "code",
   "execution_count": 7,
   "metadata": {
    "collapsed": false
   },
   "outputs": [
    {
     "name": "stderr",
     "output_type": "stream",
     "text": [
      "/Users/andy/anaconda/lib/python3.6/site-packages/bs4/__init__.py:181: UserWarning: No parser was explicitly specified, so I'm using the best available HTML parser for this system (\"lxml\"). This usually isn't a problem, but if you run this code on another system, or in a different virtual environment, it may use a different parser and behave differently.\n",
      "\n",
      "The code that caused this warning is on line 193 of the file /Users/andy/anaconda/lib/python3.6/runpy.py. To get rid of this warning, change code that looks like this:\n",
      "\n",
      " BeautifulSoup(YOUR_MARKUP})\n",
      "\n",
      "to this:\n",
      "\n",
      " BeautifulSoup(YOUR_MARKUP, \"lxml\")\n",
      "\n",
      "  markup_type=markup_type))\n"
     ]
    }
   ],
   "source": [
    "author, board, title, time, content = [], [], [], [], []\n",
    "res = requests.get(\"https://www.ptt.cc/bbs/Baseball/index7903.html\")\n",
    "soup = BeautifulSoup(res.text)\n",
    "for i in soup.select(\".title\"):\n",
    "    res2 = requests.get(\"https://www.ptt.cc\"+i('a')[0]['href'])\n",
    "    soup2 = BeautifulSoup(res2.text)\n",
    "    author.append(soup2.select(\".article-meta-value\")[0].text)\n",
    "    board.append(soup2.select(\".article-meta-value\")[1].text)\n",
    "    title.append(soup2.select(\".article-meta-value\")[2].text)\n",
    "    time.append(soup2.select(\".article-meta-value\")[3].text)\n",
    "    content.append(soup2.select(\"#main-content\")[0].text.split(\"※\")[0].split(time[-1])[1])"
   ]
  },
  {
   "cell_type": "code",
   "execution_count": 11,
   "metadata": {
    "collapsed": false,
    "scrolled": false
   },
   "outputs": [],
   "source": [
    "ptt_baseball = list(zip(author, board, title, time, content))"
   ]
  },
  {
   "cell_type": "code",
   "execution_count": 15,
   "metadata": {
    "collapsed": false
   },
   "outputs": [],
   "source": [
    "import pandas as pd\n",
    "df = pd.DataFrame(ptt_baseball, columns=['作者','看板','標題','時間','內文'])"
   ]
  },
  {
   "cell_type": "code",
   "execution_count": 16,
   "metadata": {
    "collapsed": false
   },
   "outputs": [
    {
     "data": {
      "text/html": [
       "<div>\n",
       "<style>\n",
       "    .dataframe thead tr:only-child th {\n",
       "        text-align: right;\n",
       "    }\n",
       "\n",
       "    .dataframe thead th {\n",
       "        text-align: left;\n",
       "    }\n",
       "\n",
       "    .dataframe tbody tr th {\n",
       "        vertical-align: top;\n",
       "    }\n",
       "</style>\n",
       "<table border=\"1\" class=\"dataframe\">\n",
       "  <thead>\n",
       "    <tr style=\"text-align: right;\">\n",
       "      <th></th>\n",
       "      <th>作者</th>\n",
       "      <th>看板</th>\n",
       "      <th>標題</th>\n",
       "      <th>時間</th>\n",
       "      <th>內文</th>\n",
       "    </tr>\n",
       "  </thead>\n",
       "  <tbody>\n",
       "    <tr>\n",
       "      <th>0</th>\n",
       "      <td>t72312 (t7231)</td>\n",
       "      <td>Baseball</td>\n",
       "      <td>[炸裂] SOTO</td>\n",
       "      <td>Sat Jul 28 17:53:49 2018</td>\n",
       "      <td>\\n橫濱攻擊型二棒SOTO在三局上打出逆轉兩分砲\\n\\n本季第16發\\n\\n棒打大瀨良\\n\\...</td>\n",
       "    </tr>\n",
       "    <tr>\n",
       "      <th>1</th>\n",
       "      <td>pchion2013 (你好有事ㄇ)</td>\n",
       "      <td>Baseball</td>\n",
       "      <td>[閒聊] 被耽誤的傳奇球員 林智勝</td>\n",
       "      <td>Sat Jul 28 18:03:54 2018</td>\n",
       "      <td>\\n\\n林智勝在去年一整年在二軍調整\\n\\n季末到澳洲幫助俠盜隊拿下冠軍\\n\\n今年因傷在二...</td>\n",
       "    </tr>\n",
       "    <tr>\n",
       "      <th>2</th>\n",
       "      <td>suzhou (☂☁☁☁☂)</td>\n",
       "      <td>Baseball</td>\n",
       "      <td>[問題] 新莊球場附近有推薦的炸物配啤酒嗎</td>\n",
       "      <td>Sat Jul 28 18:05:58 2018</td>\n",
       "      <td>\\n這兩天想去新莊球場那邊看球\\n新莊體育公園附近有推薦的炸物店或是炸物攤嗎？\\n想去買兩手...</td>\n",
       "    </tr>\n",
       "    <tr>\n",
       "      <th>3</th>\n",
       "      <td>st900278</td>\n",
       "      <td>Baseball</td>\n",
       "      <td>[公告] Baseball 板 開始舉辦樂透!</td>\n",
       "      <td>Sat Jul 28 18:16:49 2018</td>\n",
       "      <td>\\nMLB\\n請到 Baseball 板 按'f'參與樂透!\\n\\n一張 100 Ptt幣 ...</td>\n",
       "    </tr>\n",
       "    <tr>\n",
       "      <th>4</th>\n",
       "      <td>kman5566 (Kman)</td>\n",
       "      <td>Baseball</td>\n",
       "      <td>[新聞] 中信兄弟補強後勤支援 請來左投餵球投手</td>\n",
       "      <td>Sat Jul 28 18:21:01 2018</td>\n",
       "      <td>\\n中信兄弟補強後勤支援 請來左投餵球投手\\n\\n〔記者林宥辰／新北報導〕中信兄弟近日賽前打...</td>\n",
       "    </tr>\n",
       "    <tr>\n",
       "      <th>5</th>\n",
       "      <td>liming1312 (bgxuan)</td>\n",
       "      <td>Baseball</td>\n",
       "      <td>[炸裂] 詹子賢</td>\n",
       "      <td>Sat Jul 28 18:29:11 2018</td>\n",
       "      <td>\\n\\n炸拉\\n我在現場球還在飛 又高又遠 全壘打拉\\n第一次搶到炸裂文\\n謝謝大家 好興奮...</td>\n",
       "    </tr>\n",
       "    <tr>\n",
       "      <th>6</th>\n",
       "      <td>saiulbb (Becky♪＃是我的拉!)</td>\n",
       "      <td>Baseball</td>\n",
       "      <td>[新聞] Sale勝投被搞砸　Betts生涯首度再見轟</td>\n",
       "      <td>Sat Jul 28 18:41:12 2018</td>\n",
       "      <td>\\n1. 新聞來源：\\n\\nTSNA\\n\\n2. 新聞標題：\\n\\nSale勝投被搞砸　Be...</td>\n",
       "    </tr>\n",
       "    <tr>\n",
       "      <th>7</th>\n",
       "      <td>saiulbb (Becky♪＃是我的拉!)</td>\n",
       "      <td>Baseball</td>\n",
       "      <td>[新聞] 投打二刀流演出　Kershaw稱幸運</td>\n",
       "      <td>Sat Jul 28 18:41:12 2018</td>\n",
       "      <td>\\n1. 新聞來源：\\n\\nTSNA\\n\\n2. 新聞標題：\\n\\n投打二刀流演出　Kers...</td>\n",
       "    </tr>\n",
       "    <tr>\n",
       "      <th>8</th>\n",
       "      <td>saiulbb (Becky♪＃是我的拉!)</td>\n",
       "      <td>Baseball</td>\n",
       "      <td>[新聞] Scherzer壽星宰制　Soto成120年來第1人</td>\n",
       "      <td>Sat Jul 28 18:41:13 2018</td>\n",
       "      <td>\\n1. 新聞來源：\\n\\nTSNA\\n\\n2. 新聞標題：\\n\\nScherzer壽星宰制...</td>\n",
       "    </tr>\n",
       "    <tr>\n",
       "      <th>9</th>\n",
       "      <td>thnlkj0665 (灰色地帶)</td>\n",
       "      <td>Baseball</td>\n",
       "      <td>[新聞] 婉拒自培機會　吳桀睿等1年翻身披獅袍</td>\n",
       "      <td>Sat Jul 28 18:55:09 2018</td>\n",
       "      <td>\\n 中職／婉拒自培機會　吳桀睿等1年翻身披獅袍 \\n\\n記者王真魚／桃園報導\\n\\n統一獅...</td>\n",
       "    </tr>\n",
       "    <tr>\n",
       "      <th>10</th>\n",
       "      <td>pttpepe (Ptt屁屁)</td>\n",
       "      <td>Baseball</td>\n",
       "      <td>[新聞] 中職季中選秀狀元戴培峰　談約陷入僵局</td>\n",
       "      <td>Sat Jul 28 18:55:18 2018</td>\n",
       "      <td>\\n富邦悍將今年季中選秀第一指名的選秀狀元戴培峰，因為合約問題尚未跟富邦悍將簽約，\\n據了解...</td>\n",
       "    </tr>\n",
       "    <tr>\n",
       "      <th>11</th>\n",
       "      <td>Rujki (若奇)</td>\n",
       "      <td>Baseball</td>\n",
       "      <td>[分享] 今天辣蜜趴開場有趣片段</td>\n",
       "      <td>Sat Jul 28 19:01:36 2018</td>\n",
       "      <td>\\n大家好\\n小弟有一段時間沒進球場看球了\\n衝著這次辣蜜趴買了票\\n中場的時候簡單的小剪了...</td>\n",
       "    </tr>\n",
       "    <tr>\n",
       "      <th>12</th>\n",
       "      <td>cweilun (lunlun)</td>\n",
       "      <td>Baseball</td>\n",
       "      <td>[問題] 王威晨是中職Turner嗎？</td>\n",
       "      <td>Sat Jul 28 19:04:12 2018</td>\n",
       "      <td>\\n\\n如題\\n兩人相似處真的太高\\n26歲左右的球團重點培養年輕新秀\\n以棒次來說\\n兩人...</td>\n",
       "    </tr>\n",
       "    <tr>\n",
       "      <th>13</th>\n",
       "      <td>pttpepe (Ptt屁屁)</td>\n",
       "      <td>Baseball</td>\n",
       "      <td>[新聞] 亞運台灣隊打線　蘇智傑、詹子賢輪流扛DH</td>\n",
       "      <td>Sat Jul 28 19:06:37 2018</td>\n",
       "      <td>\\n印尼雅加達亞運下月26日開打，台灣隊總教練許順益除了對投手群已有初步規劃外，打線\\n與守...</td>\n",
       "    </tr>\n",
       "    <tr>\n",
       "      <th>14</th>\n",
       "      <td>hbk20491 (〥夢中情一場夢〥)</td>\n",
       "      <td>Baseball</td>\n",
       "      <td>[新聞] 李宗賢摸索游擊區　富邦考慮輪替制</td>\n",
       "      <td>Sat Jul 28 19:07:01 2018</td>\n",
       "      <td>\\n李宗賢摸索游擊區　富邦考慮輪替制\\n\\n記者陳立勳／新莊報導\\n\\n富邦悍將內野手李宗賢...</td>\n",
       "    </tr>\n",
       "    <tr>\n",
       "      <th>15</th>\n",
       "      <td>saiulbb (Becky♪＃是我的拉!)</td>\n",
       "      <td>Baseball</td>\n",
       "      <td>[新聞] 興奮加入小熊　Hamels期待前進季後賽</td>\n",
       "      <td>Sat Jul 28 19:16:39 2018</td>\n",
       "      <td>\\n1. 新聞來源：\\n\\nTSNA\\n\\n2. 新聞標題：\\n\\n興奮加入小熊　Hamel...</td>\n",
       "    </tr>\n",
       "    <tr>\n",
       "      <th>16</th>\n",
       "      <td>saiulbb (Becky♪＃是我的拉!)</td>\n",
       "      <td>Baseball</td>\n",
       "      <td>[新聞] Judge手腕骨折　洋基有信心繼續贏</td>\n",
       "      <td>Sat Jul 28 19:16:39 2018</td>\n",
       "      <td>\\n1. 新聞來源：\\n\\nTSNA\\n\\n2. 新聞標題：\\n\\nJudge手腕骨折　洋基...</td>\n",
       "    </tr>\n",
       "    <tr>\n",
       "      <th>17</th>\n",
       "      <td>pttpepe (Ptt屁屁)</td>\n",
       "      <td>Baseball</td>\n",
       "      <td>[新聞] 林智勝轉換角色學會思考 生涯1500安不多</td>\n",
       "      <td>Sat Jul 28 19:33:46 2018</td>\n",
       "      <td>\\n中職中信兄弟隊林智勝，本季出賽角色轉變，目前一軍僅敲7安，距離生涯1500安還差8安\\n...</td>\n",
       "    </tr>\n",
       "    <tr>\n",
       "      <th>18</th>\n",
       "      <td>kiske011 (風一樣的男子)</td>\n",
       "      <td>Baseball</td>\n",
       "      <td>[閒聊] 美職本季最強運的投手</td>\n",
       "      <td>Sat Jul 28 19:35:11 2018</td>\n",
       "      <td>\\n\\n我條的Gallardo是本季最強運投手嗎?\\n\\n截至最近一次先發的成績\\n\\nGa...</td>\n",
       "    </tr>\n",
       "    <tr>\n",
       "      <th>19</th>\n",
       "      <td>takizawahide (Val Valentino)</td>\n",
       "      <td>Baseball</td>\n",
       "      <td>[閒聊] 為何張志豪人氣不如詹子賢和陳子豪?</td>\n",
       "      <td>Sat Jul 28 20:03:07 2018</td>\n",
       "      <td>\\n\\n好歹也是全壘打王   而且各項數據在中信也算名前茅\\n\\n但是感覺他的人氣很低  討...</td>\n",
       "    </tr>\n",
       "  </tbody>\n",
       "</table>\n",
       "</div>"
      ],
      "text/plain": [
       "                              作者        看板                               標題  \\\n",
       "0                 t72312 (t7231)  Baseball                        [炸裂] SOTO   \n",
       "1             pchion2013 (你好有事ㄇ)  Baseball                [閒聊] 被耽誤的傳奇球員 林智勝   \n",
       "2                 suzhou (☂☁☁☁☂)  Baseball            [問題] 新莊球場附近有推薦的炸物配啤酒嗎   \n",
       "3                       st900278  Baseball         [公告] Baseball 板 開始舉辦樂透!    \n",
       "4                kman5566 (Kman)  Baseball         [新聞] 中信兄弟補強後勤支援 請來左投餵球投手   \n",
       "5            liming1312 (bgxuan)  Baseball                         [炸裂] 詹子賢   \n",
       "6         saiulbb (Becky♪＃是我的拉!)  Baseball      [新聞] Sale勝投被搞砸　Betts生涯首度再見轟   \n",
       "7         saiulbb (Becky♪＃是我的拉!)  Baseball          [新聞] 投打二刀流演出　Kershaw稱幸運   \n",
       "8         saiulbb (Becky♪＃是我的拉!)  Baseball  [新聞] Scherzer壽星宰制　Soto成120年來第1人   \n",
       "9              thnlkj0665 (灰色地帶)  Baseball          [新聞] 婉拒自培機會　吳桀睿等1年翻身披獅袍   \n",
       "10               pttpepe (Ptt屁屁)  Baseball          [新聞] 中職季中選秀狀元戴培峰　談約陷入僵局   \n",
       "11                    Rujki (若奇)  Baseball                 [分享] 今天辣蜜趴開場有趣片段   \n",
       "12              cweilun (lunlun)  Baseball              [問題] 王威晨是中職Turner嗎？   \n",
       "13               pttpepe (Ptt屁屁)  Baseball        [新聞] 亞運台灣隊打線　蘇智傑、詹子賢輪流扛DH   \n",
       "14           hbk20491 (〥夢中情一場夢〥)  Baseball            [新聞] 李宗賢摸索游擊區　富邦考慮輪替制   \n",
       "15        saiulbb (Becky♪＃是我的拉!)  Baseball        [新聞] 興奮加入小熊　Hamels期待前進季後賽   \n",
       "16        saiulbb (Becky♪＃是我的拉!)  Baseball          [新聞] Judge手腕骨折　洋基有信心繼續贏   \n",
       "17               pttpepe (Ptt屁屁)  Baseball       [新聞] 林智勝轉換角色學會思考 生涯1500安不多   \n",
       "18             kiske011 (風一樣的男子)  Baseball                  [閒聊] 美職本季最強運的投手   \n",
       "19  takizawahide (Val Valentino)  Baseball           [閒聊] 為何張志豪人氣不如詹子賢和陳子豪?   \n",
       "\n",
       "                          時間  \\\n",
       "0   Sat Jul 28 17:53:49 2018   \n",
       "1   Sat Jul 28 18:03:54 2018   \n",
       "2   Sat Jul 28 18:05:58 2018   \n",
       "3   Sat Jul 28 18:16:49 2018   \n",
       "4   Sat Jul 28 18:21:01 2018   \n",
       "5   Sat Jul 28 18:29:11 2018   \n",
       "6   Sat Jul 28 18:41:12 2018   \n",
       "7   Sat Jul 28 18:41:12 2018   \n",
       "8   Sat Jul 28 18:41:13 2018   \n",
       "9   Sat Jul 28 18:55:09 2018   \n",
       "10  Sat Jul 28 18:55:18 2018   \n",
       "11  Sat Jul 28 19:01:36 2018   \n",
       "12  Sat Jul 28 19:04:12 2018   \n",
       "13  Sat Jul 28 19:06:37 2018   \n",
       "14  Sat Jul 28 19:07:01 2018   \n",
       "15  Sat Jul 28 19:16:39 2018   \n",
       "16  Sat Jul 28 19:16:39 2018   \n",
       "17  Sat Jul 28 19:33:46 2018   \n",
       "18  Sat Jul 28 19:35:11 2018   \n",
       "19  Sat Jul 28 20:03:07 2018   \n",
       "\n",
       "                                                   內文  \n",
       "0   \\n橫濱攻擊型二棒SOTO在三局上打出逆轉兩分砲\\n\\n本季第16發\\n\\n棒打大瀨良\\n\\...  \n",
       "1   \\n\\n林智勝在去年一整年在二軍調整\\n\\n季末到澳洲幫助俠盜隊拿下冠軍\\n\\n今年因傷在二...  \n",
       "2   \\n這兩天想去新莊球場那邊看球\\n新莊體育公園附近有推薦的炸物店或是炸物攤嗎？\\n想去買兩手...  \n",
       "3   \\nMLB\\n請到 Baseball 板 按'f'參與樂透!\\n\\n一張 100 Ptt幣 ...  \n",
       "4   \\n中信兄弟補強後勤支援 請來左投餵球投手\\n\\n〔記者林宥辰／新北報導〕中信兄弟近日賽前打...  \n",
       "5   \\n\\n炸拉\\n我在現場球還在飛 又高又遠 全壘打拉\\n第一次搶到炸裂文\\n謝謝大家 好興奮...  \n",
       "6   \\n1. 新聞來源：\\n\\nTSNA\\n\\n2. 新聞標題：\\n\\nSale勝投被搞砸　Be...  \n",
       "7   \\n1. 新聞來源：\\n\\nTSNA\\n\\n2. 新聞標題：\\n\\n投打二刀流演出　Kers...  \n",
       "8   \\n1. 新聞來源：\\n\\nTSNA\\n\\n2. 新聞標題：\\n\\nScherzer壽星宰制...  \n",
       "9   \\n 中職／婉拒自培機會　吳桀睿等1年翻身披獅袍 \\n\\n記者王真魚／桃園報導\\n\\n統一獅...  \n",
       "10  \\n富邦悍將今年季中選秀第一指名的選秀狀元戴培峰，因為合約問題尚未跟富邦悍將簽約，\\n據了解...  \n",
       "11  \\n大家好\\n小弟有一段時間沒進球場看球了\\n衝著這次辣蜜趴買了票\\n中場的時候簡單的小剪了...  \n",
       "12  \\n\\n如題\\n兩人相似處真的太高\\n26歲左右的球團重點培養年輕新秀\\n以棒次來說\\n兩人...  \n",
       "13  \\n印尼雅加達亞運下月26日開打，台灣隊總教練許順益除了對投手群已有初步規劃外，打線\\n與守...  \n",
       "14  \\n李宗賢摸索游擊區　富邦考慮輪替制\\n\\n記者陳立勳／新莊報導\\n\\n富邦悍將內野手李宗賢...  \n",
       "15  \\n1. 新聞來源：\\n\\nTSNA\\n\\n2. 新聞標題：\\n\\n興奮加入小熊　Hamel...  \n",
       "16  \\n1. 新聞來源：\\n\\nTSNA\\n\\n2. 新聞標題：\\n\\nJudge手腕骨折　洋基...  \n",
       "17  \\n中職中信兄弟隊林智勝，本季出賽角色轉變，目前一軍僅敲7安，距離生涯1500安還差8安\\n...  \n",
       "18  \\n\\n我條的Gallardo是本季最強運投手嗎?\\n\\n截至最近一次先發的成績\\n\\nGa...  \n",
       "19  \\n\\n好歹也是全壘打王   而且各項數據在中信也算名前茅\\n\\n但是感覺他的人氣很低  討...  "
      ]
     },
     "execution_count": 16,
     "metadata": {},
     "output_type": "execute_result"
    }
   ],
   "source": [
    "df"
   ]
  },
  {
   "cell_type": "code",
   "execution_count": 17,
   "metadata": {
    "collapsed": true
   },
   "outputs": [],
   "source": [
    "df.to_excel(\"PTT棒球版爬蟲.xlsx\")"
   ]
  },
  {
   "cell_type": "markdown",
   "metadata": {},
   "source": [
    "回家練習"
   ]
  },
  {
   "cell_type": "code",
   "execution_count": null,
   "metadata": {
    "collapsed": true
   },
   "outputs": [],
   "source": [
    "start = \n",
    "end = \n",
    "author, board, title, time, content = [], [], [], [], []\n",
    "for i in tqdm(range(start, end)):\n",
    "    res = requests.get(\"https://www.ptt.cc/bbs/Baseball/index\"+str(i)+\".html\")\n",
    "    soup = BeautifulSoup(res.text)\n",
    "    for i in soup.select(\".title\"):\n",
    "        res2 = requests.get(\"https://www.ptt.cc\"+i('a')[0]['href'])\n",
    "        soup2 = BeautifulSoup(res2.text)\n",
    "        author.append(soup2.select(\".article-meta-value\")[0].text)\n",
    "        board.append(soup2.select(\".article-meta-value\")[1].text)\n",
    "        title.append(soup2.select(\".article-meta-value\")[2].text)\n",
    "        time.append(soup2.select(\".article-meta-value\")[3].text)\n",
    "        content.append(soup2.select(\"#main-content\")[0].text.split(\"※\")[0].split(time[-1])[1])"
   ]
  }
 ],
 "metadata": {
  "kernelspec": {
   "display_name": "Python 3",
   "language": "python",
   "name": "python3"
  },
  "language_info": {
   "codemirror_mode": {
    "name": "ipython",
    "version": 3
   },
   "file_extension": ".py",
   "mimetype": "text/x-python",
   "name": "python",
   "nbconvert_exporter": "python",
   "pygments_lexer": "ipython3",
   "version": "3.6.3"
  }
 },
 "nbformat": 4,
 "nbformat_minor": 2
}
