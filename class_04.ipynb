{
 "cells": [
  {
   "cell_type": "markdown",
   "metadata": {},
   "source": [
    "# 1. python套件介紹"
   ]
  },
  {
   "cell_type": "markdown",
   "metadata": {},
   "source": [
    "安裝套件"
   ]
  },
  {
   "cell_type": "code",
   "execution_count": 2,
   "metadata": {
    "collapsed": false
   },
   "outputs": [
    {
     "name": "stdout",
     "output_type": "stream",
     "text": [
      "Requirement already satisfied: pandas in /Users/andy/anaconda/lib/python3.6/site-packages (0.20.3)\n",
      "Requirement already satisfied: python-dateutil>=2 in /Users/andy/anaconda/lib/python3.6/site-packages (from pandas) (2.6.1)\n",
      "Requirement already satisfied: pytz>=2011k in /Users/andy/anaconda/lib/python3.6/site-packages (from pandas) (2018.3)\n",
      "Requirement already satisfied: numpy>=1.7.0 in /Users/andy/anaconda/lib/python3.6/site-packages (from pandas) (1.14.0)\n",
      "Requirement already satisfied: six>=1.5 in /Users/andy/anaconda/lib/python3.6/site-packages (from python-dateutil>=2->pandas) (1.11.0)\n"
     ]
    }
   ],
   "source": [
    "!pip install pandas"
   ]
  },
  {
   "cell_type": "markdown",
   "metadata": {},
   "source": [
    "匯入套件"
   ]
  },
  {
   "cell_type": "code",
   "execution_count": 4,
   "metadata": {
    "collapsed": true
   },
   "outputs": [],
   "source": [
    "import pandas"
   ]
  },
  {
   "cell_type": "code",
   "execution_count": 2,
   "metadata": {
    "collapsed": true
   },
   "outputs": [],
   "source": [
    "import pandas as pd"
   ]
  },
  {
   "cell_type": "code",
   "execution_count": 10,
   "metadata": {
    "collapsed": true
   },
   "outputs": [],
   "source": [
    "from pandas import *"
   ]
  },
  {
   "cell_type": "code",
   "execution_count": 6,
   "metadata": {
    "collapsed": true
   },
   "outputs": [],
   "source": [
    "from pandas import DataFrame"
   ]
  },
  {
   "cell_type": "markdown",
   "metadata": {},
   "source": [
    "# 2. Pandas"
   ]
  },
  {
   "cell_type": "code",
   "execution_count": 1,
   "metadata": {
    "collapsed": true
   },
   "outputs": [],
   "source": [
    "import pandas as pd"
   ]
  },
  {
   "cell_type": "markdown",
   "metadata": {},
   "source": [
    "Pandas結構 (structure)"
   ]
  },
  {
   "cell_type": "code",
   "execution_count": 2,
   "metadata": {
    "collapsed": false
   },
   "outputs": [
    {
     "name": "stdout",
     "output_type": "stream",
     "text": [
      "<class 'pandas.core.series.Series'>\n",
      "<class 'pandas.core.frame.DataFrame'>\n",
      "<class 'pandas.core.panel.Panel'>\n"
     ]
    }
   ],
   "source": [
    "print(type(pd.Series()))\n",
    "print(type(pd.DataFrame()))\n",
    "print(type(pd.Panel()))"
   ]
  },
  {
   "cell_type": "markdown",
   "metadata": {},
   "source": [
    "匯入外部檔案 (Read Data)"
   ]
  },
  {
   "cell_type": "markdown",
   "metadata": {},
   "source": [
    "csv"
   ]
  },
  {
   "cell_type": "code",
   "execution_count": 3,
   "metadata": {
    "collapsed": false
   },
   "outputs": [],
   "source": [
    "data = pd.read_csv(\"data.csv\")"
   ]
  },
  {
   "cell_type": "code",
   "execution_count": 4,
   "metadata": {
    "collapsed": false,
    "scrolled": false
   },
   "outputs": [
    {
     "data": {
      "text/html": [
       "<div>\n",
       "<style>\n",
       "    .dataframe thead tr:only-child th {\n",
       "        text-align: right;\n",
       "    }\n",
       "\n",
       "    .dataframe thead th {\n",
       "        text-align: left;\n",
       "    }\n",
       "\n",
       "    .dataframe tbody tr th {\n",
       "        vertical-align: top;\n",
       "    }\n",
       "</style>\n",
       "<table border=\"1\" class=\"dataframe\">\n",
       "  <thead>\n",
       "    <tr style=\"text-align: right;\">\n",
       "      <th></th>\n",
       "      <th>county</th>\n",
       "      <th>town</th>\n",
       "      <th>name</th>\n",
       "      <th>area</th>\n",
       "      <th>price</th>\n",
       "    </tr>\n",
       "  </thead>\n",
       "  <tbody>\n",
       "    <tr>\n",
       "      <th>0</th>\n",
       "      <td>台北市</td>\n",
       "      <td>中山區</td>\n",
       "      <td>中山北路三段近結運民權西站~靠農安街~有OA家俱~</td>\n",
       "      <td>48.8坪/辦公</td>\n",
       "      <td>58,000元</td>\n",
       "    </tr>\n",
       "  </tbody>\n",
       "</table>\n",
       "</div>"
      ],
      "text/plain": [
       "  county town                       name      area    price\n",
       "0    台北市  中山區  中山北路三段近結運民權西站~靠農安街~有OA家俱~  48.8坪/辦公  58,000元"
      ]
     },
     "execution_count": 4,
     "metadata": {},
     "output_type": "execute_result"
    }
   ],
   "source": [
    "data.head(1)"
   ]
  },
  {
   "cell_type": "code",
   "execution_count": 5,
   "metadata": {
    "collapsed": true
   },
   "outputs": [],
   "source": [
    "File = pd.read_excel(\"Fire.xlsx\")"
   ]
  },
  {
   "cell_type": "code",
   "execution_count": 6,
   "metadata": {
    "collapsed": false,
    "scrolled": false
   },
   "outputs": [
    {
     "data": {
      "text/html": [
       "<div>\n",
       "<style>\n",
       "    .dataframe thead tr:only-child th {\n",
       "        text-align: right;\n",
       "    }\n",
       "\n",
       "    .dataframe thead th {\n",
       "        text-align: left;\n",
       "    }\n",
       "\n",
       "    .dataframe tbody tr th {\n",
       "        vertical-align: top;\n",
       "    }\n",
       "</style>\n",
       "<table border=\"1\" class=\"dataframe\">\n",
       "  <thead>\n",
       "    <tr style=\"text-align: right;\">\n",
       "      <th></th>\n",
       "      <th>年度</th>\n",
       "      <th>區域</th>\n",
       "      <th>男</th>\n",
       "      <th>女</th>\n",
       "      <th>未滿25歲</th>\n",
       "      <th>25-29歲</th>\n",
       "      <th>30-34歲</th>\n",
       "      <th>35-39歲</th>\n",
       "      <th>40-44歲</th>\n",
       "      <th>45-49歲</th>\n",
       "      <th>50-54歲</th>\n",
       "      <th>55-59歲</th>\n",
       "      <th>60-64歲</th>\n",
       "      <th>65歲以上</th>\n",
       "    </tr>\n",
       "  </thead>\n",
       "  <tbody>\n",
       "    <tr>\n",
       "      <th>0</th>\n",
       "      <td>100年</td>\n",
       "      <td>新北市</td>\n",
       "      <td>1833</td>\n",
       "      <td>244</td>\n",
       "      <td>263</td>\n",
       "      <td>880</td>\n",
       "      <td>540</td>\n",
       "      <td>163</td>\n",
       "      <td>93</td>\n",
       "      <td>89</td>\n",
       "      <td>29</td>\n",
       "      <td>15</td>\n",
       "      <td>5</td>\n",
       "      <td>0</td>\n",
       "    </tr>\n",
       "  </tbody>\n",
       "</table>\n",
       "</div>"
      ],
      "text/plain": [
       "  年度　　　   區域     男    女  未滿25歲  25-29歲  30-34歲  35-39歲  40-44歲  45-49歲  \\\n",
       "0  100年  新北市  1833  244    263     880     540     163      93      89   \n",
       "\n",
       "   50-54歲  55-59歲  60-64歲  65歲以上  \n",
       "0      29      15       5      0  "
      ]
     },
     "execution_count": 6,
     "metadata": {},
     "output_type": "execute_result"
    }
   ],
   "source": [
    "File.head(1)"
   ]
  },
  {
   "cell_type": "code",
   "execution_count": 7,
   "metadata": {
    "collapsed": true
   },
   "outputs": [],
   "source": [
    "json = pd.read_json(\"construction.json\")"
   ]
  },
  {
   "cell_type": "code",
   "execution_count": 8,
   "metadata": {
    "collapsed": false,
    "scrolled": false
   },
   "outputs": [
    {
     "data": {
      "text/html": [
       "<div>\n",
       "<style>\n",
       "    .dataframe thead tr:only-child th {\n",
       "        text-align: right;\n",
       "    }\n",
       "\n",
       "    .dataframe thead th {\n",
       "        text-align: left;\n",
       "    }\n",
       "\n",
       "    .dataframe tbody tr th {\n",
       "        vertical-align: top;\n",
       "    }\n",
       "</style>\n",
       "<table border=\"1\" class=\"dataframe\">\n",
       "  <thead>\n",
       "    <tr style=\"text-align: right;\">\n",
       "      <th></th>\n",
       "      <th>AC_NO</th>\n",
       "      <th>ADDR</th>\n",
       "      <th>APPMODE</th>\n",
       "      <th>APPTIME</th>\n",
       "      <th>APP_NAME</th>\n",
       "      <th>CB_DA</th>\n",
       "      <th>CE_DA</th>\n",
       "      <th>CO_TI</th>\n",
       "      <th>C_NAME</th>\n",
       "      <th>DELAYTIME</th>\n",
       "      <th>...</th>\n",
       "      <th>ST_NO</th>\n",
       "      <th>TC_MA</th>\n",
       "      <th>TC_MA3</th>\n",
       "      <th>TC_MA3ID</th>\n",
       "      <th>TC_MAID</th>\n",
       "      <th>TC_NA</th>\n",
       "      <th>TC_TL</th>\n",
       "      <th>TC_TL3</th>\n",
       "      <th>X</th>\n",
       "      <th>Y</th>\n",
       "    </tr>\n",
       "  </thead>\n",
       "  <tbody>\n",
       "    <tr>\n",
       "      <th>0</th>\n",
       "      <td>102004900</td>\n",
       "      <td>紹興南街17~21-3號與仁愛路1段1~19號</td>\n",
       "      <td>0</td>\n",
       "      <td>1060407093547</td>\n",
       "      <td>台電輸變電</td>\n",
       "      <td>1020708</td>\n",
       "      <td>1060728</td>\n",
       "      <td>依交維計畫訂定時間施工 2月11日-3月2日禁止道路施工</td>\n",
       "      <td>中正</td>\n",
       "      <td>NaN</td>\n",
       "      <td>...</td>\n",
       "      <td>1</td>\n",
       "      <td>黃少榮</td>\n",
       "      <td>連彥宇</td>\n",
       "      <td>F126173460</td>\n",
       "      <td>G121445426</td>\n",
       "      <td>長聖營造有限公司</td>\n",
       "      <td>0988038303</td>\n",
       "      <td>0937141297</td>\n",
       "      <td>302738.601</td>\n",
       "      <td>2770178.978</td>\n",
       "    </tr>\n",
       "  </tbody>\n",
       "</table>\n",
       "<p>1 rows × 23 columns</p>\n",
       "</div>"
      ],
      "text/plain": [
       "       AC_NO                     ADDR  APPMODE        APPTIME APP_NAME  \\\n",
       "0  102004900  紹興南街17~21-3號與仁愛路1段1~19號        0  1060407093547    台電輸變電   \n",
       "\n",
       "     CB_DA    CE_DA                         CO_TI C_NAME  DELAYTIME  \\\n",
       "0  1020708  1060728  依交維計畫訂定時間施工 2月11日-3月2日禁止道路施工     中正        NaN   \n",
       "\n",
       "      ...       ST_NO TC_MA  TC_MA3    TC_MA3ID     TC_MAID     TC_NA  \\\n",
       "0     ...           1   黃少榮     連彥宇  F126173460  G121445426  長聖營造有限公司   \n",
       "\n",
       "        TC_TL      TC_TL3           X            Y  \n",
       "0  0988038303  0937141297  302738.601  2770178.978  \n",
       "\n",
       "[1 rows x 23 columns]"
      ]
     },
     "execution_count": 8,
     "metadata": {},
     "output_type": "execute_result"
    }
   ],
   "source": [
    "json.head(1)"
   ]
  },
  {
   "cell_type": "markdown",
   "metadata": {},
   "source": [
    "# 3. EDA 探索式資料分析 - 資料樣態"
   ]
  },
  {
   "cell_type": "markdown",
   "metadata": {},
   "source": [
    "查看資料長相"
   ]
  },
  {
   "cell_type": "code",
   "execution_count": 9,
   "metadata": {
    "collapsed": false
   },
   "outputs": [],
   "source": [
    "df = pd.read_excel('data.xlsx')"
   ]
  },
  {
   "cell_type": "code",
   "execution_count": 10,
   "metadata": {
    "collapsed": false
   },
   "outputs": [
    {
     "data": {
      "text/plain": [
       "(40, 4)"
      ]
     },
     "execution_count": 10,
     "metadata": {},
     "output_type": "execute_result"
    }
   ],
   "source": [
    "df.shape"
   ]
  },
  {
   "cell_type": "code",
   "execution_count": 11,
   "metadata": {
    "collapsed": false
   },
   "outputs": [
    {
     "data": {
      "text/plain": [
       "160"
      ]
     },
     "execution_count": 11,
     "metadata": {},
     "output_type": "execute_result"
    }
   ],
   "source": [
    "df.size"
   ]
  },
  {
   "cell_type": "code",
   "execution_count": 12,
   "metadata": {
    "collapsed": false
   },
   "outputs": [
    {
     "data": {
      "text/plain": [
       "county    object\n",
       "name      object\n",
       "area      object\n",
       "price     object\n",
       "dtype: object"
      ]
     },
     "execution_count": 12,
     "metadata": {},
     "output_type": "execute_result"
    }
   ],
   "source": [
    "df.dtypes"
   ]
  },
  {
   "cell_type": "code",
   "execution_count": 13,
   "metadata": {
    "collapsed": false
   },
   "outputs": [
    {
     "data": {
      "text/plain": [
       "RangeIndex(start=0, stop=40, step=1)"
      ]
     },
     "execution_count": 13,
     "metadata": {},
     "output_type": "execute_result"
    }
   ],
   "source": [
    "df.index"
   ]
  },
  {
   "cell_type": "code",
   "execution_count": 14,
   "metadata": {
    "collapsed": false,
    "scrolled": false
   },
   "outputs": [
    {
     "data": {
      "text/plain": [
       "Index(['county', 'name', 'area', 'price'], dtype='object')"
      ]
     },
     "execution_count": 14,
     "metadata": {},
     "output_type": "execute_result"
    }
   ],
   "source": [
    "df.columns"
   ]
  },
  {
   "cell_type": "code",
   "execution_count": 15,
   "metadata": {
    "collapsed": false
   },
   "outputs": [
    {
     "data": {
      "text/plain": [
       "array([['台北市中山區', '中山北路三段近結運民權西站~靠農安街~有OA家俱~', '48.8坪/辦公', '58,000元'],\n",
       "       ['台北市中正區', '羅斯福路三段近捷運公館站~新生南路口~有廣告效果~', '74.4坪/辦公', '130,000元'],\n",
       "       ['台中市西區', '向上北路超大裝潢套房（兩間房間打通）近草悟道', '10坪/套房', '8,000元'],\n",
       "       ['台北市信義區', '忠孝東路五段近永春捷運~交通方便~生活機能佳', '22.8坪/辦公', '29,000元'],\n",
       "       ['新北市蘆洲區', '永安南路二段全新渡假民宿風大套房/獨立洗衣機/廚房', '11坪/套房', '13,500元'],\n",
       "       ['台北市信義區', '光復南路近捷運信義安和站~靠信義路~基隆路口~', '38.6坪/辦公', '42,000元'],\n",
       "       ['桃園市中壢區', '青商路桃園青埔高鐵站全新完工全新裝潢全新傢俱', '43坪/整層', '23,000元'],\n",
       "       [nan, '光復北路近小巨蛋捷運~交通方便~生活機能佳', '36坪/辦公', '36,000元'],\n",
       "       ['台南市北區', '長榮路四段58巷近火車站,成大醫院成大,崑科大', '6.5坪/套房', '6,900元'],\n",
       "       ['台北市中山區', '長安東路二段近建國北路,現有OA可使用~', '33坪/辦公', '36,300元'],\n",
       "       ['台北市內湖區', '民權東路六段國道市區連結核心區方正開放挑高實用辦', '114.8坪/辦公', '120,235元'],\n",
       "       ['台中市龍井區', '新興路51巷看過來！東海電梯套房~長短期出租，設備齊', '7坪/套房', '5,500元'],\n",
       "       ['台北市中山區', '南京東路三段近捷運松江南京一層一戶高樓屋況佳適診所', '85.5坪/辦公', '120,000元'],\n",
       "       ['台北市松山區', '基隆路一段近南京三民站南京東路五段旁優質屋況佳辦公', '35.6坪/辦公', '36,000元'],\n",
       "       ['台北市中山區', '松江路近忠孝新生,南京松江站,南京東路', '80坪/辦公', '120,000元'],\n",
       "       ['台南市仁德區', '二仁路一段155巷嘉南國際學苑B館雙人精緻上下舖套房', '6坪/套房', '5,800元'],\n",
       "       ['桃園市平鎮區', '東豐路526巷全新靜巷獨立套房', '7坪/套房', '7,000元'],\n",
       "       ['台北市松山區', '八德路四段近松山捷運站出口~饒河街~生活機能佳', '48.3坪/辦公', '50,000元'],\n",
       "       ['台北市內湖區', '瑞湖街堤頂大道旁科技業密集區機能優屋況佳超推.', '143.5坪/辦公', '150,333元'],\n",
       "       ['台北市中山區', '林森北路近捷運中山站~南京東路口~溫馨隔一小房~', '22.3坪/住辦', '24,000元'],\n",
       "       ['台北市中山區', '松江路64巷松江南京站【松江公園旁】五星級雅房★限女', '5坪/雅房', '6,500元'],\n",
       "       ['台中市西屯區', '河南路二段系統裝潢*獨洗*獨曬*衛浴開窗*大遠百', '9坪/套房', '6,999元'],\n",
       "       ['台北市中山區', '松江路近松江南京捷運站,忠孝新生,A級純辦', '146.2坪/辦公', '219,270元'],\n",
       "       ['台中市東區', '育英路樂成宮旁環境超佳的新套房', '7.5坪/套房', '6,500元'],\n",
       "       ['台北市中山區', '建國北路一段近捷運快速道商務通勤超便利裝潢新穎超值選', '78坪/辦公', '101,304元'],\n",
       "       ['台南市中西區', '民生路一段民生路一段~電梯套房出租《限女》', '3坪/套房', '3,000元'],\n",
       "       ['新北市永和區', '永和路二段工商登記2000元,可特許', '1坪/辦公', '2,000元'],\n",
       "       ['台中市太平區', '東平路家電齊全套房', '10坪/套房', '7,800元'],\n",
       "       ['台南市永康區', '大仁街電梯、家俱全套月租4500', '6坪/套房', '4,500元'],\n",
       "       ['台北市大同區', '延平北路一段69巷台北車站【月租飯店式】五星獨棟～電梯套房', '8坪/套房', '33,000元'],\n",
       "       ['新北市蘆洲區', '正和街蘆洲市中心湧蓮寺旁,近三民高中捷運站', '7坪/套房', '12,000元'],\n",
       "       ['台中市西區', '大業路文心路大業路家樂福，全新家俱大套房', '8坪/套房', '9,500元'],\n",
       "       ['新北市板橋區', '華興街府中站捷運步行５分鐘時尚精緻套房', '7坪/套房', '9,000元'],\n",
       "       ['新竹市北區', '延平路一段317巷★稀有獨立陽台洗衣機1樓前可停汽機車靜巷', '8坪/套房', '7,000元'],\n",
       "       ['台北市大安區', '羅斯福路三段古亭,台電捷運站,適合補習班診所', '83.2坪/辦公', '100,000元'],\n",
       "       ['新竹市北區', '勝利十二街平價全新套房出租✨交通便利✨✨', '6.5坪/套房', '6,500元'],\n",
       "       ['高雄市三民區', '大昌二路432巷全新大樓管理套房(附車位)', '5.5坪/套房', '6,500元'],\n",
       "       ['台中市西屯區', '長安路二段71巷一年新屋,超大套房,獨立洗衣機,機車位', '12坪/套房', '8,800元'],\n",
       "       ['台北市松山區', '八德路二段近南京復興站~微風廣場~生活機能佳', '17.2坪/辦公', nan],\n",
       "       ['台北市中正區', '廈門街123巷古亭捷運站【牯嶺公園旁】五星級雅房～限女', '5坪/雅房', '6,500元']],\n",
       "      dtype=object)"
      ]
     },
     "execution_count": 15,
     "metadata": {},
     "output_type": "execute_result"
    }
   ],
   "source": [
    "df.values"
   ]
  },
  {
   "cell_type": "code",
   "execution_count": 16,
   "metadata": {
    "collapsed": false
   },
   "outputs": [
    {
     "data": {
      "text/html": [
       "<div>\n",
       "<style>\n",
       "    .dataframe thead tr:only-child th {\n",
       "        text-align: right;\n",
       "    }\n",
       "\n",
       "    .dataframe thead th {\n",
       "        text-align: left;\n",
       "    }\n",
       "\n",
       "    .dataframe tbody tr th {\n",
       "        vertical-align: top;\n",
       "    }\n",
       "</style>\n",
       "<table border=\"1\" class=\"dataframe\">\n",
       "  <thead>\n",
       "    <tr style=\"text-align: right;\">\n",
       "      <th></th>\n",
       "      <th>county</th>\n",
       "      <th>name</th>\n",
       "      <th>area</th>\n",
       "      <th>price</th>\n",
       "    </tr>\n",
       "  </thead>\n",
       "  <tbody>\n",
       "    <tr>\n",
       "      <th>0</th>\n",
       "      <td>台北市中山區</td>\n",
       "      <td>中山北路三段近結運民權西站~靠農安街~有OA家俱~</td>\n",
       "      <td>48.8坪/辦公</td>\n",
       "      <td>58,000元</td>\n",
       "    </tr>\n",
       "    <tr>\n",
       "      <th>1</th>\n",
       "      <td>台北市中正區</td>\n",
       "      <td>羅斯福路三段近捷運公館站~新生南路口~有廣告效果~</td>\n",
       "      <td>74.4坪/辦公</td>\n",
       "      <td>130,000元</td>\n",
       "    </tr>\n",
       "  </tbody>\n",
       "</table>\n",
       "</div>"
      ],
      "text/plain": [
       "   county                       name      area     price\n",
       "0  台北市中山區  中山北路三段近結運民權西站~靠農安街~有OA家俱~  48.8坪/辦公   58,000元\n",
       "1  台北市中正區  羅斯福路三段近捷運公館站~新生南路口~有廣告效果~  74.4坪/辦公  130,000元"
      ]
     },
     "execution_count": 16,
     "metadata": {},
     "output_type": "execute_result"
    }
   ],
   "source": [
    "df.head(2)"
   ]
  },
  {
   "cell_type": "code",
   "execution_count": 17,
   "metadata": {
    "collapsed": false
   },
   "outputs": [
    {
     "data": {
      "text/html": [
       "<div>\n",
       "<style>\n",
       "    .dataframe thead tr:only-child th {\n",
       "        text-align: right;\n",
       "    }\n",
       "\n",
       "    .dataframe thead th {\n",
       "        text-align: left;\n",
       "    }\n",
       "\n",
       "    .dataframe tbody tr th {\n",
       "        vertical-align: top;\n",
       "    }\n",
       "</style>\n",
       "<table border=\"1\" class=\"dataframe\">\n",
       "  <thead>\n",
       "    <tr style=\"text-align: right;\">\n",
       "      <th></th>\n",
       "      <th>county</th>\n",
       "      <th>name</th>\n",
       "      <th>area</th>\n",
       "      <th>price</th>\n",
       "    </tr>\n",
       "  </thead>\n",
       "  <tbody>\n",
       "    <tr>\n",
       "      <th>38</th>\n",
       "      <td>台北市松山區</td>\n",
       "      <td>八德路二段近南京復興站~微風廣場~生活機能佳</td>\n",
       "      <td>17.2坪/辦公</td>\n",
       "      <td>NaN</td>\n",
       "    </tr>\n",
       "    <tr>\n",
       "      <th>39</th>\n",
       "      <td>台北市中正區</td>\n",
       "      <td>廈門街123巷古亭捷運站【牯嶺公園旁】五星級雅房～限女</td>\n",
       "      <td>5坪/雅房</td>\n",
       "      <td>6,500元</td>\n",
       "    </tr>\n",
       "  </tbody>\n",
       "</table>\n",
       "</div>"
      ],
      "text/plain": [
       "    county                         name      area   price\n",
       "38  台北市松山區       八德路二段近南京復興站~微風廣場~生活機能佳  17.2坪/辦公     NaN\n",
       "39  台北市中正區  廈門街123巷古亭捷運站【牯嶺公園旁】五星級雅房～限女     5坪/雅房  6,500元"
      ]
     },
     "execution_count": 17,
     "metadata": {},
     "output_type": "execute_result"
    }
   ],
   "source": [
    "df.tail(2)"
   ]
  },
  {
   "cell_type": "code",
   "execution_count": 18,
   "metadata": {
    "collapsed": false
   },
   "outputs": [
    {
     "name": "stdout",
     "output_type": "stream",
     "text": [
      "<class 'pandas.core.frame.DataFrame'>\n",
      "RangeIndex: 40 entries, 0 to 39\n",
      "Data columns (total 4 columns):\n",
      "county    39 non-null object\n",
      "name      40 non-null object\n",
      "area      40 non-null object\n",
      "price     39 non-null object\n",
      "dtypes: object(4)\n",
      "memory usage: 1.3+ KB\n"
     ]
    }
   ],
   "source": [
    "df.info()"
   ]
  },
  {
   "cell_type": "markdown",
   "metadata": {},
   "source": [
    "查看特定欄位"
   ]
  },
  {
   "cell_type": "code",
   "execution_count": 19,
   "metadata": {
    "collapsed": false
   },
   "outputs": [
    {
     "data": {
      "text/plain": [
       "0     台北市中山區\n",
       "1     台北市中正區\n",
       "2      台中市西區\n",
       "3     台北市信義區\n",
       "4     新北市蘆洲區\n",
       "5     台北市信義區\n",
       "6     桃園市中壢區\n",
       "7        NaN\n",
       "8      台南市北區\n",
       "9     台北市中山區\n",
       "10    台北市內湖區\n",
       "11    台中市龍井區\n",
       "12    台北市中山區\n",
       "13    台北市松山區\n",
       "14    台北市中山區\n",
       "15    台南市仁德區\n",
       "16    桃園市平鎮區\n",
       "17    台北市松山區\n",
       "18    台北市內湖區\n",
       "19    台北市中山區\n",
       "20    台北市中山區\n",
       "21    台中市西屯區\n",
       "22    台北市中山區\n",
       "23     台中市東區\n",
       "24    台北市中山區\n",
       "25    台南市中西區\n",
       "26    新北市永和區\n",
       "27    台中市太平區\n",
       "28    台南市永康區\n",
       "29    台北市大同區\n",
       "30    新北市蘆洲區\n",
       "31     台中市西區\n",
       "32    新北市板橋區\n",
       "33     新竹市北區\n",
       "34    台北市大安區\n",
       "35     新竹市北區\n",
       "36    高雄市三民區\n",
       "37    台中市西屯區\n",
       "38    台北市松山區\n",
       "39    台北市中正區\n",
       "Name: county, dtype: object"
      ]
     },
     "execution_count": 19,
     "metadata": {},
     "output_type": "execute_result"
    }
   ],
   "source": [
    "df['county']"
   ]
  },
  {
   "cell_type": "markdown",
   "metadata": {},
   "source": [
    "# 4. EDA 探索式資料分析 - 遺失值"
   ]
  },
  {
   "cell_type": "code",
   "execution_count": 20,
   "metadata": {
    "collapsed": false
   },
   "outputs": [
    {
     "data": {
      "text/html": [
       "<div>\n",
       "<style>\n",
       "    .dataframe thead tr:only-child th {\n",
       "        text-align: right;\n",
       "    }\n",
       "\n",
       "    .dataframe thead th {\n",
       "        text-align: left;\n",
       "    }\n",
       "\n",
       "    .dataframe tbody tr th {\n",
       "        vertical-align: top;\n",
       "    }\n",
       "</style>\n",
       "<table border=\"1\" class=\"dataframe\">\n",
       "  <thead>\n",
       "    <tr style=\"text-align: right;\">\n",
       "      <th></th>\n",
       "      <th>county</th>\n",
       "      <th>name</th>\n",
       "      <th>area</th>\n",
       "      <th>price</th>\n",
       "    </tr>\n",
       "  </thead>\n",
       "  <tbody>\n",
       "    <tr>\n",
       "      <th>0</th>\n",
       "      <td>台北市中山區</td>\n",
       "      <td>中山北路三段近結運民權西站~靠農安街~有OA家俱~</td>\n",
       "      <td>48.8坪/辦公</td>\n",
       "      <td>58,000元</td>\n",
       "    </tr>\n",
       "    <tr>\n",
       "      <th>1</th>\n",
       "      <td>台北市中正區</td>\n",
       "      <td>羅斯福路三段近捷運公館站~新生南路口~有廣告效果~</td>\n",
       "      <td>74.4坪/辦公</td>\n",
       "      <td>130,000元</td>\n",
       "    </tr>\n",
       "    <tr>\n",
       "      <th>2</th>\n",
       "      <td>台中市西區</td>\n",
       "      <td>向上北路超大裝潢套房（兩間房間打通）近草悟道</td>\n",
       "      <td>10坪/套房</td>\n",
       "      <td>8,000元</td>\n",
       "    </tr>\n",
       "    <tr>\n",
       "      <th>3</th>\n",
       "      <td>台北市信義區</td>\n",
       "      <td>忠孝東路五段近永春捷運~交通方便~生活機能佳</td>\n",
       "      <td>22.8坪/辦公</td>\n",
       "      <td>29,000元</td>\n",
       "    </tr>\n",
       "    <tr>\n",
       "      <th>4</th>\n",
       "      <td>新北市蘆洲區</td>\n",
       "      <td>永安南路二段全新渡假民宿風大套房/獨立洗衣機/廚房</td>\n",
       "      <td>11坪/套房</td>\n",
       "      <td>13,500元</td>\n",
       "    </tr>\n",
       "    <tr>\n",
       "      <th>5</th>\n",
       "      <td>台北市信義區</td>\n",
       "      <td>光復南路近捷運信義安和站~靠信義路~基隆路口~</td>\n",
       "      <td>38.6坪/辦公</td>\n",
       "      <td>42,000元</td>\n",
       "    </tr>\n",
       "    <tr>\n",
       "      <th>6</th>\n",
       "      <td>桃園市中壢區</td>\n",
       "      <td>青商路桃園青埔高鐵站全新完工全新裝潢全新傢俱</td>\n",
       "      <td>43坪/整層</td>\n",
       "      <td>23,000元</td>\n",
       "    </tr>\n",
       "    <tr>\n",
       "      <th>7</th>\n",
       "      <td>NaN</td>\n",
       "      <td>光復北路近小巨蛋捷運~交通方便~生活機能佳</td>\n",
       "      <td>36坪/辦公</td>\n",
       "      <td>36,000元</td>\n",
       "    </tr>\n",
       "  </tbody>\n",
       "</table>\n",
       "</div>"
      ],
      "text/plain": [
       "   county                       name      area     price\n",
       "0  台北市中山區  中山北路三段近結運民權西站~靠農安街~有OA家俱~  48.8坪/辦公   58,000元\n",
       "1  台北市中正區  羅斯福路三段近捷運公館站~新生南路口~有廣告效果~  74.4坪/辦公  130,000元\n",
       "2   台中市西區     向上北路超大裝潢套房（兩間房間打通）近草悟道    10坪/套房    8,000元\n",
       "3  台北市信義區     忠孝東路五段近永春捷運~交通方便~生活機能佳  22.8坪/辦公   29,000元\n",
       "4  新北市蘆洲區  永安南路二段全新渡假民宿風大套房/獨立洗衣機/廚房    11坪/套房   13,500元\n",
       "5  台北市信義區    光復南路近捷運信義安和站~靠信義路~基隆路口~  38.6坪/辦公   42,000元\n",
       "6  桃園市中壢區     青商路桃園青埔高鐵站全新完工全新裝潢全新傢俱    43坪/整層   23,000元\n",
       "7     NaN      光復北路近小巨蛋捷運~交通方便~生活機能佳    36坪/辦公   36,000元"
      ]
     },
     "execution_count": 20,
     "metadata": {},
     "output_type": "execute_result"
    }
   ],
   "source": [
    "df.head(8)"
   ]
  },
  {
   "cell_type": "code",
   "execution_count": 21,
   "metadata": {
    "collapsed": false
   },
   "outputs": [
    {
     "data": {
      "text/plain": [
       "county     True\n",
       "name      False\n",
       "area      False\n",
       "price      True\n",
       "dtype: bool"
      ]
     },
     "execution_count": 21,
     "metadata": {},
     "output_type": "execute_result"
    }
   ],
   "source": [
    "df.isnull().any()"
   ]
  },
  {
   "cell_type": "code",
   "execution_count": 22,
   "metadata": {
    "collapsed": false,
    "scrolled": false
   },
   "outputs": [
    {
     "data": {
      "text/plain": [
       "0     False\n",
       "1     False\n",
       "2     False\n",
       "3     False\n",
       "4     False\n",
       "5     False\n",
       "6     False\n",
       "7      True\n",
       "8     False\n",
       "9     False\n",
       "10    False\n",
       "11    False\n",
       "12    False\n",
       "13    False\n",
       "14    False\n",
       "15    False\n",
       "16    False\n",
       "17    False\n",
       "18    False\n",
       "19    False\n",
       "20    False\n",
       "21    False\n",
       "22    False\n",
       "23    False\n",
       "24    False\n",
       "25    False\n",
       "26    False\n",
       "27    False\n",
       "28    False\n",
       "29    False\n",
       "30    False\n",
       "31    False\n",
       "32    False\n",
       "33    False\n",
       "34    False\n",
       "35    False\n",
       "36    False\n",
       "37    False\n",
       "38    False\n",
       "39    False\n",
       "Name: county, dtype: bool"
      ]
     },
     "execution_count": 22,
     "metadata": {},
     "output_type": "execute_result"
    }
   ],
   "source": [
    "df['county'].isnull()"
   ]
  },
  {
   "cell_type": "code",
   "execution_count": 23,
   "metadata": {
    "collapsed": false,
    "scrolled": false
   },
   "outputs": [
    {
     "data": {
      "text/plain": [
       "0      True\n",
       "1      True\n",
       "2      True\n",
       "3      True\n",
       "4      True\n",
       "5      True\n",
       "6      True\n",
       "7     False\n",
       "8      True\n",
       "9      True\n",
       "10     True\n",
       "11     True\n",
       "12     True\n",
       "13     True\n",
       "14     True\n",
       "15     True\n",
       "16     True\n",
       "17     True\n",
       "18     True\n",
       "19     True\n",
       "20     True\n",
       "21     True\n",
       "22     True\n",
       "23     True\n",
       "24     True\n",
       "25     True\n",
       "26     True\n",
       "27     True\n",
       "28     True\n",
       "29     True\n",
       "30     True\n",
       "31     True\n",
       "32     True\n",
       "33     True\n",
       "34     True\n",
       "35     True\n",
       "36     True\n",
       "37     True\n",
       "38     True\n",
       "39     True\n",
       "Name: county, dtype: bool"
      ]
     },
     "execution_count": 23,
     "metadata": {},
     "output_type": "execute_result"
    }
   ],
   "source": [
    "df['county'].notnull()"
   ]
  },
  {
   "cell_type": "code",
   "execution_count": 24,
   "metadata": {
    "collapsed": false
   },
   "outputs": [
    {
     "data": {
      "text/plain": [
       "0     台北市中山區\n",
       "1     台北市中正區\n",
       "2      台中市西區\n",
       "3     台北市信義區\n",
       "4     新北市蘆洲區\n",
       "5     台北市信義區\n",
       "6     桃園市中壢區\n",
       "7     台北市松山區\n",
       "8      台南市北區\n",
       "9     台北市中山區\n",
       "10    台北市內湖區\n",
       "11    台中市龍井區\n",
       "12    台北市中山區\n",
       "13    台北市松山區\n",
       "14    台北市中山區\n",
       "15    台南市仁德區\n",
       "16    桃園市平鎮區\n",
       "17    台北市松山區\n",
       "18    台北市內湖區\n",
       "19    台北市中山區\n",
       "20    台北市中山區\n",
       "21    台中市西屯區\n",
       "22    台北市中山區\n",
       "23     台中市東區\n",
       "24    台北市中山區\n",
       "25    台南市中西區\n",
       "26    新北市永和區\n",
       "27    台中市太平區\n",
       "28    台南市永康區\n",
       "29    台北市大同區\n",
       "30    新北市蘆洲區\n",
       "31     台中市西區\n",
       "32    新北市板橋區\n",
       "33     新竹市北區\n",
       "34    台北市大安區\n",
       "35     新竹市北區\n",
       "36    高雄市三民區\n",
       "37    台中市西屯區\n",
       "38    台北市松山區\n",
       "39    台北市中正區\n",
       "Name: county, dtype: object"
      ]
     },
     "execution_count": 24,
     "metadata": {},
     "output_type": "execute_result"
    }
   ],
   "source": [
    "df['county'].fillna(\"台北市松山區\")"
   ]
  },
  {
   "cell_type": "code",
   "execution_count": 25,
   "metadata": {
    "collapsed": false,
    "scrolled": false
   },
   "outputs": [
    {
     "data": {
      "text/plain": [
       "0     台北市中山區\n",
       "1     台北市中正區\n",
       "2      台中市西區\n",
       "3     台北市信義區\n",
       "4     新北市蘆洲區\n",
       "5     台北市信義區\n",
       "6     桃園市中壢區\n",
       "8      台南市北區\n",
       "9     台北市中山區\n",
       "10    台北市內湖區\n",
       "11    台中市龍井區\n",
       "12    台北市中山區\n",
       "13    台北市松山區\n",
       "14    台北市中山區\n",
       "15    台南市仁德區\n",
       "16    桃園市平鎮區\n",
       "17    台北市松山區\n",
       "18    台北市內湖區\n",
       "19    台北市中山區\n",
       "20    台北市中山區\n",
       "21    台中市西屯區\n",
       "22    台北市中山區\n",
       "23     台中市東區\n",
       "24    台北市中山區\n",
       "25    台南市中西區\n",
       "26    新北市永和區\n",
       "27    台中市太平區\n",
       "28    台南市永康區\n",
       "29    台北市大同區\n",
       "30    新北市蘆洲區\n",
       "31     台中市西區\n",
       "32    新北市板橋區\n",
       "33     新竹市北區\n",
       "34    台北市大安區\n",
       "35     新竹市北區\n",
       "36    高雄市三民區\n",
       "37    台中市西屯區\n",
       "38    台北市松山區\n",
       "39    台北市中正區\n",
       "Name: county, dtype: object"
      ]
     },
     "execution_count": 25,
     "metadata": {},
     "output_type": "execute_result"
    }
   ],
   "source": [
    "df['county'].dropna()"
   ]
  },
  {
   "cell_type": "markdown",
   "metadata": {},
   "source": [
    "把missing值加回來"
   ]
  },
  {
   "cell_type": "code",
   "execution_count": 26,
   "metadata": {
    "collapsed": true
   },
   "outputs": [],
   "source": [
    "df['county'] = df['county'].fillna(\"台北市松山區\")"
   ]
  },
  {
   "cell_type": "code",
   "execution_count": 27,
   "metadata": {
    "collapsed": false
   },
   "outputs": [
    {
     "data": {
      "text/html": [
       "<div>\n",
       "<style>\n",
       "    .dataframe thead tr:only-child th {\n",
       "        text-align: right;\n",
       "    }\n",
       "\n",
       "    .dataframe thead th {\n",
       "        text-align: left;\n",
       "    }\n",
       "\n",
       "    .dataframe tbody tr th {\n",
       "        vertical-align: top;\n",
       "    }\n",
       "</style>\n",
       "<table border=\"1\" class=\"dataframe\">\n",
       "  <thead>\n",
       "    <tr style=\"text-align: right;\">\n",
       "      <th></th>\n",
       "      <th>county</th>\n",
       "      <th>name</th>\n",
       "      <th>area</th>\n",
       "      <th>price</th>\n",
       "    </tr>\n",
       "  </thead>\n",
       "  <tbody>\n",
       "    <tr>\n",
       "      <th>35</th>\n",
       "      <td>新竹市北區</td>\n",
       "      <td>勝利十二街平價全新套房出租✨交通便利✨✨</td>\n",
       "      <td>6.5坪/套房</td>\n",
       "      <td>6,500元</td>\n",
       "    </tr>\n",
       "    <tr>\n",
       "      <th>36</th>\n",
       "      <td>高雄市三民區</td>\n",
       "      <td>大昌二路432巷全新大樓管理套房(附車位)</td>\n",
       "      <td>5.5坪/套房</td>\n",
       "      <td>6,500元</td>\n",
       "    </tr>\n",
       "    <tr>\n",
       "      <th>37</th>\n",
       "      <td>台中市西屯區</td>\n",
       "      <td>長安路二段71巷一年新屋,超大套房,獨立洗衣機,機車位</td>\n",
       "      <td>12坪/套房</td>\n",
       "      <td>8,800元</td>\n",
       "    </tr>\n",
       "    <tr>\n",
       "      <th>38</th>\n",
       "      <td>台北市松山區</td>\n",
       "      <td>八德路二段近南京復興站~微風廣場~生活機能佳</td>\n",
       "      <td>17.2坪/辦公</td>\n",
       "      <td>NaN</td>\n",
       "    </tr>\n",
       "    <tr>\n",
       "      <th>39</th>\n",
       "      <td>台北市中正區</td>\n",
       "      <td>廈門街123巷古亭捷運站【牯嶺公園旁】五星級雅房～限女</td>\n",
       "      <td>5坪/雅房</td>\n",
       "      <td>6,500元</td>\n",
       "    </tr>\n",
       "  </tbody>\n",
       "</table>\n",
       "</div>"
      ],
      "text/plain": [
       "    county                         name      area   price\n",
       "35   新竹市北區         勝利十二街平價全新套房出租✨交通便利✨✨   6.5坪/套房  6,500元\n",
       "36  高雄市三民區        大昌二路432巷全新大樓管理套房(附車位)   5.5坪/套房  6,500元\n",
       "37  台中市西屯區  長安路二段71巷一年新屋,超大套房,獨立洗衣機,機車位    12坪/套房  8,800元\n",
       "38  台北市松山區       八德路二段近南京復興站~微風廣場~生活機能佳  17.2坪/辦公     NaN\n",
       "39  台北市中正區  廈門街123巷古亭捷運站【牯嶺公園旁】五星級雅房～限女     5坪/雅房  6,500元"
      ]
     },
     "execution_count": 27,
     "metadata": {},
     "output_type": "execute_result"
    }
   ],
   "source": [
    "df.tail()"
   ]
  },
  {
   "cell_type": "code",
   "execution_count": 28,
   "metadata": {
    "collapsed": true
   },
   "outputs": [],
   "source": [
    "df['price'] = df['price'].fillna('24000元')"
   ]
  },
  {
   "cell_type": "code",
   "execution_count": 29,
   "metadata": {
    "collapsed": false
   },
   "outputs": [
    {
     "data": {
      "text/html": [
       "<div>\n",
       "<style>\n",
       "    .dataframe thead tr:only-child th {\n",
       "        text-align: right;\n",
       "    }\n",
       "\n",
       "    .dataframe thead th {\n",
       "        text-align: left;\n",
       "    }\n",
       "\n",
       "    .dataframe tbody tr th {\n",
       "        vertical-align: top;\n",
       "    }\n",
       "</style>\n",
       "<table border=\"1\" class=\"dataframe\">\n",
       "  <thead>\n",
       "    <tr style=\"text-align: right;\">\n",
       "      <th></th>\n",
       "      <th>county</th>\n",
       "      <th>name</th>\n",
       "      <th>area</th>\n",
       "      <th>price</th>\n",
       "    </tr>\n",
       "  </thead>\n",
       "  <tbody>\n",
       "    <tr>\n",
       "      <th>35</th>\n",
       "      <td>新竹市北區</td>\n",
       "      <td>勝利十二街平價全新套房出租✨交通便利✨✨</td>\n",
       "      <td>6.5坪/套房</td>\n",
       "      <td>6,500元</td>\n",
       "    </tr>\n",
       "    <tr>\n",
       "      <th>36</th>\n",
       "      <td>高雄市三民區</td>\n",
       "      <td>大昌二路432巷全新大樓管理套房(附車位)</td>\n",
       "      <td>5.5坪/套房</td>\n",
       "      <td>6,500元</td>\n",
       "    </tr>\n",
       "    <tr>\n",
       "      <th>37</th>\n",
       "      <td>台中市西屯區</td>\n",
       "      <td>長安路二段71巷一年新屋,超大套房,獨立洗衣機,機車位</td>\n",
       "      <td>12坪/套房</td>\n",
       "      <td>8,800元</td>\n",
       "    </tr>\n",
       "    <tr>\n",
       "      <th>38</th>\n",
       "      <td>台北市松山區</td>\n",
       "      <td>八德路二段近南京復興站~微風廣場~生活機能佳</td>\n",
       "      <td>17.2坪/辦公</td>\n",
       "      <td>24000元</td>\n",
       "    </tr>\n",
       "    <tr>\n",
       "      <th>39</th>\n",
       "      <td>台北市中正區</td>\n",
       "      <td>廈門街123巷古亭捷運站【牯嶺公園旁】五星級雅房～限女</td>\n",
       "      <td>5坪/雅房</td>\n",
       "      <td>6,500元</td>\n",
       "    </tr>\n",
       "  </tbody>\n",
       "</table>\n",
       "</div>"
      ],
      "text/plain": [
       "    county                         name      area   price\n",
       "35   新竹市北區         勝利十二街平價全新套房出租✨交通便利✨✨   6.5坪/套房  6,500元\n",
       "36  高雄市三民區        大昌二路432巷全新大樓管理套房(附車位)   5.5坪/套房  6,500元\n",
       "37  台中市西屯區  長安路二段71巷一年新屋,超大套房,獨立洗衣機,機車位    12坪/套房  8,800元\n",
       "38  台北市松山區       八德路二段近南京復興站~微風廣場~生活機能佳  17.2坪/辦公  24000元\n",
       "39  台北市中正區  廈門街123巷古亭捷運站【牯嶺公園旁】五星級雅房～限女     5坪/雅房  6,500元"
      ]
     },
     "execution_count": 29,
     "metadata": {},
     "output_type": "execute_result"
    }
   ],
   "source": [
    "df.tail()"
   ]
  },
  {
   "cell_type": "markdown",
   "metadata": {},
   "source": [
    "# 5. EDA 探索式資料分析 - 資料前處理"
   ]
  },
  {
   "cell_type": "code",
   "execution_count": 30,
   "metadata": {
    "collapsed": false
   },
   "outputs": [
    {
     "data": {
      "text/html": [
       "<div>\n",
       "<style>\n",
       "    .dataframe thead tr:only-child th {\n",
       "        text-align: right;\n",
       "    }\n",
       "\n",
       "    .dataframe thead th {\n",
       "        text-align: left;\n",
       "    }\n",
       "\n",
       "    .dataframe tbody tr th {\n",
       "        vertical-align: top;\n",
       "    }\n",
       "</style>\n",
       "<table border=\"1\" class=\"dataframe\">\n",
       "  <thead>\n",
       "    <tr style=\"text-align: right;\">\n",
       "      <th></th>\n",
       "      <th>county</th>\n",
       "      <th>name</th>\n",
       "      <th>area</th>\n",
       "      <th>price</th>\n",
       "    </tr>\n",
       "  </thead>\n",
       "  <tbody>\n",
       "    <tr>\n",
       "      <th>0</th>\n",
       "      <td>台北市中山區</td>\n",
       "      <td>中山北路三段近結運民權西站~靠農安街~有OA家俱~</td>\n",
       "      <td>48.8坪/辦公</td>\n",
       "      <td>58,000元</td>\n",
       "    </tr>\n",
       "    <tr>\n",
       "      <th>1</th>\n",
       "      <td>台北市中正區</td>\n",
       "      <td>羅斯福路三段近捷運公館站~新生南路口~有廣告效果~</td>\n",
       "      <td>74.4坪/辦公</td>\n",
       "      <td>130,000元</td>\n",
       "    </tr>\n",
       "    <tr>\n",
       "      <th>2</th>\n",
       "      <td>台中市西區</td>\n",
       "      <td>向上北路超大裝潢套房（兩間房間打通）近草悟道</td>\n",
       "      <td>10坪/套房</td>\n",
       "      <td>8,000元</td>\n",
       "    </tr>\n",
       "    <tr>\n",
       "      <th>3</th>\n",
       "      <td>台北市信義區</td>\n",
       "      <td>忠孝東路五段近永春捷運~交通方便~生活機能佳</td>\n",
       "      <td>22.8坪/辦公</td>\n",
       "      <td>29,000元</td>\n",
       "    </tr>\n",
       "    <tr>\n",
       "      <th>4</th>\n",
       "      <td>新北市蘆洲區</td>\n",
       "      <td>永安南路二段全新渡假民宿風大套房/獨立洗衣機/廚房</td>\n",
       "      <td>11坪/套房</td>\n",
       "      <td>13,500元</td>\n",
       "    </tr>\n",
       "    <tr>\n",
       "      <th>5</th>\n",
       "      <td>台北市信義區</td>\n",
       "      <td>光復南路近捷運信義安和站~靠信義路~基隆路口~</td>\n",
       "      <td>38.6坪/辦公</td>\n",
       "      <td>42,000元</td>\n",
       "    </tr>\n",
       "    <tr>\n",
       "      <th>6</th>\n",
       "      <td>桃園市中壢區</td>\n",
       "      <td>青商路桃園青埔高鐵站全新完工全新裝潢全新傢俱</td>\n",
       "      <td>43坪/整層</td>\n",
       "      <td>23,000元</td>\n",
       "    </tr>\n",
       "    <tr>\n",
       "      <th>7</th>\n",
       "      <td>台北市松山區</td>\n",
       "      <td>光復北路近小巨蛋捷運~交通方便~生活機能佳</td>\n",
       "      <td>36坪/辦公</td>\n",
       "      <td>36,000元</td>\n",
       "    </tr>\n",
       "  </tbody>\n",
       "</table>\n",
       "</div>"
      ],
      "text/plain": [
       "   county                       name      area     price\n",
       "0  台北市中山區  中山北路三段近結運民權西站~靠農安街~有OA家俱~  48.8坪/辦公   58,000元\n",
       "1  台北市中正區  羅斯福路三段近捷運公館站~新生南路口~有廣告效果~  74.4坪/辦公  130,000元\n",
       "2   台中市西區     向上北路超大裝潢套房（兩間房間打通）近草悟道    10坪/套房    8,000元\n",
       "3  台北市信義區     忠孝東路五段近永春捷運~交通方便~生活機能佳  22.8坪/辦公   29,000元\n",
       "4  新北市蘆洲區  永安南路二段全新渡假民宿風大套房/獨立洗衣機/廚房    11坪/套房   13,500元\n",
       "5  台北市信義區    光復南路近捷運信義安和站~靠信義路~基隆路口~  38.6坪/辦公   42,000元\n",
       "6  桃園市中壢區     青商路桃園青埔高鐵站全新完工全新裝潢全新傢俱    43坪/整層   23,000元\n",
       "7  台北市松山區      光復北路近小巨蛋捷運~交通方便~生活機能佳    36坪/辦公   36,000元"
      ]
     },
     "execution_count": 30,
     "metadata": {},
     "output_type": "execute_result"
    }
   ],
   "source": [
    "df.head(8)"
   ]
  },
  {
   "cell_type": "markdown",
   "metadata": {},
   "source": [
    "處理area欄位"
   ]
  },
  {
   "cell_type": "code",
   "execution_count": 31,
   "metadata": {
    "collapsed": false
   },
   "outputs": [
    {
     "data": {
      "text/plain": [
       "pandas.core.series.Series"
      ]
     },
     "execution_count": 31,
     "metadata": {},
     "output_type": "execute_result"
    }
   ],
   "source": [
    "type(df['area'])"
   ]
  },
  {
   "cell_type": "code",
   "execution_count": 32,
   "metadata": {
    "collapsed": false
   },
   "outputs": [
    {
     "data": {
      "text/plain": [
       "pandas.core.strings.StringMethods"
      ]
     },
     "execution_count": 32,
     "metadata": {},
     "output_type": "execute_result"
    }
   ],
   "source": [
    "type(df['area'].str)"
   ]
  },
  {
   "cell_type": "code",
   "execution_count": 33,
   "metadata": {
    "collapsed": false
   },
   "outputs": [
    {
     "data": {
      "text/plain": [
       "0    48.8坪\n",
       "1    74.4坪\n",
       "2      10坪\n",
       "3    22.8坪\n",
       "4      11坪\n",
       "Name: area, dtype: object"
      ]
     },
     "execution_count": 33,
     "metadata": {},
     "output_type": "execute_result"
    }
   ],
   "source": [
    "df['area'].str.split(\"/\").str[0].head(5)"
   ]
  },
  {
   "cell_type": "markdown",
   "metadata": {},
   "source": [
    "新增欄位"
   ]
  },
  {
   "cell_type": "code",
   "execution_count": 34,
   "metadata": {
    "collapsed": false
   },
   "outputs": [
    {
     "data": {
      "text/html": [
       "<div>\n",
       "<style>\n",
       "    .dataframe thead tr:only-child th {\n",
       "        text-align: right;\n",
       "    }\n",
       "\n",
       "    .dataframe thead th {\n",
       "        text-align: left;\n",
       "    }\n",
       "\n",
       "    .dataframe tbody tr th {\n",
       "        vertical-align: top;\n",
       "    }\n",
       "</style>\n",
       "<table border=\"1\" class=\"dataframe\">\n",
       "  <thead>\n",
       "    <tr style=\"text-align: right;\">\n",
       "      <th></th>\n",
       "      <th>county</th>\n",
       "      <th>name</th>\n",
       "      <th>area</th>\n",
       "      <th>price</th>\n",
       "      <th>坪數</th>\n",
       "      <th>房間類別</th>\n",
       "    </tr>\n",
       "  </thead>\n",
       "  <tbody>\n",
       "    <tr>\n",
       "      <th>0</th>\n",
       "      <td>台北市中山區</td>\n",
       "      <td>中山北路三段近結運民權西站~靠農安街~有OA家俱~</td>\n",
       "      <td>48.8坪/辦公</td>\n",
       "      <td>58,000元</td>\n",
       "      <td>48.8坪</td>\n",
       "      <td>辦公</td>\n",
       "    </tr>\n",
       "    <tr>\n",
       "      <th>1</th>\n",
       "      <td>台北市中正區</td>\n",
       "      <td>羅斯福路三段近捷運公館站~新生南路口~有廣告效果~</td>\n",
       "      <td>74.4坪/辦公</td>\n",
       "      <td>130,000元</td>\n",
       "      <td>74.4坪</td>\n",
       "      <td>辦公</td>\n",
       "    </tr>\n",
       "  </tbody>\n",
       "</table>\n",
       "</div>"
      ],
      "text/plain": [
       "   county                       name      area     price     坪數 房間類別\n",
       "0  台北市中山區  中山北路三段近結運民權西站~靠農安街~有OA家俱~  48.8坪/辦公   58,000元  48.8坪   辦公\n",
       "1  台北市中正區  羅斯福路三段近捷運公館站~新生南路口~有廣告效果~  74.4坪/辦公  130,000元  74.4坪   辦公"
      ]
     },
     "execution_count": 34,
     "metadata": {},
     "output_type": "execute_result"
    }
   ],
   "source": [
    "df['坪數'] = df['area'].str.split(\"/\").str[0]\n",
    "df['房間類別'] = df['area'].str.split(\"/\").str[1]\n",
    "df.head(2)"
   ]
  },
  {
   "cell_type": "markdown",
   "metadata": {},
   "source": [
    "移除欄位"
   ]
  },
  {
   "cell_type": "code",
   "execution_count": 35,
   "metadata": {
    "collapsed": false,
    "scrolled": false
   },
   "outputs": [
    {
     "data": {
      "text/html": [
       "<div>\n",
       "<style>\n",
       "    .dataframe thead tr:only-child th {\n",
       "        text-align: right;\n",
       "    }\n",
       "\n",
       "    .dataframe thead th {\n",
       "        text-align: left;\n",
       "    }\n",
       "\n",
       "    .dataframe tbody tr th {\n",
       "        vertical-align: top;\n",
       "    }\n",
       "</style>\n",
       "<table border=\"1\" class=\"dataframe\">\n",
       "  <thead>\n",
       "    <tr style=\"text-align: right;\">\n",
       "      <th></th>\n",
       "      <th>county</th>\n",
       "      <th>name</th>\n",
       "      <th>price</th>\n",
       "      <th>坪數</th>\n",
       "      <th>房間類別</th>\n",
       "    </tr>\n",
       "  </thead>\n",
       "  <tbody>\n",
       "    <tr>\n",
       "      <th>0</th>\n",
       "      <td>台北市中山區</td>\n",
       "      <td>中山北路三段近結運民權西站~靠農安街~有OA家俱~</td>\n",
       "      <td>58,000元</td>\n",
       "      <td>48.8坪</td>\n",
       "      <td>辦公</td>\n",
       "    </tr>\n",
       "    <tr>\n",
       "      <th>1</th>\n",
       "      <td>台北市中正區</td>\n",
       "      <td>羅斯福路三段近捷運公館站~新生南路口~有廣告效果~</td>\n",
       "      <td>130,000元</td>\n",
       "      <td>74.4坪</td>\n",
       "      <td>辦公</td>\n",
       "    </tr>\n",
       "  </tbody>\n",
       "</table>\n",
       "</div>"
      ],
      "text/plain": [
       "   county                       name     price     坪數 房間類別\n",
       "0  台北市中山區  中山北路三段近結運民權西站~靠農安街~有OA家俱~   58,000元  48.8坪   辦公\n",
       "1  台北市中正區  羅斯福路三段近捷運公館站~新生南路口~有廣告效果~  130,000元  74.4坪   辦公"
      ]
     },
     "execution_count": 35,
     "metadata": {},
     "output_type": "execute_result"
    }
   ],
   "source": [
    "df = df.drop(\"area\",axis=1)\n",
    "df.head(2)"
   ]
  },
  {
   "cell_type": "code",
   "execution_count": 36,
   "metadata": {
    "collapsed": false
   },
   "outputs": [
    {
     "data": {
      "text/html": [
       "<div>\n",
       "<style>\n",
       "    .dataframe thead tr:only-child th {\n",
       "        text-align: right;\n",
       "    }\n",
       "\n",
       "    .dataframe thead th {\n",
       "        text-align: left;\n",
       "    }\n",
       "\n",
       "    .dataframe tbody tr th {\n",
       "        vertical-align: top;\n",
       "    }\n",
       "</style>\n",
       "<table border=\"1\" class=\"dataframe\">\n",
       "  <thead>\n",
       "    <tr style=\"text-align: right;\">\n",
       "      <th></th>\n",
       "      <th>county</th>\n",
       "      <th>name</th>\n",
       "      <th>price</th>\n",
       "      <th>坪數</th>\n",
       "      <th>房間類別</th>\n",
       "    </tr>\n",
       "  </thead>\n",
       "  <tbody>\n",
       "    <tr>\n",
       "      <th>1</th>\n",
       "      <td>台北市中正區</td>\n",
       "      <td>羅斯福路三段近捷運公館站~新生南路口~有廣告效果~</td>\n",
       "      <td>130,000元</td>\n",
       "      <td>74.4坪</td>\n",
       "      <td>辦公</td>\n",
       "    </tr>\n",
       "    <tr>\n",
       "      <th>2</th>\n",
       "      <td>台中市西區</td>\n",
       "      <td>向上北路超大裝潢套房（兩間房間打通）近草悟道</td>\n",
       "      <td>8,000元</td>\n",
       "      <td>10坪</td>\n",
       "      <td>套房</td>\n",
       "    </tr>\n",
       "    <tr>\n",
       "      <th>3</th>\n",
       "      <td>台北市信義區</td>\n",
       "      <td>忠孝東路五段近永春捷運~交通方便~生活機能佳</td>\n",
       "      <td>29,000元</td>\n",
       "      <td>22.8坪</td>\n",
       "      <td>辦公</td>\n",
       "    </tr>\n",
       "    <tr>\n",
       "      <th>4</th>\n",
       "      <td>新北市蘆洲區</td>\n",
       "      <td>永安南路二段全新渡假民宿風大套房/獨立洗衣機/廚房</td>\n",
       "      <td>13,500元</td>\n",
       "      <td>11坪</td>\n",
       "      <td>套房</td>\n",
       "    </tr>\n",
       "    <tr>\n",
       "      <th>5</th>\n",
       "      <td>台北市信義區</td>\n",
       "      <td>光復南路近捷運信義安和站~靠信義路~基隆路口~</td>\n",
       "      <td>42,000元</td>\n",
       "      <td>38.6坪</td>\n",
       "      <td>辦公</td>\n",
       "    </tr>\n",
       "  </tbody>\n",
       "</table>\n",
       "</div>"
      ],
      "text/plain": [
       "   county                       name     price     坪數 房間類別\n",
       "1  台北市中正區  羅斯福路三段近捷運公館站~新生南路口~有廣告效果~  130,000元  74.4坪   辦公\n",
       "2   台中市西區     向上北路超大裝潢套房（兩間房間打通）近草悟道    8,000元    10坪   套房\n",
       "3  台北市信義區     忠孝東路五段近永春捷運~交通方便~生活機能佳   29,000元  22.8坪   辦公\n",
       "4  新北市蘆洲區  永安南路二段全新渡假民宿風大套房/獨立洗衣機/廚房   13,500元    11坪   套房\n",
       "5  台北市信義區    光復南路近捷運信義安和站~靠信義路~基隆路口~   42,000元  38.6坪   辦公"
      ]
     },
     "execution_count": 36,
     "metadata": {},
     "output_type": "execute_result"
    }
   ],
   "source": [
    "df.drop(0,axis=0).head()"
   ]
  },
  {
   "cell_type": "markdown",
   "metadata": {},
   "source": [
    "處理price欄位"
   ]
  },
  {
   "cell_type": "code",
   "execution_count": 37,
   "metadata": {
    "collapsed": false
   },
   "outputs": [
    {
     "data": {
      "text/html": [
       "<div>\n",
       "<style>\n",
       "    .dataframe thead tr:only-child th {\n",
       "        text-align: right;\n",
       "    }\n",
       "\n",
       "    .dataframe thead th {\n",
       "        text-align: left;\n",
       "    }\n",
       "\n",
       "    .dataframe tbody tr th {\n",
       "        vertical-align: top;\n",
       "    }\n",
       "</style>\n",
       "<table border=\"1\" class=\"dataframe\">\n",
       "  <thead>\n",
       "    <tr style=\"text-align: right;\">\n",
       "      <th></th>\n",
       "      <th>county</th>\n",
       "      <th>name</th>\n",
       "      <th>price</th>\n",
       "      <th>坪數</th>\n",
       "      <th>房間類別</th>\n",
       "    </tr>\n",
       "  </thead>\n",
       "  <tbody>\n",
       "    <tr>\n",
       "      <th>0</th>\n",
       "      <td>台北市中山區</td>\n",
       "      <td>中山北路三段近結運民權西站~靠農安街~有OA家俱~</td>\n",
       "      <td>58000</td>\n",
       "      <td>48.8</td>\n",
       "      <td>辦公</td>\n",
       "    </tr>\n",
       "    <tr>\n",
       "      <th>1</th>\n",
       "      <td>台北市中正區</td>\n",
       "      <td>羅斯福路三段近捷運公館站~新生南路口~有廣告效果~</td>\n",
       "      <td>130000</td>\n",
       "      <td>74.4</td>\n",
       "      <td>辦公</td>\n",
       "    </tr>\n",
       "  </tbody>\n",
       "</table>\n",
       "</div>"
      ],
      "text/plain": [
       "   county                       name   price    坪數 房間類別\n",
       "0  台北市中山區  中山北路三段近結運民權西站~靠農安街~有OA家俱~   58000  48.8   辦公\n",
       "1  台北市中正區  羅斯福路三段近捷運公館站~新生南路口~有廣告效果~  130000  74.4   辦公"
      ]
     },
     "execution_count": 37,
     "metadata": {},
     "output_type": "execute_result"
    }
   ],
   "source": [
    "df[\"price\"] = df[\"price\"].str.replace(\",\",\"\")\n",
    "df[\"price\"] = df[\"price\"].str.replace(\"元\",\"\")\n",
    "df[\"坪數\"] = df[\"坪數\"].str.replace(\"坪\",\"\")\n",
    "df.head(2)"
   ]
  },
  {
   "cell_type": "markdown",
   "metadata": {},
   "source": [
    "轉換資料型別"
   ]
  },
  {
   "cell_type": "code",
   "execution_count": 38,
   "metadata": {
    "collapsed": false
   },
   "outputs": [
    {
     "data": {
      "text/plain": [
       "county    object\n",
       "name      object\n",
       "price     object\n",
       "坪數        object\n",
       "房間類別      object\n",
       "dtype: object"
      ]
     },
     "execution_count": 38,
     "metadata": {},
     "output_type": "execute_result"
    }
   ],
   "source": [
    "df.dtypes"
   ]
  },
  {
   "cell_type": "code",
   "execution_count": 39,
   "metadata": {
    "collapsed": false
   },
   "outputs": [
    {
     "name": "stdout",
     "output_type": "stream",
     "text": [
      "county     object\n",
      "name       object\n",
      "price       int64\n",
      "坪數        float64\n",
      "房間類別       object\n",
      "dtype: object\n"
     ]
    }
   ],
   "source": [
    "df['price'] = df['price'].astype('int')\n",
    "df['坪數'] = df['坪數'].astype('float')\n",
    "print(df.dtypes)"
   ]
  },
  {
   "cell_type": "code",
   "execution_count": 40,
   "metadata": {
    "collapsed": false
   },
   "outputs": [
    {
     "data": {
      "text/html": [
       "<div>\n",
       "<style>\n",
       "    .dataframe thead tr:only-child th {\n",
       "        text-align: right;\n",
       "    }\n",
       "\n",
       "    .dataframe thead th {\n",
       "        text-align: left;\n",
       "    }\n",
       "\n",
       "    .dataframe tbody tr th {\n",
       "        vertical-align: top;\n",
       "    }\n",
       "</style>\n",
       "<table border=\"1\" class=\"dataframe\">\n",
       "  <thead>\n",
       "    <tr style=\"text-align: right;\">\n",
       "      <th></th>\n",
       "      <th>county</th>\n",
       "      <th>name</th>\n",
       "      <th>price</th>\n",
       "      <th>坪數</th>\n",
       "      <th>房間類別</th>\n",
       "    </tr>\n",
       "  </thead>\n",
       "  <tbody>\n",
       "    <tr>\n",
       "      <th>0</th>\n",
       "      <td>台北市中山區</td>\n",
       "      <td>中山北路三段近結運民權西站~靠農安街~有OA家俱~</td>\n",
       "      <td>58000</td>\n",
       "      <td>48.8</td>\n",
       "      <td>辦公</td>\n",
       "    </tr>\n",
       "    <tr>\n",
       "      <th>1</th>\n",
       "      <td>台北市中正區</td>\n",
       "      <td>羅斯福路三段近捷運公館站~新生南路口~有廣告效果~</td>\n",
       "      <td>130000</td>\n",
       "      <td>74.4</td>\n",
       "      <td>辦公</td>\n",
       "    </tr>\n",
       "    <tr>\n",
       "      <th>2</th>\n",
       "      <td>台中市西區</td>\n",
       "      <td>向上北路超大裝潢套房（兩間房間打通）近草悟道</td>\n",
       "      <td>8000</td>\n",
       "      <td>10.0</td>\n",
       "      <td>套房</td>\n",
       "    </tr>\n",
       "    <tr>\n",
       "      <th>3</th>\n",
       "      <td>台北市信義區</td>\n",
       "      <td>忠孝東路五段近永春捷運~交通方便~生活機能佳</td>\n",
       "      <td>29000</td>\n",
       "      <td>22.8</td>\n",
       "      <td>辦公</td>\n",
       "    </tr>\n",
       "    <tr>\n",
       "      <th>4</th>\n",
       "      <td>新北市蘆洲區</td>\n",
       "      <td>永安南路二段全新渡假民宿風大套房/獨立洗衣機/廚房</td>\n",
       "      <td>13500</td>\n",
       "      <td>11.0</td>\n",
       "      <td>套房</td>\n",
       "    </tr>\n",
       "  </tbody>\n",
       "</table>\n",
       "</div>"
      ],
      "text/plain": [
       "   county                       name   price    坪數 房間類別\n",
       "0  台北市中山區  中山北路三段近結運民權西站~靠農安街~有OA家俱~   58000  48.8   辦公\n",
       "1  台北市中正區  羅斯福路三段近捷運公館站~新生南路口~有廣告效果~  130000  74.4   辦公\n",
       "2   台中市西區     向上北路超大裝潢套房（兩間房間打通）近草悟道    8000  10.0   套房\n",
       "3  台北市信義區     忠孝東路五段近永春捷運~交通方便~生活機能佳   29000  22.8   辦公\n",
       "4  新北市蘆洲區  永安南路二段全新渡假民宿風大套房/獨立洗衣機/廚房   13500  11.0   套房"
      ]
     },
     "execution_count": 40,
     "metadata": {},
     "output_type": "execute_result"
    }
   ],
   "source": [
    "df.head()"
   ]
  },
  {
   "cell_type": "code",
   "execution_count": 41,
   "metadata": {
    "collapsed": false
   },
   "outputs": [],
   "source": [
    "df['city'] = df['county'].str.split(\"市\").str[0]\n",
    "df['town'] = df['county'].str.split(\"市\").str[1]\n",
    "df['city'] = df['city']+'市'\n",
    "df = df.drop(\"county\",axis=1)"
   ]
  },
  {
   "cell_type": "code",
   "execution_count": 42,
   "metadata": {
    "collapsed": false
   },
   "outputs": [
    {
     "data": {
      "text/html": [
       "<div>\n",
       "<style>\n",
       "    .dataframe thead tr:only-child th {\n",
       "        text-align: right;\n",
       "    }\n",
       "\n",
       "    .dataframe thead th {\n",
       "        text-align: left;\n",
       "    }\n",
       "\n",
       "    .dataframe tbody tr th {\n",
       "        vertical-align: top;\n",
       "    }\n",
       "</style>\n",
       "<table border=\"1\" class=\"dataframe\">\n",
       "  <thead>\n",
       "    <tr style=\"text-align: right;\">\n",
       "      <th></th>\n",
       "      <th>name</th>\n",
       "      <th>price</th>\n",
       "      <th>坪數</th>\n",
       "      <th>房間類別</th>\n",
       "      <th>city</th>\n",
       "      <th>town</th>\n",
       "    </tr>\n",
       "  </thead>\n",
       "  <tbody>\n",
       "    <tr>\n",
       "      <th>0</th>\n",
       "      <td>中山北路三段近結運民權西站~靠農安街~有OA家俱~</td>\n",
       "      <td>58000</td>\n",
       "      <td>48.8</td>\n",
       "      <td>辦公</td>\n",
       "      <td>台北市</td>\n",
       "      <td>中山區</td>\n",
       "    </tr>\n",
       "    <tr>\n",
       "      <th>1</th>\n",
       "      <td>羅斯福路三段近捷運公館站~新生南路口~有廣告效果~</td>\n",
       "      <td>130000</td>\n",
       "      <td>74.4</td>\n",
       "      <td>辦公</td>\n",
       "      <td>台北市</td>\n",
       "      <td>中正區</td>\n",
       "    </tr>\n",
       "    <tr>\n",
       "      <th>2</th>\n",
       "      <td>向上北路超大裝潢套房（兩間房間打通）近草悟道</td>\n",
       "      <td>8000</td>\n",
       "      <td>10.0</td>\n",
       "      <td>套房</td>\n",
       "      <td>台中市</td>\n",
       "      <td>西區</td>\n",
       "    </tr>\n",
       "    <tr>\n",
       "      <th>3</th>\n",
       "      <td>忠孝東路五段近永春捷運~交通方便~生活機能佳</td>\n",
       "      <td>29000</td>\n",
       "      <td>22.8</td>\n",
       "      <td>辦公</td>\n",
       "      <td>台北市</td>\n",
       "      <td>信義區</td>\n",
       "    </tr>\n",
       "    <tr>\n",
       "      <th>4</th>\n",
       "      <td>永安南路二段全新渡假民宿風大套房/獨立洗衣機/廚房</td>\n",
       "      <td>13500</td>\n",
       "      <td>11.0</td>\n",
       "      <td>套房</td>\n",
       "      <td>新北市</td>\n",
       "      <td>蘆洲區</td>\n",
       "    </tr>\n",
       "  </tbody>\n",
       "</table>\n",
       "</div>"
      ],
      "text/plain": [
       "                        name   price    坪數 房間類別 city town\n",
       "0  中山北路三段近結運民權西站~靠農安街~有OA家俱~   58000  48.8   辦公  台北市  中山區\n",
       "1  羅斯福路三段近捷運公館站~新生南路口~有廣告效果~  130000  74.4   辦公  台北市  中正區\n",
       "2     向上北路超大裝潢套房（兩間房間打通）近草悟道    8000  10.0   套房  台中市   西區\n",
       "3     忠孝東路五段近永春捷運~交通方便~生活機能佳   29000  22.8   辦公  台北市  信義區\n",
       "4  永安南路二段全新渡假民宿風大套房/獨立洗衣機/廚房   13500  11.0   套房  新北市  蘆洲區"
      ]
     },
     "execution_count": 42,
     "metadata": {},
     "output_type": "execute_result"
    }
   ],
   "source": [
    "df.head()"
   ]
  },
  {
   "cell_type": "markdown",
   "metadata": {},
   "source": [
    "# 6. EDA 探索式資料分析 - 描述性統計"
   ]
  },
  {
   "cell_type": "markdown",
   "metadata": {},
   "source": [
    "基本統計"
   ]
  },
  {
   "cell_type": "code",
   "execution_count": 43,
   "metadata": {
    "collapsed": false
   },
   "outputs": [
    {
     "data": {
      "text/html": [
       "<div>\n",
       "<style>\n",
       "    .dataframe thead tr:only-child th {\n",
       "        text-align: right;\n",
       "    }\n",
       "\n",
       "    .dataframe thead th {\n",
       "        text-align: left;\n",
       "    }\n",
       "\n",
       "    .dataframe tbody tr th {\n",
       "        vertical-align: top;\n",
       "    }\n",
       "</style>\n",
       "<table border=\"1\" class=\"dataframe\">\n",
       "  <thead>\n",
       "    <tr style=\"text-align: right;\">\n",
       "      <th></th>\n",
       "      <th>price</th>\n",
       "      <th>坪數</th>\n",
       "    </tr>\n",
       "  </thead>\n",
       "  <tbody>\n",
       "    <tr>\n",
       "      <th>count</th>\n",
       "      <td>40.000000</td>\n",
       "      <td>40.000000</td>\n",
       "    </tr>\n",
       "    <tr>\n",
       "      <th>mean</th>\n",
       "      <td>40056.025000</td>\n",
       "      <td>32.680000</td>\n",
       "    </tr>\n",
       "    <tr>\n",
       "      <th>std</th>\n",
       "      <td>51458.310205</td>\n",
       "      <td>38.873201</td>\n",
       "    </tr>\n",
       "    <tr>\n",
       "      <th>min</th>\n",
       "      <td>2000.000000</td>\n",
       "      <td>1.000000</td>\n",
       "    </tr>\n",
       "    <tr>\n",
       "      <th>25%</th>\n",
       "      <td>6800.000000</td>\n",
       "      <td>7.000000</td>\n",
       "    </tr>\n",
       "    <tr>\n",
       "      <th>50%</th>\n",
       "      <td>12750.000000</td>\n",
       "      <td>10.500000</td>\n",
       "    </tr>\n",
       "    <tr>\n",
       "      <th>75%</th>\n",
       "      <td>44000.000000</td>\n",
       "      <td>44.325000</td>\n",
       "    </tr>\n",
       "    <tr>\n",
       "      <th>max</th>\n",
       "      <td>219270.000000</td>\n",
       "      <td>146.200000</td>\n",
       "    </tr>\n",
       "  </tbody>\n",
       "</table>\n",
       "</div>"
      ],
      "text/plain": [
       "               price          坪數\n",
       "count      40.000000   40.000000\n",
       "mean    40056.025000   32.680000\n",
       "std     51458.310205   38.873201\n",
       "min      2000.000000    1.000000\n",
       "25%      6800.000000    7.000000\n",
       "50%     12750.000000   10.500000\n",
       "75%     44000.000000   44.325000\n",
       "max    219270.000000  146.200000"
      ]
     },
     "execution_count": 43,
     "metadata": {},
     "output_type": "execute_result"
    }
   ],
   "source": [
    "df.describe()"
   ]
  },
  {
   "cell_type": "code",
   "execution_count": 44,
   "metadata": {
    "collapsed": false
   },
   "outputs": [
    {
     "data": {
      "text/plain": [
       "1602241"
      ]
     },
     "execution_count": 44,
     "metadata": {},
     "output_type": "execute_result"
    }
   ],
   "source": [
    "df['price'].sum()"
   ]
  },
  {
   "cell_type": "code",
   "execution_count": 45,
   "metadata": {
    "collapsed": false
   },
   "outputs": [
    {
     "data": {
      "text/plain": [
       "台北市    20\n",
       "台中市     7\n",
       "新北市     4\n",
       "台南市     4\n",
       "新竹市     2\n",
       "桃園市     2\n",
       "高雄市     1\n",
       "Name: city, dtype: int64"
      ]
     },
     "execution_count": 45,
     "metadata": {},
     "output_type": "execute_result"
    }
   ],
   "source": [
    "df['city'].value_counts()"
   ]
  },
  {
   "cell_type": "markdown",
   "metadata": {
    "collapsed": true
   },
   "source": [
    "篩選"
   ]
  },
  {
   "cell_type": "code",
   "execution_count": 46,
   "metadata": {
    "collapsed": false
   },
   "outputs": [
    {
     "data": {
      "text/plain": [
       "0      True\n",
       "1      True\n",
       "2     False\n",
       "3      True\n",
       "4     False\n",
       "5      True\n",
       "6     False\n",
       "7      True\n",
       "8     False\n",
       "9      True\n",
       "10     True\n",
       "11    False\n",
       "12     True\n",
       "13     True\n",
       "14     True\n",
       "15    False\n",
       "16    False\n",
       "17     True\n",
       "18     True\n",
       "19     True\n",
       "20     True\n",
       "21    False\n",
       "22     True\n",
       "23    False\n",
       "24     True\n",
       "25    False\n",
       "26    False\n",
       "27    False\n",
       "28    False\n",
       "29     True\n",
       "30    False\n",
       "31    False\n",
       "32    False\n",
       "33    False\n",
       "34     True\n",
       "35    False\n",
       "36    False\n",
       "37    False\n",
       "38     True\n",
       "39     True\n",
       "Name: city, dtype: bool"
      ]
     },
     "execution_count": 46,
     "metadata": {},
     "output_type": "execute_result"
    }
   ],
   "source": [
    "df['city']==\"台北市\""
   ]
  },
  {
   "cell_type": "code",
   "execution_count": 47,
   "metadata": {
    "collapsed": false
   },
   "outputs": [
    {
     "data": {
      "text/html": [
       "<div>\n",
       "<style>\n",
       "    .dataframe thead tr:only-child th {\n",
       "        text-align: right;\n",
       "    }\n",
       "\n",
       "    .dataframe thead th {\n",
       "        text-align: left;\n",
       "    }\n",
       "\n",
       "    .dataframe tbody tr th {\n",
       "        vertical-align: top;\n",
       "    }\n",
       "</style>\n",
       "<table border=\"1\" class=\"dataframe\">\n",
       "  <thead>\n",
       "    <tr style=\"text-align: right;\">\n",
       "      <th></th>\n",
       "      <th>name</th>\n",
       "      <th>price</th>\n",
       "      <th>坪數</th>\n",
       "      <th>房間類別</th>\n",
       "      <th>city</th>\n",
       "      <th>town</th>\n",
       "    </tr>\n",
       "  </thead>\n",
       "  <tbody>\n",
       "    <tr>\n",
       "      <th>0</th>\n",
       "      <td>中山北路三段近結運民權西站~靠農安街~有OA家俱~</td>\n",
       "      <td>58000</td>\n",
       "      <td>48.8</td>\n",
       "      <td>辦公</td>\n",
       "      <td>台北市</td>\n",
       "      <td>中山區</td>\n",
       "    </tr>\n",
       "    <tr>\n",
       "      <th>1</th>\n",
       "      <td>羅斯福路三段近捷運公館站~新生南路口~有廣告效果~</td>\n",
       "      <td>130000</td>\n",
       "      <td>74.4</td>\n",
       "      <td>辦公</td>\n",
       "      <td>台北市</td>\n",
       "      <td>中正區</td>\n",
       "    </tr>\n",
       "    <tr>\n",
       "      <th>3</th>\n",
       "      <td>忠孝東路五段近永春捷運~交通方便~生活機能佳</td>\n",
       "      <td>29000</td>\n",
       "      <td>22.8</td>\n",
       "      <td>辦公</td>\n",
       "      <td>台北市</td>\n",
       "      <td>信義區</td>\n",
       "    </tr>\n",
       "    <tr>\n",
       "      <th>5</th>\n",
       "      <td>光復南路近捷運信義安和站~靠信義路~基隆路口~</td>\n",
       "      <td>42000</td>\n",
       "      <td>38.6</td>\n",
       "      <td>辦公</td>\n",
       "      <td>台北市</td>\n",
       "      <td>信義區</td>\n",
       "    </tr>\n",
       "    <tr>\n",
       "      <th>7</th>\n",
       "      <td>光復北路近小巨蛋捷運~交通方便~生活機能佳</td>\n",
       "      <td>36000</td>\n",
       "      <td>36.0</td>\n",
       "      <td>辦公</td>\n",
       "      <td>台北市</td>\n",
       "      <td>松山區</td>\n",
       "    </tr>\n",
       "    <tr>\n",
       "      <th>9</th>\n",
       "      <td>長安東路二段近建國北路,現有OA可使用~</td>\n",
       "      <td>36300</td>\n",
       "      <td>33.0</td>\n",
       "      <td>辦公</td>\n",
       "      <td>台北市</td>\n",
       "      <td>中山區</td>\n",
       "    </tr>\n",
       "    <tr>\n",
       "      <th>10</th>\n",
       "      <td>民權東路六段國道市區連結核心區方正開放挑高實用辦</td>\n",
       "      <td>120235</td>\n",
       "      <td>114.8</td>\n",
       "      <td>辦公</td>\n",
       "      <td>台北市</td>\n",
       "      <td>內湖區</td>\n",
       "    </tr>\n",
       "    <tr>\n",
       "      <th>12</th>\n",
       "      <td>南京東路三段近捷運松江南京一層一戶高樓屋況佳適診所</td>\n",
       "      <td>120000</td>\n",
       "      <td>85.5</td>\n",
       "      <td>辦公</td>\n",
       "      <td>台北市</td>\n",
       "      <td>中山區</td>\n",
       "    </tr>\n",
       "    <tr>\n",
       "      <th>13</th>\n",
       "      <td>基隆路一段近南京三民站南京東路五段旁優質屋況佳辦公</td>\n",
       "      <td>36000</td>\n",
       "      <td>35.6</td>\n",
       "      <td>辦公</td>\n",
       "      <td>台北市</td>\n",
       "      <td>松山區</td>\n",
       "    </tr>\n",
       "    <tr>\n",
       "      <th>14</th>\n",
       "      <td>松江路近忠孝新生,南京松江站,南京東路</td>\n",
       "      <td>120000</td>\n",
       "      <td>80.0</td>\n",
       "      <td>辦公</td>\n",
       "      <td>台北市</td>\n",
       "      <td>中山區</td>\n",
       "    </tr>\n",
       "    <tr>\n",
       "      <th>17</th>\n",
       "      <td>八德路四段近松山捷運站出口~饒河街~生活機能佳</td>\n",
       "      <td>50000</td>\n",
       "      <td>48.3</td>\n",
       "      <td>辦公</td>\n",
       "      <td>台北市</td>\n",
       "      <td>松山區</td>\n",
       "    </tr>\n",
       "    <tr>\n",
       "      <th>18</th>\n",
       "      <td>瑞湖街堤頂大道旁科技業密集區機能優屋況佳超推.</td>\n",
       "      <td>150333</td>\n",
       "      <td>143.5</td>\n",
       "      <td>辦公</td>\n",
       "      <td>台北市</td>\n",
       "      <td>內湖區</td>\n",
       "    </tr>\n",
       "    <tr>\n",
       "      <th>19</th>\n",
       "      <td>林森北路近捷運中山站~南京東路口~溫馨隔一小房~</td>\n",
       "      <td>24000</td>\n",
       "      <td>22.3</td>\n",
       "      <td>住辦</td>\n",
       "      <td>台北市</td>\n",
       "      <td>中山區</td>\n",
       "    </tr>\n",
       "    <tr>\n",
       "      <th>20</th>\n",
       "      <td>松江路64巷松江南京站【松江公園旁】五星級雅房★限女</td>\n",
       "      <td>6500</td>\n",
       "      <td>5.0</td>\n",
       "      <td>雅房</td>\n",
       "      <td>台北市</td>\n",
       "      <td>中山區</td>\n",
       "    </tr>\n",
       "    <tr>\n",
       "      <th>22</th>\n",
       "      <td>松江路近松江南京捷運站,忠孝新生,A級純辦</td>\n",
       "      <td>219270</td>\n",
       "      <td>146.2</td>\n",
       "      <td>辦公</td>\n",
       "      <td>台北市</td>\n",
       "      <td>中山區</td>\n",
       "    </tr>\n",
       "    <tr>\n",
       "      <th>24</th>\n",
       "      <td>建國北路一段近捷運快速道商務通勤超便利裝潢新穎超值選</td>\n",
       "      <td>101304</td>\n",
       "      <td>78.0</td>\n",
       "      <td>辦公</td>\n",
       "      <td>台北市</td>\n",
       "      <td>中山區</td>\n",
       "    </tr>\n",
       "    <tr>\n",
       "      <th>29</th>\n",
       "      <td>延平北路一段69巷台北車站【月租飯店式】五星獨棟～電梯套房</td>\n",
       "      <td>33000</td>\n",
       "      <td>8.0</td>\n",
       "      <td>套房</td>\n",
       "      <td>台北市</td>\n",
       "      <td>大同區</td>\n",
       "    </tr>\n",
       "    <tr>\n",
       "      <th>34</th>\n",
       "      <td>羅斯福路三段古亭,台電捷運站,適合補習班診所</td>\n",
       "      <td>100000</td>\n",
       "      <td>83.2</td>\n",
       "      <td>辦公</td>\n",
       "      <td>台北市</td>\n",
       "      <td>大安區</td>\n",
       "    </tr>\n",
       "    <tr>\n",
       "      <th>38</th>\n",
       "      <td>八德路二段近南京復興站~微風廣場~生活機能佳</td>\n",
       "      <td>24000</td>\n",
       "      <td>17.2</td>\n",
       "      <td>辦公</td>\n",
       "      <td>台北市</td>\n",
       "      <td>松山區</td>\n",
       "    </tr>\n",
       "    <tr>\n",
       "      <th>39</th>\n",
       "      <td>廈門街123巷古亭捷運站【牯嶺公園旁】五星級雅房～限女</td>\n",
       "      <td>6500</td>\n",
       "      <td>5.0</td>\n",
       "      <td>雅房</td>\n",
       "      <td>台北市</td>\n",
       "      <td>中正區</td>\n",
       "    </tr>\n",
       "  </tbody>\n",
       "</table>\n",
       "</div>"
      ],
      "text/plain": [
       "                             name   price     坪數 房間類別 city town\n",
       "0       中山北路三段近結運民權西站~靠農安街~有OA家俱~   58000   48.8   辦公  台北市  中山區\n",
       "1       羅斯福路三段近捷運公館站~新生南路口~有廣告效果~  130000   74.4   辦公  台北市  中正區\n",
       "3          忠孝東路五段近永春捷運~交通方便~生活機能佳   29000   22.8   辦公  台北市  信義區\n",
       "5         光復南路近捷運信義安和站~靠信義路~基隆路口~   42000   38.6   辦公  台北市  信義區\n",
       "7           光復北路近小巨蛋捷運~交通方便~生活機能佳   36000   36.0   辦公  台北市  松山區\n",
       "9            長安東路二段近建國北路,現有OA可使用~   36300   33.0   辦公  台北市  中山區\n",
       "10       民權東路六段國道市區連結核心區方正開放挑高實用辦  120235  114.8   辦公  台北市  內湖區\n",
       "12      南京東路三段近捷運松江南京一層一戶高樓屋況佳適診所  120000   85.5   辦公  台北市  中山區\n",
       "13      基隆路一段近南京三民站南京東路五段旁優質屋況佳辦公   36000   35.6   辦公  台北市  松山區\n",
       "14            松江路近忠孝新生,南京松江站,南京東路  120000   80.0   辦公  台北市  中山區\n",
       "17        八德路四段近松山捷運站出口~饒河街~生活機能佳   50000   48.3   辦公  台北市  松山區\n",
       "18        瑞湖街堤頂大道旁科技業密集區機能優屋況佳超推.  150333  143.5   辦公  台北市  內湖區\n",
       "19       林森北路近捷運中山站~南京東路口~溫馨隔一小房~   24000   22.3   住辦  台北市  中山區\n",
       "20     松江路64巷松江南京站【松江公園旁】五星級雅房★限女    6500    5.0   雅房  台北市  中山區\n",
       "22          松江路近松江南京捷運站,忠孝新生,A級純辦  219270  146.2   辦公  台北市  中山區\n",
       "24     建國北路一段近捷運快速道商務通勤超便利裝潢新穎超值選  101304   78.0   辦公  台北市  中山區\n",
       "29  延平北路一段69巷台北車站【月租飯店式】五星獨棟～電梯套房   33000    8.0   套房  台北市  大同區\n",
       "34         羅斯福路三段古亭,台電捷運站,適合補習班診所  100000   83.2   辦公  台北市  大安區\n",
       "38         八德路二段近南京復興站~微風廣場~生活機能佳   24000   17.2   辦公  台北市  松山區\n",
       "39    廈門街123巷古亭捷運站【牯嶺公園旁】五星級雅房～限女    6500    5.0   雅房  台北市  中正區"
      ]
     },
     "execution_count": 47,
     "metadata": {},
     "output_type": "execute_result"
    }
   ],
   "source": [
    "df[df['city']==\"台北市\"]"
   ]
  },
  {
   "cell_type": "markdown",
   "metadata": {},
   "source": [
    "兩層篩選"
   ]
  },
  {
   "cell_type": "code",
   "execution_count": 48,
   "metadata": {
    "collapsed": false
   },
   "outputs": [
    {
     "data": {
      "text/html": [
       "<div>\n",
       "<style>\n",
       "    .dataframe thead tr:only-child th {\n",
       "        text-align: right;\n",
       "    }\n",
       "\n",
       "    .dataframe thead th {\n",
       "        text-align: left;\n",
       "    }\n",
       "\n",
       "    .dataframe tbody tr th {\n",
       "        vertical-align: top;\n",
       "    }\n",
       "</style>\n",
       "<table border=\"1\" class=\"dataframe\">\n",
       "  <thead>\n",
       "    <tr style=\"text-align: right;\">\n",
       "      <th></th>\n",
       "      <th>name</th>\n",
       "      <th>price</th>\n",
       "      <th>坪數</th>\n",
       "      <th>房間類別</th>\n",
       "      <th>city</th>\n",
       "      <th>town</th>\n",
       "    </tr>\n",
       "  </thead>\n",
       "  <tbody>\n",
       "    <tr>\n",
       "      <th>3</th>\n",
       "      <td>忠孝東路五段近永春捷運~交通方便~生活機能佳</td>\n",
       "      <td>29000</td>\n",
       "      <td>22.8</td>\n",
       "      <td>辦公</td>\n",
       "      <td>台北市</td>\n",
       "      <td>信義區</td>\n",
       "    </tr>\n",
       "    <tr>\n",
       "      <th>19</th>\n",
       "      <td>林森北路近捷運中山站~南京東路口~溫馨隔一小房~</td>\n",
       "      <td>24000</td>\n",
       "      <td>22.3</td>\n",
       "      <td>住辦</td>\n",
       "      <td>台北市</td>\n",
       "      <td>中山區</td>\n",
       "    </tr>\n",
       "    <tr>\n",
       "      <th>20</th>\n",
       "      <td>松江路64巷松江南京站【松江公園旁】五星級雅房★限女</td>\n",
       "      <td>6500</td>\n",
       "      <td>5.0</td>\n",
       "      <td>雅房</td>\n",
       "      <td>台北市</td>\n",
       "      <td>中山區</td>\n",
       "    </tr>\n",
       "    <tr>\n",
       "      <th>38</th>\n",
       "      <td>八德路二段近南京復興站~微風廣場~生活機能佳</td>\n",
       "      <td>24000</td>\n",
       "      <td>17.2</td>\n",
       "      <td>辦公</td>\n",
       "      <td>台北市</td>\n",
       "      <td>松山區</td>\n",
       "    </tr>\n",
       "    <tr>\n",
       "      <th>39</th>\n",
       "      <td>廈門街123巷古亭捷運站【牯嶺公園旁】五星級雅房～限女</td>\n",
       "      <td>6500</td>\n",
       "      <td>5.0</td>\n",
       "      <td>雅房</td>\n",
       "      <td>台北市</td>\n",
       "      <td>中正區</td>\n",
       "    </tr>\n",
       "  </tbody>\n",
       "</table>\n",
       "</div>"
      ],
      "text/plain": [
       "                           name  price    坪數 房間類別 city town\n",
       "3        忠孝東路五段近永春捷運~交通方便~生活機能佳  29000  22.8   辦公  台北市  信義區\n",
       "19     林森北路近捷運中山站~南京東路口~溫馨隔一小房~  24000  22.3   住辦  台北市  中山區\n",
       "20   松江路64巷松江南京站【松江公園旁】五星級雅房★限女   6500   5.0   雅房  台北市  中山區\n",
       "38       八德路二段近南京復興站~微風廣場~生活機能佳  24000  17.2   辦公  台北市  松山區\n",
       "39  廈門街123巷古亭捷運站【牯嶺公園旁】五星級雅房～限女   6500   5.0   雅房  台北市  中正區"
      ]
     },
     "execution_count": 48,
     "metadata": {},
     "output_type": "execute_result"
    }
   ],
   "source": [
    "df[(df['city']==\"台北市\")&(df['price']<30000)]"
   ]
  },
  {
   "cell_type": "markdown",
   "metadata": {},
   "source": [
    "排序"
   ]
  },
  {
   "cell_type": "code",
   "execution_count": 49,
   "metadata": {
    "collapsed": false,
    "scrolled": false
   },
   "outputs": [
    {
     "data": {
      "text/html": [
       "<div>\n",
       "<style>\n",
       "    .dataframe thead tr:only-child th {\n",
       "        text-align: right;\n",
       "    }\n",
       "\n",
       "    .dataframe thead th {\n",
       "        text-align: left;\n",
       "    }\n",
       "\n",
       "    .dataframe tbody tr th {\n",
       "        vertical-align: top;\n",
       "    }\n",
       "</style>\n",
       "<table border=\"1\" class=\"dataframe\">\n",
       "  <thead>\n",
       "    <tr style=\"text-align: right;\">\n",
       "      <th></th>\n",
       "      <th>name</th>\n",
       "      <th>price</th>\n",
       "      <th>坪數</th>\n",
       "      <th>房間類別</th>\n",
       "      <th>city</th>\n",
       "      <th>town</th>\n",
       "    </tr>\n",
       "  </thead>\n",
       "  <tbody>\n",
       "    <tr>\n",
       "      <th>26</th>\n",
       "      <td>永和路二段工商登記2000元,可特許</td>\n",
       "      <td>2000</td>\n",
       "      <td>1.0</td>\n",
       "      <td>辦公</td>\n",
       "      <td>新北市</td>\n",
       "      <td>永和區</td>\n",
       "    </tr>\n",
       "    <tr>\n",
       "      <th>25</th>\n",
       "      <td>民生路一段民生路一段~電梯套房出租《限女》</td>\n",
       "      <td>3000</td>\n",
       "      <td>3.0</td>\n",
       "      <td>套房</td>\n",
       "      <td>台南市</td>\n",
       "      <td>中西區</td>\n",
       "    </tr>\n",
       "    <tr>\n",
       "      <th>28</th>\n",
       "      <td>大仁街電梯、家俱全套月租4500</td>\n",
       "      <td>4500</td>\n",
       "      <td>6.0</td>\n",
       "      <td>套房</td>\n",
       "      <td>台南市</td>\n",
       "      <td>永康區</td>\n",
       "    </tr>\n",
       "    <tr>\n",
       "      <th>11</th>\n",
       "      <td>新興路51巷看過來！東海電梯套房~長短期出租，設備齊</td>\n",
       "      <td>5500</td>\n",
       "      <td>7.0</td>\n",
       "      <td>套房</td>\n",
       "      <td>台中市</td>\n",
       "      <td>龍井區</td>\n",
       "    </tr>\n",
       "    <tr>\n",
       "      <th>15</th>\n",
       "      <td>二仁路一段155巷嘉南國際學苑B館雙人精緻上下舖套房</td>\n",
       "      <td>5800</td>\n",
       "      <td>6.0</td>\n",
       "      <td>套房</td>\n",
       "      <td>台南市</td>\n",
       "      <td>仁德區</td>\n",
       "    </tr>\n",
       "    <tr>\n",
       "      <th>39</th>\n",
       "      <td>廈門街123巷古亭捷運站【牯嶺公園旁】五星級雅房～限女</td>\n",
       "      <td>6500</td>\n",
       "      <td>5.0</td>\n",
       "      <td>雅房</td>\n",
       "      <td>台北市</td>\n",
       "      <td>中正區</td>\n",
       "    </tr>\n",
       "    <tr>\n",
       "      <th>23</th>\n",
       "      <td>育英路樂成宮旁環境超佳的新套房</td>\n",
       "      <td>6500</td>\n",
       "      <td>7.5</td>\n",
       "      <td>套房</td>\n",
       "      <td>台中市</td>\n",
       "      <td>東區</td>\n",
       "    </tr>\n",
       "    <tr>\n",
       "      <th>36</th>\n",
       "      <td>大昌二路432巷全新大樓管理套房(附車位)</td>\n",
       "      <td>6500</td>\n",
       "      <td>5.5</td>\n",
       "      <td>套房</td>\n",
       "      <td>高雄市</td>\n",
       "      <td>三民區</td>\n",
       "    </tr>\n",
       "    <tr>\n",
       "      <th>35</th>\n",
       "      <td>勝利十二街平價全新套房出租✨交通便利✨✨</td>\n",
       "      <td>6500</td>\n",
       "      <td>6.5</td>\n",
       "      <td>套房</td>\n",
       "      <td>新竹市</td>\n",
       "      <td>北區</td>\n",
       "    </tr>\n",
       "    <tr>\n",
       "      <th>20</th>\n",
       "      <td>松江路64巷松江南京站【松江公園旁】五星級雅房★限女</td>\n",
       "      <td>6500</td>\n",
       "      <td>5.0</td>\n",
       "      <td>雅房</td>\n",
       "      <td>台北市</td>\n",
       "      <td>中山區</td>\n",
       "    </tr>\n",
       "    <tr>\n",
       "      <th>8</th>\n",
       "      <td>長榮路四段58巷近火車站,成大醫院成大,崑科大</td>\n",
       "      <td>6900</td>\n",
       "      <td>6.5</td>\n",
       "      <td>套房</td>\n",
       "      <td>台南市</td>\n",
       "      <td>北區</td>\n",
       "    </tr>\n",
       "    <tr>\n",
       "      <th>21</th>\n",
       "      <td>河南路二段系統裝潢*獨洗*獨曬*衛浴開窗*大遠百</td>\n",
       "      <td>6999</td>\n",
       "      <td>9.0</td>\n",
       "      <td>套房</td>\n",
       "      <td>台中市</td>\n",
       "      <td>西屯區</td>\n",
       "    </tr>\n",
       "    <tr>\n",
       "      <th>33</th>\n",
       "      <td>延平路一段317巷★稀有獨立陽台洗衣機1樓前可停汽機車靜巷</td>\n",
       "      <td>7000</td>\n",
       "      <td>8.0</td>\n",
       "      <td>套房</td>\n",
       "      <td>新竹市</td>\n",
       "      <td>北區</td>\n",
       "    </tr>\n",
       "    <tr>\n",
       "      <th>16</th>\n",
       "      <td>東豐路526巷全新靜巷獨立套房</td>\n",
       "      <td>7000</td>\n",
       "      <td>7.0</td>\n",
       "      <td>套房</td>\n",
       "      <td>桃園市</td>\n",
       "      <td>平鎮區</td>\n",
       "    </tr>\n",
       "    <tr>\n",
       "      <th>27</th>\n",
       "      <td>東平路家電齊全套房</td>\n",
       "      <td>7800</td>\n",
       "      <td>10.0</td>\n",
       "      <td>套房</td>\n",
       "      <td>台中市</td>\n",
       "      <td>太平區</td>\n",
       "    </tr>\n",
       "    <tr>\n",
       "      <th>2</th>\n",
       "      <td>向上北路超大裝潢套房（兩間房間打通）近草悟道</td>\n",
       "      <td>8000</td>\n",
       "      <td>10.0</td>\n",
       "      <td>套房</td>\n",
       "      <td>台中市</td>\n",
       "      <td>西區</td>\n",
       "    </tr>\n",
       "    <tr>\n",
       "      <th>37</th>\n",
       "      <td>長安路二段71巷一年新屋,超大套房,獨立洗衣機,機車位</td>\n",
       "      <td>8800</td>\n",
       "      <td>12.0</td>\n",
       "      <td>套房</td>\n",
       "      <td>台中市</td>\n",
       "      <td>西屯區</td>\n",
       "    </tr>\n",
       "    <tr>\n",
       "      <th>32</th>\n",
       "      <td>華興街府中站捷運步行５分鐘時尚精緻套房</td>\n",
       "      <td>9000</td>\n",
       "      <td>7.0</td>\n",
       "      <td>套房</td>\n",
       "      <td>新北市</td>\n",
       "      <td>板橋區</td>\n",
       "    </tr>\n",
       "    <tr>\n",
       "      <th>31</th>\n",
       "      <td>大業路文心路大業路家樂福，全新家俱大套房</td>\n",
       "      <td>9500</td>\n",
       "      <td>8.0</td>\n",
       "      <td>套房</td>\n",
       "      <td>台中市</td>\n",
       "      <td>西區</td>\n",
       "    </tr>\n",
       "    <tr>\n",
       "      <th>30</th>\n",
       "      <td>正和街蘆洲市中心湧蓮寺旁,近三民高中捷運站</td>\n",
       "      <td>12000</td>\n",
       "      <td>7.0</td>\n",
       "      <td>套房</td>\n",
       "      <td>新北市</td>\n",
       "      <td>蘆洲區</td>\n",
       "    </tr>\n",
       "    <tr>\n",
       "      <th>4</th>\n",
       "      <td>永安南路二段全新渡假民宿風大套房/獨立洗衣機/廚房</td>\n",
       "      <td>13500</td>\n",
       "      <td>11.0</td>\n",
       "      <td>套房</td>\n",
       "      <td>新北市</td>\n",
       "      <td>蘆洲區</td>\n",
       "    </tr>\n",
       "    <tr>\n",
       "      <th>6</th>\n",
       "      <td>青商路桃園青埔高鐵站全新完工全新裝潢全新傢俱</td>\n",
       "      <td>23000</td>\n",
       "      <td>43.0</td>\n",
       "      <td>整層</td>\n",
       "      <td>桃園市</td>\n",
       "      <td>中壢區</td>\n",
       "    </tr>\n",
       "    <tr>\n",
       "      <th>19</th>\n",
       "      <td>林森北路近捷運中山站~南京東路口~溫馨隔一小房~</td>\n",
       "      <td>24000</td>\n",
       "      <td>22.3</td>\n",
       "      <td>住辦</td>\n",
       "      <td>台北市</td>\n",
       "      <td>中山區</td>\n",
       "    </tr>\n",
       "    <tr>\n",
       "      <th>38</th>\n",
       "      <td>八德路二段近南京復興站~微風廣場~生活機能佳</td>\n",
       "      <td>24000</td>\n",
       "      <td>17.2</td>\n",
       "      <td>辦公</td>\n",
       "      <td>台北市</td>\n",
       "      <td>松山區</td>\n",
       "    </tr>\n",
       "    <tr>\n",
       "      <th>3</th>\n",
       "      <td>忠孝東路五段近永春捷運~交通方便~生活機能佳</td>\n",
       "      <td>29000</td>\n",
       "      <td>22.8</td>\n",
       "      <td>辦公</td>\n",
       "      <td>台北市</td>\n",
       "      <td>信義區</td>\n",
       "    </tr>\n",
       "    <tr>\n",
       "      <th>29</th>\n",
       "      <td>延平北路一段69巷台北車站【月租飯店式】五星獨棟～電梯套房</td>\n",
       "      <td>33000</td>\n",
       "      <td>8.0</td>\n",
       "      <td>套房</td>\n",
       "      <td>台北市</td>\n",
       "      <td>大同區</td>\n",
       "    </tr>\n",
       "    <tr>\n",
       "      <th>7</th>\n",
       "      <td>光復北路近小巨蛋捷運~交通方便~生活機能佳</td>\n",
       "      <td>36000</td>\n",
       "      <td>36.0</td>\n",
       "      <td>辦公</td>\n",
       "      <td>台北市</td>\n",
       "      <td>松山區</td>\n",
       "    </tr>\n",
       "    <tr>\n",
       "      <th>13</th>\n",
       "      <td>基隆路一段近南京三民站南京東路五段旁優質屋況佳辦公</td>\n",
       "      <td>36000</td>\n",
       "      <td>35.6</td>\n",
       "      <td>辦公</td>\n",
       "      <td>台北市</td>\n",
       "      <td>松山區</td>\n",
       "    </tr>\n",
       "    <tr>\n",
       "      <th>9</th>\n",
       "      <td>長安東路二段近建國北路,現有OA可使用~</td>\n",
       "      <td>36300</td>\n",
       "      <td>33.0</td>\n",
       "      <td>辦公</td>\n",
       "      <td>台北市</td>\n",
       "      <td>中山區</td>\n",
       "    </tr>\n",
       "    <tr>\n",
       "      <th>5</th>\n",
       "      <td>光復南路近捷運信義安和站~靠信義路~基隆路口~</td>\n",
       "      <td>42000</td>\n",
       "      <td>38.6</td>\n",
       "      <td>辦公</td>\n",
       "      <td>台北市</td>\n",
       "      <td>信義區</td>\n",
       "    </tr>\n",
       "    <tr>\n",
       "      <th>17</th>\n",
       "      <td>八德路四段近松山捷運站出口~饒河街~生活機能佳</td>\n",
       "      <td>50000</td>\n",
       "      <td>48.3</td>\n",
       "      <td>辦公</td>\n",
       "      <td>台北市</td>\n",
       "      <td>松山區</td>\n",
       "    </tr>\n",
       "    <tr>\n",
       "      <th>0</th>\n",
       "      <td>中山北路三段近結運民權西站~靠農安街~有OA家俱~</td>\n",
       "      <td>58000</td>\n",
       "      <td>48.8</td>\n",
       "      <td>辦公</td>\n",
       "      <td>台北市</td>\n",
       "      <td>中山區</td>\n",
       "    </tr>\n",
       "    <tr>\n",
       "      <th>34</th>\n",
       "      <td>羅斯福路三段古亭,台電捷運站,適合補習班診所</td>\n",
       "      <td>100000</td>\n",
       "      <td>83.2</td>\n",
       "      <td>辦公</td>\n",
       "      <td>台北市</td>\n",
       "      <td>大安區</td>\n",
       "    </tr>\n",
       "    <tr>\n",
       "      <th>24</th>\n",
       "      <td>建國北路一段近捷運快速道商務通勤超便利裝潢新穎超值選</td>\n",
       "      <td>101304</td>\n",
       "      <td>78.0</td>\n",
       "      <td>辦公</td>\n",
       "      <td>台北市</td>\n",
       "      <td>中山區</td>\n",
       "    </tr>\n",
       "    <tr>\n",
       "      <th>12</th>\n",
       "      <td>南京東路三段近捷運松江南京一層一戶高樓屋況佳適診所</td>\n",
       "      <td>120000</td>\n",
       "      <td>85.5</td>\n",
       "      <td>辦公</td>\n",
       "      <td>台北市</td>\n",
       "      <td>中山區</td>\n",
       "    </tr>\n",
       "    <tr>\n",
       "      <th>14</th>\n",
       "      <td>松江路近忠孝新生,南京松江站,南京東路</td>\n",
       "      <td>120000</td>\n",
       "      <td>80.0</td>\n",
       "      <td>辦公</td>\n",
       "      <td>台北市</td>\n",
       "      <td>中山區</td>\n",
       "    </tr>\n",
       "    <tr>\n",
       "      <th>10</th>\n",
       "      <td>民權東路六段國道市區連結核心區方正開放挑高實用辦</td>\n",
       "      <td>120235</td>\n",
       "      <td>114.8</td>\n",
       "      <td>辦公</td>\n",
       "      <td>台北市</td>\n",
       "      <td>內湖區</td>\n",
       "    </tr>\n",
       "    <tr>\n",
       "      <th>1</th>\n",
       "      <td>羅斯福路三段近捷運公館站~新生南路口~有廣告效果~</td>\n",
       "      <td>130000</td>\n",
       "      <td>74.4</td>\n",
       "      <td>辦公</td>\n",
       "      <td>台北市</td>\n",
       "      <td>中正區</td>\n",
       "    </tr>\n",
       "    <tr>\n",
       "      <th>18</th>\n",
       "      <td>瑞湖街堤頂大道旁科技業密集區機能優屋況佳超推.</td>\n",
       "      <td>150333</td>\n",
       "      <td>143.5</td>\n",
       "      <td>辦公</td>\n",
       "      <td>台北市</td>\n",
       "      <td>內湖區</td>\n",
       "    </tr>\n",
       "    <tr>\n",
       "      <th>22</th>\n",
       "      <td>松江路近松江南京捷運站,忠孝新生,A級純辦</td>\n",
       "      <td>219270</td>\n",
       "      <td>146.2</td>\n",
       "      <td>辦公</td>\n",
       "      <td>台北市</td>\n",
       "      <td>中山區</td>\n",
       "    </tr>\n",
       "  </tbody>\n",
       "</table>\n",
       "</div>"
      ],
      "text/plain": [
       "                             name   price     坪數 房間類別 city town\n",
       "26             永和路二段工商登記2000元,可特許    2000    1.0   辦公  新北市  永和區\n",
       "25          民生路一段民生路一段~電梯套房出租《限女》    3000    3.0   套房  台南市  中西區\n",
       "28               大仁街電梯、家俱全套月租4500    4500    6.0   套房  台南市  永康區\n",
       "11     新興路51巷看過來！東海電梯套房~長短期出租，設備齊    5500    7.0   套房  台中市  龍井區\n",
       "15     二仁路一段155巷嘉南國際學苑B館雙人精緻上下舖套房    5800    6.0   套房  台南市  仁德區\n",
       "39    廈門街123巷古亭捷運站【牯嶺公園旁】五星級雅房～限女    6500    5.0   雅房  台北市  中正區\n",
       "23                育英路樂成宮旁環境超佳的新套房    6500    7.5   套房  台中市   東區\n",
       "36          大昌二路432巷全新大樓管理套房(附車位)    6500    5.5   套房  高雄市  三民區\n",
       "35           勝利十二街平價全新套房出租✨交通便利✨✨    6500    6.5   套房  新竹市   北區\n",
       "20     松江路64巷松江南京站【松江公園旁】五星級雅房★限女    6500    5.0   雅房  台北市  中山區\n",
       "8         長榮路四段58巷近火車站,成大醫院成大,崑科大    6900    6.5   套房  台南市   北區\n",
       "21       河南路二段系統裝潢*獨洗*獨曬*衛浴開窗*大遠百    6999    9.0   套房  台中市  西屯區\n",
       "33  延平路一段317巷★稀有獨立陽台洗衣機1樓前可停汽機車靜巷    7000    8.0   套房  新竹市   北區\n",
       "16                東豐路526巷全新靜巷獨立套房    7000    7.0   套房  桃園市  平鎮區\n",
       "27                      東平路家電齊全套房    7800   10.0   套房  台中市  太平區\n",
       "2          向上北路超大裝潢套房（兩間房間打通）近草悟道    8000   10.0   套房  台中市   西區\n",
       "37    長安路二段71巷一年新屋,超大套房,獨立洗衣機,機車位    8800   12.0   套房  台中市  西屯區\n",
       "32            華興街府中站捷運步行５分鐘時尚精緻套房    9000    7.0   套房  新北市  板橋區\n",
       "31           大業路文心路大業路家樂福，全新家俱大套房    9500    8.0   套房  台中市   西區\n",
       "30          正和街蘆洲市中心湧蓮寺旁,近三民高中捷運站   12000    7.0   套房  新北市  蘆洲區\n",
       "4       永安南路二段全新渡假民宿風大套房/獨立洗衣機/廚房   13500   11.0   套房  新北市  蘆洲區\n",
       "6          青商路桃園青埔高鐵站全新完工全新裝潢全新傢俱   23000   43.0   整層  桃園市  中壢區\n",
       "19       林森北路近捷運中山站~南京東路口~溫馨隔一小房~   24000   22.3   住辦  台北市  中山區\n",
       "38         八德路二段近南京復興站~微風廣場~生活機能佳   24000   17.2   辦公  台北市  松山區\n",
       "3          忠孝東路五段近永春捷運~交通方便~生活機能佳   29000   22.8   辦公  台北市  信義區\n",
       "29  延平北路一段69巷台北車站【月租飯店式】五星獨棟～電梯套房   33000    8.0   套房  台北市  大同區\n",
       "7           光復北路近小巨蛋捷運~交通方便~生活機能佳   36000   36.0   辦公  台北市  松山區\n",
       "13      基隆路一段近南京三民站南京東路五段旁優質屋況佳辦公   36000   35.6   辦公  台北市  松山區\n",
       "9            長安東路二段近建國北路,現有OA可使用~   36300   33.0   辦公  台北市  中山區\n",
       "5         光復南路近捷運信義安和站~靠信義路~基隆路口~   42000   38.6   辦公  台北市  信義區\n",
       "17        八德路四段近松山捷運站出口~饒河街~生活機能佳   50000   48.3   辦公  台北市  松山區\n",
       "0       中山北路三段近結運民權西站~靠農安街~有OA家俱~   58000   48.8   辦公  台北市  中山區\n",
       "34         羅斯福路三段古亭,台電捷運站,適合補習班診所  100000   83.2   辦公  台北市  大安區\n",
       "24     建國北路一段近捷運快速道商務通勤超便利裝潢新穎超值選  101304   78.0   辦公  台北市  中山區\n",
       "12      南京東路三段近捷運松江南京一層一戶高樓屋況佳適診所  120000   85.5   辦公  台北市  中山區\n",
       "14            松江路近忠孝新生,南京松江站,南京東路  120000   80.0   辦公  台北市  中山區\n",
       "10       民權東路六段國道市區連結核心區方正開放挑高實用辦  120235  114.8   辦公  台北市  內湖區\n",
       "1       羅斯福路三段近捷運公館站~新生南路口~有廣告效果~  130000   74.4   辦公  台北市  中正區\n",
       "18        瑞湖街堤頂大道旁科技業密集區機能優屋況佳超推.  150333  143.5   辦公  台北市  內湖區\n",
       "22          松江路近松江南京捷運站,忠孝新生,A級純辦  219270  146.2   辦公  台北市  中山區"
      ]
     },
     "execution_count": 49,
     "metadata": {},
     "output_type": "execute_result"
    }
   ],
   "source": [
    "df.sort_values('price',ascending=True)"
   ]
  },
  {
   "cell_type": "code",
   "execution_count": 69,
   "metadata": {
    "collapsed": false
   },
   "outputs": [
    {
     "data": {
      "text/html": [
       "<div>\n",
       "<style>\n",
       "    .dataframe thead tr:only-child th {\n",
       "        text-align: right;\n",
       "    }\n",
       "\n",
       "    .dataframe thead th {\n",
       "        text-align: left;\n",
       "    }\n",
       "\n",
       "    .dataframe tbody tr th {\n",
       "        vertical-align: top;\n",
       "    }\n",
       "</style>\n",
       "<table border=\"1\" class=\"dataframe\">\n",
       "  <thead>\n",
       "    <tr style=\"text-align: right;\">\n",
       "      <th></th>\n",
       "      <th>name</th>\n",
       "      <th>price</th>\n",
       "      <th>坪數</th>\n",
       "      <th>房間類別</th>\n",
       "      <th>city</th>\n",
       "      <th>town</th>\n",
       "    </tr>\n",
       "  </thead>\n",
       "  <tbody>\n",
       "    <tr>\n",
       "      <th>19</th>\n",
       "      <td>林森北路近捷運中山站~南京東路口~溫馨隔一小房~</td>\n",
       "      <td>24000</td>\n",
       "      <td>22.3</td>\n",
       "      <td>住辦</td>\n",
       "      <td>台北市</td>\n",
       "      <td>中山區</td>\n",
       "    </tr>\n",
       "    <tr>\n",
       "      <th>38</th>\n",
       "      <td>八德路二段近南京復興站~微風廣場~生活機能佳</td>\n",
       "      <td>24000</td>\n",
       "      <td>17.2</td>\n",
       "      <td>辦公</td>\n",
       "      <td>台北市</td>\n",
       "      <td>松山區</td>\n",
       "    </tr>\n",
       "    <tr>\n",
       "      <th>3</th>\n",
       "      <td>忠孝東路五段近永春捷運~交通方便~生活機能佳</td>\n",
       "      <td>29000</td>\n",
       "      <td>22.8</td>\n",
       "      <td>辦公</td>\n",
       "      <td>台北市</td>\n",
       "      <td>信義區</td>\n",
       "    </tr>\n",
       "    <tr>\n",
       "      <th>29</th>\n",
       "      <td>延平北路一段69巷台北車站【月租飯店式】五星獨棟～電梯套房</td>\n",
       "      <td>33000</td>\n",
       "      <td>8.0</td>\n",
       "      <td>套房</td>\n",
       "      <td>台北市</td>\n",
       "      <td>大同區</td>\n",
       "    </tr>\n",
       "    <tr>\n",
       "      <th>7</th>\n",
       "      <td>光復北路近小巨蛋捷運~交通方便~生活機能佳</td>\n",
       "      <td>36000</td>\n",
       "      <td>36.0</td>\n",
       "      <td>辦公</td>\n",
       "      <td>台北市</td>\n",
       "      <td>松山區</td>\n",
       "    </tr>\n",
       "    <tr>\n",
       "      <th>13</th>\n",
       "      <td>基隆路一段近南京三民站南京東路五段旁優質屋況佳辦公</td>\n",
       "      <td>36000</td>\n",
       "      <td>35.6</td>\n",
       "      <td>辦公</td>\n",
       "      <td>台北市</td>\n",
       "      <td>松山區</td>\n",
       "    </tr>\n",
       "    <tr>\n",
       "      <th>9</th>\n",
       "      <td>長安東路二段近建國北路,現有OA可使用~</td>\n",
       "      <td>36300</td>\n",
       "      <td>33.0</td>\n",
       "      <td>辦公</td>\n",
       "      <td>台北市</td>\n",
       "      <td>中山區</td>\n",
       "    </tr>\n",
       "  </tbody>\n",
       "</table>\n",
       "</div>"
      ],
      "text/plain": [
       "                             name  price    坪數 房間類別 city town\n",
       "19       林森北路近捷運中山站~南京東路口~溫馨隔一小房~  24000  22.3   住辦  台北市  中山區\n",
       "38         八德路二段近南京復興站~微風廣場~生活機能佳  24000  17.2   辦公  台北市  松山區\n",
       "3          忠孝東路五段近永春捷運~交通方便~生活機能佳  29000  22.8   辦公  台北市  信義區\n",
       "29  延平北路一段69巷台北車站【月租飯店式】五星獨棟～電梯套房  33000   8.0   套房  台北市  大同區\n",
       "7           光復北路近小巨蛋捷運~交通方便~生活機能佳  36000  36.0   辦公  台北市  松山區\n",
       "13      基隆路一段近南京三民站南京東路五段旁優質屋況佳辦公  36000  35.6   辦公  台北市  松山區\n",
       "9            長安東路二段近建國北路,現有OA可使用~  36300  33.0   辦公  台北市  中山區"
      ]
     },
     "execution_count": 69,
     "metadata": {},
     "output_type": "execute_result"
    }
   ],
   "source": [
    "df2 = df[(df['city']==\"台北市\")&(20000<df['price'])&(df['price']<40000)]\n",
    "df2.sort_values(\"price\")"
   ]
  },
  {
   "cell_type": "markdown",
   "metadata": {},
   "source": [
    "groupby"
   ]
  },
  {
   "cell_type": "code",
   "execution_count": 84,
   "metadata": {
    "collapsed": false
   },
   "outputs": [
    {
     "data": {
      "text/html": [
       "<div>\n",
       "<style>\n",
       "    .dataframe thead tr:only-child th {\n",
       "        text-align: right;\n",
       "    }\n",
       "\n",
       "    .dataframe thead th {\n",
       "        text-align: left;\n",
       "    }\n",
       "\n",
       "    .dataframe tbody tr th {\n",
       "        vertical-align: top;\n",
       "    }\n",
       "</style>\n",
       "<table border=\"1\" class=\"dataframe\">\n",
       "  <thead>\n",
       "    <tr style=\"text-align: right;\">\n",
       "      <th></th>\n",
       "      <th>price</th>\n",
       "      <th>坪數</th>\n",
       "    </tr>\n",
       "    <tr>\n",
       "      <th>city</th>\n",
       "      <th></th>\n",
       "      <th></th>\n",
       "    </tr>\n",
       "  </thead>\n",
       "  <tbody>\n",
       "    <tr>\n",
       "      <th>台中市</th>\n",
       "      <td>7585.571429</td>\n",
       "      <td>9.071429</td>\n",
       "    </tr>\n",
       "    <tr>\n",
       "      <th>台北市</th>\n",
       "      <td>72122.100000</td>\n",
       "      <td>56.310000</td>\n",
       "    </tr>\n",
       "    <tr>\n",
       "      <th>台南市</th>\n",
       "      <td>5050.000000</td>\n",
       "      <td>5.375000</td>\n",
       "    </tr>\n",
       "    <tr>\n",
       "      <th>新北市</th>\n",
       "      <td>9125.000000</td>\n",
       "      <td>6.500000</td>\n",
       "    </tr>\n",
       "    <tr>\n",
       "      <th>新竹市</th>\n",
       "      <td>6750.000000</td>\n",
       "      <td>7.250000</td>\n",
       "    </tr>\n",
       "    <tr>\n",
       "      <th>桃園市</th>\n",
       "      <td>15000.000000</td>\n",
       "      <td>25.000000</td>\n",
       "    </tr>\n",
       "    <tr>\n",
       "      <th>高雄市</th>\n",
       "      <td>6500.000000</td>\n",
       "      <td>5.500000</td>\n",
       "    </tr>\n",
       "  </tbody>\n",
       "</table>\n",
       "</div>"
      ],
      "text/plain": [
       "             price         坪數\n",
       "city                         \n",
       "台中市    7585.571429   9.071429\n",
       "台北市   72122.100000  56.310000\n",
       "台南市    5050.000000   5.375000\n",
       "新北市    9125.000000   6.500000\n",
       "新竹市    6750.000000   7.250000\n",
       "桃園市   15000.000000  25.000000\n",
       "高雄市    6500.000000   5.500000"
      ]
     },
     "execution_count": 84,
     "metadata": {},
     "output_type": "execute_result"
    }
   ],
   "source": [
    "df.groupby('city').mean()"
   ]
  },
  {
   "cell_type": "code",
   "execution_count": 85,
   "metadata": {
    "collapsed": false
   },
   "outputs": [
    {
     "data": {
      "text/html": [
       "<div>\n",
       "<style>\n",
       "    .dataframe thead tr:only-child th {\n",
       "        text-align: right;\n",
       "    }\n",
       "\n",
       "    .dataframe thead th {\n",
       "        text-align: left;\n",
       "    }\n",
       "\n",
       "    .dataframe tbody tr th {\n",
       "        vertical-align: top;\n",
       "    }\n",
       "</style>\n",
       "<table border=\"1\" class=\"dataframe\">\n",
       "  <thead>\n",
       "    <tr style=\"text-align: right;\">\n",
       "      <th></th>\n",
       "      <th></th>\n",
       "      <th>price</th>\n",
       "      <th>坪數</th>\n",
       "    </tr>\n",
       "    <tr>\n",
       "      <th>city</th>\n",
       "      <th>town</th>\n",
       "      <th></th>\n",
       "      <th></th>\n",
       "    </tr>\n",
       "  </thead>\n",
       "  <tbody>\n",
       "    <tr>\n",
       "      <th rowspan=\"5\" valign=\"top\">台中市</th>\n",
       "      <th>太平區</th>\n",
       "      <td>7800.00</td>\n",
       "      <td>10.000</td>\n",
       "    </tr>\n",
       "    <tr>\n",
       "      <th>東區</th>\n",
       "      <td>6500.00</td>\n",
       "      <td>7.500</td>\n",
       "    </tr>\n",
       "    <tr>\n",
       "      <th>西區</th>\n",
       "      <td>8750.00</td>\n",
       "      <td>9.000</td>\n",
       "    </tr>\n",
       "    <tr>\n",
       "      <th>西屯區</th>\n",
       "      <td>7899.50</td>\n",
       "      <td>10.500</td>\n",
       "    </tr>\n",
       "    <tr>\n",
       "      <th>龍井區</th>\n",
       "      <td>5500.00</td>\n",
       "      <td>7.000</td>\n",
       "    </tr>\n",
       "    <tr>\n",
       "      <th rowspan=\"7\" valign=\"top\">台北市</th>\n",
       "      <th>中山區</th>\n",
       "      <td>85671.75</td>\n",
       "      <td>62.350</td>\n",
       "    </tr>\n",
       "    <tr>\n",
       "      <th>中正區</th>\n",
       "      <td>68250.00</td>\n",
       "      <td>39.700</td>\n",
       "    </tr>\n",
       "    <tr>\n",
       "      <th>信義區</th>\n",
       "      <td>35500.00</td>\n",
       "      <td>30.700</td>\n",
       "    </tr>\n",
       "    <tr>\n",
       "      <th>內湖區</th>\n",
       "      <td>135284.00</td>\n",
       "      <td>129.150</td>\n",
       "    </tr>\n",
       "    <tr>\n",
       "      <th>大同區</th>\n",
       "      <td>33000.00</td>\n",
       "      <td>8.000</td>\n",
       "    </tr>\n",
       "    <tr>\n",
       "      <th>大安區</th>\n",
       "      <td>100000.00</td>\n",
       "      <td>83.200</td>\n",
       "    </tr>\n",
       "    <tr>\n",
       "      <th>松山區</th>\n",
       "      <td>36500.00</td>\n",
       "      <td>34.275</td>\n",
       "    </tr>\n",
       "    <tr>\n",
       "      <th rowspan=\"4\" valign=\"top\">台南市</th>\n",
       "      <th>中西區</th>\n",
       "      <td>3000.00</td>\n",
       "      <td>3.000</td>\n",
       "    </tr>\n",
       "    <tr>\n",
       "      <th>仁德區</th>\n",
       "      <td>5800.00</td>\n",
       "      <td>6.000</td>\n",
       "    </tr>\n",
       "    <tr>\n",
       "      <th>北區</th>\n",
       "      <td>6900.00</td>\n",
       "      <td>6.500</td>\n",
       "    </tr>\n",
       "    <tr>\n",
       "      <th>永康區</th>\n",
       "      <td>4500.00</td>\n",
       "      <td>6.000</td>\n",
       "    </tr>\n",
       "    <tr>\n",
       "      <th rowspan=\"3\" valign=\"top\">新北市</th>\n",
       "      <th>板橋區</th>\n",
       "      <td>9000.00</td>\n",
       "      <td>7.000</td>\n",
       "    </tr>\n",
       "    <tr>\n",
       "      <th>永和區</th>\n",
       "      <td>2000.00</td>\n",
       "      <td>1.000</td>\n",
       "    </tr>\n",
       "    <tr>\n",
       "      <th>蘆洲區</th>\n",
       "      <td>12750.00</td>\n",
       "      <td>9.000</td>\n",
       "    </tr>\n",
       "    <tr>\n",
       "      <th>新竹市</th>\n",
       "      <th>北區</th>\n",
       "      <td>6750.00</td>\n",
       "      <td>7.250</td>\n",
       "    </tr>\n",
       "    <tr>\n",
       "      <th rowspan=\"2\" valign=\"top\">桃園市</th>\n",
       "      <th>中壢區</th>\n",
       "      <td>23000.00</td>\n",
       "      <td>43.000</td>\n",
       "    </tr>\n",
       "    <tr>\n",
       "      <th>平鎮區</th>\n",
       "      <td>7000.00</td>\n",
       "      <td>7.000</td>\n",
       "    </tr>\n",
       "    <tr>\n",
       "      <th>高雄市</th>\n",
       "      <th>三民區</th>\n",
       "      <td>6500.00</td>\n",
       "      <td>5.500</td>\n",
       "    </tr>\n",
       "  </tbody>\n",
       "</table>\n",
       "</div>"
      ],
      "text/plain": [
       "               price       坪數\n",
       "city town                    \n",
       "台中市  太平區     7800.00   10.000\n",
       "     東區      6500.00    7.500\n",
       "     西區      8750.00    9.000\n",
       "     西屯區     7899.50   10.500\n",
       "     龍井區     5500.00    7.000\n",
       "台北市  中山區    85671.75   62.350\n",
       "     中正區    68250.00   39.700\n",
       "     信義區    35500.00   30.700\n",
       "     內湖區   135284.00  129.150\n",
       "     大同區    33000.00    8.000\n",
       "     大安區   100000.00   83.200\n",
       "     松山區    36500.00   34.275\n",
       "台南市  中西區     3000.00    3.000\n",
       "     仁德區     5800.00    6.000\n",
       "     北區      6900.00    6.500\n",
       "     永康區     4500.00    6.000\n",
       "新北市  板橋區     9000.00    7.000\n",
       "     永和區     2000.00    1.000\n",
       "     蘆洲區    12750.00    9.000\n",
       "新竹市  北區      6750.00    7.250\n",
       "桃園市  中壢區    23000.00   43.000\n",
       "     平鎮區     7000.00    7.000\n",
       "高雄市  三民區     6500.00    5.500"
      ]
     },
     "execution_count": 85,
     "metadata": {},
     "output_type": "execute_result"
    }
   ],
   "source": [
    "df.groupby(['city','town']).mean()"
   ]
  },
  {
   "cell_type": "markdown",
   "metadata": {},
   "source": [
    "匯出檔案"
   ]
  },
  {
   "cell_type": "code",
   "execution_count": null,
   "metadata": {
    "collapsed": true
   },
   "outputs": [],
   "source": [
    "df.to_csv(\"整理好的租屋資料.csv\")"
   ]
  },
  {
   "cell_type": "code",
   "execution_count": 14,
   "metadata": {
    "collapsed": true
   },
   "outputs": [],
   "source": [
    "df.to_excel(\"整理好的租屋資料.xlsx\")"
   ]
  },
  {
   "cell_type": "code",
   "execution_count": 65,
   "metadata": {
    "collapsed": true
   },
   "outputs": [],
   "source": [
    "df.to_json(\"整理好的租屋資料.json\")"
   ]
  },
  {
   "cell_type": "code",
   "execution_count": 63,
   "metadata": {
    "collapsed": true
   },
   "outputs": [],
   "source": [
    "df2 = df.groupby(['city','town']).mean()\n",
    "df2.to_excel(\"groupby.xlsx\")"
   ]
  }
 ],
 "metadata": {
  "kernelspec": {
   "display_name": "Python 3",
   "language": "python",
   "name": "python3"
  },
  "language_info": {
   "codemirror_mode": {
    "name": "ipython",
    "version": 3
   },
   "file_extension": ".py",
   "mimetype": "text/x-python",
   "name": "python",
   "nbconvert_exporter": "python",
   "pygments_lexer": "ipython3",
   "version": "3.6.3"
  }
 },
 "nbformat": 4,
 "nbformat_minor": 2
}
