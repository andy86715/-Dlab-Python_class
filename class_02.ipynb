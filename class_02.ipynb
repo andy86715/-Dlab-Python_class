{
 "cells": [
  {
   "cell_type": "markdown",
   "metadata": {
    "collapsed": false
   },
   "source": [
    "# 2. 串列 (list)"
   ]
  },
  {
   "cell_type": "markdown",
   "metadata": {},
   "source": [
    "串列介紹"
   ]
  },
  {
   "cell_type": "code",
   "execution_count": 41,
   "metadata": {
    "collapsed": false
   },
   "outputs": [
    {
     "name": "stdout",
     "output_type": "stream",
     "text": [
      "['abc', 2018, 12345, 'Datalab']\n",
      "[]\n"
     ]
    }
   ],
   "source": [
    "my_list = [\"abc\",2018,12345,\"Datalab\"]\n",
    "my_list2=[]\n",
    "print(my_list)\n",
    "print(my_list2)"
   ]
  },
  {
   "cell_type": "markdown",
   "metadata": {
    "collapsed": false
   },
   "source": [
    "串列的位置"
   ]
  },
  {
   "cell_type": "code",
   "execution_count": 34,
   "metadata": {
    "collapsed": false
   },
   "outputs": [
    {
     "name": "stdout",
     "output_type": "stream",
     "text": [
      "第一個值： abc\n",
      "最後一個值： Datalab\n"
     ]
    }
   ],
   "source": [
    "print(\"第一個值：\",my_list[0])\n",
    "print(\"最後一個值：\",my_list[-1])"
   ]
  },
  {
   "cell_type": "markdown",
   "metadata": {},
   "source": [
    "串列的新增"
   ]
  },
  {
   "cell_type": "code",
   "execution_count": 42,
   "metadata": {
    "collapsed": false
   },
   "outputs": [
    {
     "name": "stdout",
     "output_type": "stream",
     "text": [
      "['abc', 2018, 12345, 'Datalab', 'Hello']\n"
     ]
    }
   ],
   "source": [
    "my_list.append(\"Hello\")\n",
    "print(my_list)"
   ]
  },
  {
   "cell_type": "code",
   "execution_count": 43,
   "metadata": {
    "collapsed": false
   },
   "outputs": [
    {
     "name": "stdout",
     "output_type": "stream",
     "text": [
      "['I am Andy', 'abc', 2018, 12345, 'Datalab', 'Hello']\n"
     ]
    }
   ],
   "source": [
    "my_list.insert(0,\"I am Andy\")\n",
    "print(my_list)"
   ]
  },
  {
   "cell_type": "markdown",
   "metadata": {},
   "source": [
    "串列的刪除"
   ]
  },
  {
   "cell_type": "code",
   "execution_count": 44,
   "metadata": {
    "collapsed": false
   },
   "outputs": [
    {
     "name": "stdout",
     "output_type": "stream",
     "text": [
      "['I am Andy', 'abc', 2018, 12345, 'Datalab']\n"
     ]
    }
   ],
   "source": [
    "my_list.pop()\n",
    "print(my_list)"
   ]
  },
  {
   "cell_type": "code",
   "execution_count": 45,
   "metadata": {
    "collapsed": false
   },
   "outputs": [
    {
     "name": "stdout",
     "output_type": "stream",
     "text": [
      "['I am Andy', 2018, 12345, 'Datalab']\n"
     ]
    }
   ],
   "source": [
    "my_list.pop(1)\n",
    "print(my_list)"
   ]
  },
  {
   "cell_type": "code",
   "execution_count": 46,
   "metadata": {
    "collapsed": false
   },
   "outputs": [
    {
     "name": "stdout",
     "output_type": "stream",
     "text": [
      "['I am Andy', 2018, 'Datalab']\n"
     ]
    }
   ],
   "source": [
    "my_list.remove(12345)\n",
    "print(my_list)"
   ]
  },
  {
   "cell_type": "markdown",
   "metadata": {},
   "source": [
    "串列的合併"
   ]
  },
  {
   "cell_type": "code",
   "execution_count": 66,
   "metadata": {
    "collapsed": false
   },
   "outputs": [
    {
     "name": "stdout",
     "output_type": "stream",
     "text": [
      "[('Baseball', '大谷翔平'), ('Tennis', 'Rafa Nadal'), ('Basketball', 'LeBron James'), ('Scooer', 'Messi')]\n"
     ]
    }
   ],
   "source": [
    "sports = [\"Baseball\", \"Tennis\", \"Basketball\", \"Scooer\"]\n",
    "player = [\"大谷翔平\", \"Rafa Nadal\", \"LeBron James\", \"Messi\"]\n",
    "print(list(zip(sports,player)))"
   ]
  },
  {
   "cell_type": "markdown",
   "metadata": {
    "collapsed": false
   },
   "source": [
    "串列的計算"
   ]
  },
  {
   "cell_type": "code",
   "execution_count": 4,
   "metadata": {
    "collapsed": false
   },
   "outputs": [
    {
     "name": "stdout",
     "output_type": "stream",
     "text": [
      "4\n",
      "1\n"
     ]
    }
   ],
   "source": [
    "my_list = [\"abc\",2018,12345,\"Datalab\"]\n",
    "print(len(my_list))\n",
    "print(my_list.count('abc'))"
   ]
  },
  {
   "cell_type": "code",
   "execution_count": 5,
   "metadata": {
    "collapsed": false
   },
   "outputs": [
    {
     "name": "stdout",
     "output_type": "stream",
     "text": [
      "Ichiro Suzuki\n",
      "13\n",
      "2\n"
     ]
    }
   ],
   "source": [
    "string = \"Ichiro Suzuki\"\n",
    "print(string)\n",
    "print(len(string))\n",
    "print(string.count('i'))"
   ]
  },
  {
   "cell_type": "markdown",
   "metadata": {
    "collapsed": false
   },
   "source": [
    "字串的切割"
   ]
  },
  {
   "cell_type": "code",
   "execution_count": 6,
   "metadata": {
    "collapsed": false
   },
   "outputs": [
    {
     "name": "stdout",
     "output_type": "stream",
     "text": [
      "['Ichiro', 'Suzuki']\n",
      "Ichiro\n",
      "Suzuki\n"
     ]
    }
   ],
   "source": [
    "print(string.split(\" \"))    # 以空白切開\n",
    "print(string.split(\" \")[0]) # 第一項\n",
    "print(string.split(\" \")[1]) # 第二項"
   ]
  },
  {
   "cell_type": "code",
   "execution_count": 7,
   "metadata": {
    "collapsed": false
   },
   "outputs": [
    {
     "name": "stdout",
     "output_type": "stream",
     "text": [
      "['\\n', 'Python', 'is', 'a', 'programming', 'language', 'that', 'lets', 'you', 'work', 'more', 'quickly', 'and', '\\n', 'integrate', 'your', 'systems', 'more', 'effectively.', 'You', 'can', 'learn', 'to', 'use', 'Python', 'and', '\\n', 'see', 'almost', 'immediate', 'gains', 'in', 'productivity', 'and', 'lower', 'maintenance', 'costs.', '\\n']\n"
     ]
    }
   ],
   "source": [
    "article = \"\"\"\n",
    " Python is a programming language that lets you work more quickly and \n",
    " integrate your systems more effectively. You can learn to use Python and \n",
    " see almost immediate gains in productivity and lower maintenance costs. \n",
    "\"\"\"\n",
    "print(article.split(' '))"
   ]
  },
  {
   "cell_type": "markdown",
   "metadata": {
    "collapsed": false
   },
   "source": [
    "字串的取代"
   ]
  },
  {
   "cell_type": "code",
   "execution_count": 8,
   "metadata": {
    "collapsed": false
   },
   "outputs": [
    {
     "name": "stdout",
     "output_type": "stream",
     "text": [
      "Disneyland Park\n",
      "Aisneyland Park\n",
      "DisneylZnd PZrk\n"
     ]
    }
   ],
   "source": [
    "string2 = \"Disneyland Park\"\n",
    "print(string2)\n",
    "print(string2.replace('D','A'))\n",
    "print(string2.replace('a','Z'))"
   ]
  },
  {
   "cell_type": "code",
   "execution_count": 9,
   "metadata": {
    "collapsed": false
   },
   "outputs": [
    {
     "name": "stdout",
     "output_type": "stream",
     "text": [
      "\n",
      " C++ is a programming language that lets you work more quickly and \n",
      " integrate your systems more effectively. You can learn to use C++ and \n",
      " see almost immediate gains in productivity and lower maintenance costs. \n",
      "\n"
     ]
    }
   ],
   "source": [
    "article = \"\"\"\n",
    " Python is a programming language that lets you work more quickly and \n",
    " integrate your systems more effectively. You can learn to use Python and \n",
    " see almost immediate gains in productivity and lower maintenance costs. \n",
    "\"\"\"\n",
    "print(article.replace('Python','C++'))"
   ]
  },
  {
   "cell_type": "markdown",
   "metadata": {
    "collapsed": false
   },
   "source": [
    "注意1"
   ]
  },
  {
   "cell_type": "code",
   "execution_count": 10,
   "metadata": {
    "collapsed": false
   },
   "outputs": [
    {
     "name": "stdout",
     "output_type": "stream",
     "text": [
      "5\n"
     ]
    }
   ],
   "source": [
    "article = \"\"\"\n",
    " Python is a programming language that lets you work more quickly and \n",
    " integrate your systems more effectively. You can learn to use Python and \n",
    " see almost immediate gains in productivity and lower maintenance costs. \n",
    "\"\"\"\n",
    "print(article.count('in'))"
   ]
  },
  {
   "cell_type": "code",
   "execution_count": 11,
   "metadata": {
    "collapsed": false
   },
   "outputs": [
    {
     "name": "stdout",
     "output_type": "stream",
     "text": [
      "1\n"
     ]
    }
   ],
   "source": [
    "article = \"\"\"\n",
    " Python is a programming language that lets you work more quickly and \n",
    " integrate your systems more effectively. You can learn to use Python and \n",
    " see almost immediate gains in productivity and lower maintenance costs. \n",
    "\"\"\"\n",
    "article = article.split(\" \")\n",
    "print(article.count('in'))"
   ]
  },
  {
   "cell_type": "markdown",
   "metadata": {},
   "source": [
    "注意2"
   ]
  },
  {
   "cell_type": "code",
   "execution_count": 22,
   "metadata": {
    "collapsed": false
   },
   "outputs": [
    {
     "name": "stdout",
     "output_type": "stream",
     "text": [
      "0\n"
     ]
    }
   ],
   "source": [
    "article = \"\"\"\n",
    " Python is a programming language that lets you work more quickly and \n",
    " integrate your systems more effectively. You can learn to use Python and \n",
    " see almost immediate gains in productivity and lower maintenance costs. \n",
    "\"\"\"\n",
    "article = article.split(\" \")\n",
    "print(article.count('effectively'))"
   ]
  },
  {
   "cell_type": "code",
   "execution_count": 20,
   "metadata": {
    "collapsed": false
   },
   "outputs": [
    {
     "name": "stdout",
     "output_type": "stream",
     "text": [
      "1\n"
     ]
    }
   ],
   "source": [
    "article = \"\"\"\n",
    " Python is a programming language that lets you work more quickly and \n",
    " integrate your systems more effectively. You can learn to use Python and \n",
    " see almost immediate gains in productivity and lower maintenance costs. \n",
    "\"\"\"\n",
    "article = article.replace(\".\",\"\").replace(\",\",\"\").replace(\"?\",\"\")\n",
    "article = article.split(\" \")\n",
    "print(article.count('effectively'))"
   ]
  },
  {
   "cell_type": "markdown",
   "metadata": {},
   "source": [
    "串列的數值計算"
   ]
  },
  {
   "cell_type": "code",
   "execution_count": 49,
   "metadata": {
    "collapsed": false
   },
   "outputs": [
    {
     "name": "stdout",
     "output_type": "stream",
     "text": [
      "51\n",
      "16\n",
      "150.0\n"
     ]
    }
   ],
   "source": [
    "number = [16,18,23.0,51]\n",
    "print(max(number))\n",
    "print(min(number))\n",
    "print(sum(number))"
   ]
  },
  {
   "cell_type": "code",
   "execution_count": 24,
   "metadata": {
    "collapsed": false
   },
   "outputs": [
    {
     "name": "stdout",
     "output_type": "stream",
     "text": [
      "mean =  27.0\n"
     ]
    }
   ],
   "source": [
    "print(\"mean = \",sum(number)/len(number))"
   ]
  },
  {
   "cell_type": "markdown",
   "metadata": {},
   "source": [
    "串列的排序"
   ]
  },
  {
   "cell_type": "code",
   "execution_count": 53,
   "metadata": {
    "collapsed": false
   },
   "outputs": [
    {
     "name": "stdout",
     "output_type": "stream",
     "text": [
      "[5, 10, 17, 36, 43, 55]\n",
      "[55, 43, 36, 17, 10, 5]\n",
      "['apple', 'banana', 'orange', 'watermelon']\n"
     ]
    }
   ],
   "source": [
    "number = [10,5,43,17,55,36]\n",
    "string = [\"orange\",\"apple\",\"watermelon\",\"banana\"]\n",
    "print(sorted(number))\n",
    "print(sorted(number,reverse=True))\n",
    "print(sorted(string))"
   ]
  },
  {
   "cell_type": "markdown",
   "metadata": {},
   "source": [
    "串列中字串的合併join"
   ]
  },
  {
   "cell_type": "code",
   "execution_count": 27,
   "metadata": {
    "collapsed": false
   },
   "outputs": [
    {
     "name": "stdout",
     "output_type": "stream",
     "text": [
      "Hello Python R\n"
     ]
    }
   ],
   "source": [
    "my_list = [\"Hello\",\"Python\",\"R\"]\n",
    "print (\" \".join(my_list))"
   ]
  },
  {
   "cell_type": "code",
   "execution_count": 31,
   "metadata": {
    "collapsed": false
   },
   "outputs": [
    {
     "name": "stdout",
     "output_type": "stream",
     "text": [
      "4/20\n",
      "7/5\n",
      "12/10\n",
      "我有空的時間： 4/20和7/5和12/10\n"
     ]
    }
   ],
   "source": [
    "date_list=[]\n",
    "date_list.append(input())\n",
    "date_list.append(input())\n",
    "date_list.append(input())\n",
    "print (\"我有空的時間：\",\"和\".join(date_list))"
   ]
  },
  {
   "cell_type": "markdown",
   "metadata": {},
   "source": [
    "# 3. 迴圈 (loop)"
   ]
  },
  {
   "cell_type": "markdown",
   "metadata": {},
   "source": [
    "for loop"
   ]
  },
  {
   "cell_type": "code",
   "execution_count": null,
   "metadata": {
    "collapsed": true
   },
   "outputs": [],
   "source": [
    "for 變數名稱 in 可迭代的資料型態:\n",
    "    重複要做的事"
   ]
  },
  {
   "cell_type": "code",
   "execution_count": 54,
   "metadata": {
    "collapsed": false
   },
   "outputs": [
    {
     "name": "stdout",
     "output_type": "stream",
     "text": [
      "orange\n",
      "apple\n",
      "watermelon\n",
      "banana\n"
     ]
    }
   ],
   "source": [
    "my_list = [\"orange\",\"apple\",\"watermelon\",\"banana\"]\n",
    "print(my_list[0])\n",
    "print(my_list[1])\n",
    "print(my_list[2])\n",
    "print(my_list[3])"
   ]
  },
  {
   "cell_type": "code",
   "execution_count": 55,
   "metadata": {
    "collapsed": false
   },
   "outputs": [
    {
     "name": "stdout",
     "output_type": "stream",
     "text": [
      "orange\n",
      "apple\n",
      "watermelon\n",
      "banana\n"
     ]
    }
   ],
   "source": [
    "for fruit in my_list:\n",
    "    print(fruit)"
   ]
  },
  {
   "cell_type": "markdown",
   "metadata": {},
   "source": [
    "range"
   ]
  },
  {
   "cell_type": "code",
   "execution_count": 61,
   "metadata": {
    "collapsed": false
   },
   "outputs": [
    {
     "name": "stdout",
     "output_type": "stream",
     "text": [
      "[0, 1, 2, 3, 4, 5, 6, 7, 8, 9]\n",
      "[1, 2, 3, 4, 5, 6, 7, 8, 9]\n",
      "[1, 4, 7]\n"
     ]
    }
   ],
   "source": [
    "print(list(range(10)))\n",
    "print(list(range(1,10)))\n",
    "print(list(range(1,10,3)))"
   ]
  },
  {
   "cell_type": "code",
   "execution_count": 63,
   "metadata": {
    "collapsed": false
   },
   "outputs": [
    {
     "name": "stdout",
     "output_type": "stream",
     "text": [
      "5050\n"
     ]
    }
   ],
   "source": [
    "start = 0\n",
    "for i in range(1,101):\n",
    "    start += i\n",
    "print(start)"
   ]
  },
  {
   "cell_type": "code",
   "execution_count": 3,
   "metadata": {
    "collapsed": false
   },
   "outputs": [
    {
     "name": "stdout",
     "output_type": "stream",
     "text": [
      "1月 1日\n",
      "1月 5日\n",
      "1月 10日\n",
      "2月 1日\n",
      "2月 5日\n",
      "2月 10日\n",
      "3月 1日\n",
      "3月 5日\n",
      "3月 10日\n"
     ]
    }
   ],
   "source": [
    "month = [\"1月\",\"2月\",\"3月\"]\n",
    "day = ['1日','5日','10日']\n",
    "for i in month:\n",
    "    for k in day:\n",
    "        print(i,k)"
   ]
  },
  {
   "cell_type": "code",
   "execution_count": 6,
   "metadata": {
    "collapsed": false
   },
   "outputs": [
    {
     "name": "stdout",
     "output_type": "stream",
     "text": [
      "1 * 1 = 1\n",
      "1 * 2 = 2\n",
      "1 * 3 = 3\n",
      "1 * 4 = 4\n",
      "1 * 5 = 5\n",
      "1 * 6 = 6\n",
      "1 * 7 = 7\n",
      "1 * 8 = 8\n",
      "1 * 9 = 9\n",
      "2 * 1 = 2\n",
      "2 * 2 = 4\n",
      "2 * 3 = 6\n",
      "2 * 4 = 8\n",
      "2 * 5 = 10\n",
      "2 * 6 = 12\n",
      "2 * 7 = 14\n",
      "2 * 8 = 16\n",
      "2 * 9 = 18\n",
      "3 * 1 = 3\n",
      "3 * 2 = 6\n",
      "3 * 3 = 9\n",
      "3 * 4 = 12\n",
      "3 * 5 = 15\n",
      "3 * 6 = 18\n",
      "3 * 7 = 21\n",
      "3 * 8 = 24\n",
      "3 * 9 = 27\n",
      "4 * 1 = 4\n",
      "4 * 2 = 8\n",
      "4 * 3 = 12\n",
      "4 * 4 = 16\n",
      "4 * 5 = 20\n",
      "4 * 6 = 24\n",
      "4 * 7 = 28\n",
      "4 * 8 = 32\n",
      "4 * 9 = 36\n",
      "5 * 1 = 5\n",
      "5 * 2 = 10\n",
      "5 * 3 = 15\n",
      "5 * 4 = 20\n",
      "5 * 5 = 25\n",
      "5 * 6 = 30\n",
      "5 * 7 = 35\n",
      "5 * 8 = 40\n",
      "5 * 9 = 45\n",
      "6 * 1 = 6\n",
      "6 * 2 = 12\n",
      "6 * 3 = 18\n",
      "6 * 4 = 24\n",
      "6 * 5 = 30\n",
      "6 * 6 = 36\n",
      "6 * 7 = 42\n",
      "6 * 8 = 48\n",
      "6 * 9 = 54\n",
      "7 * 1 = 7\n",
      "7 * 2 = 14\n",
      "7 * 3 = 21\n",
      "7 * 4 = 28\n",
      "7 * 5 = 35\n",
      "7 * 6 = 42\n",
      "7 * 7 = 49\n",
      "7 * 8 = 56\n",
      "7 * 9 = 63\n",
      "8 * 1 = 8\n",
      "8 * 2 = 16\n",
      "8 * 3 = 24\n",
      "8 * 4 = 32\n",
      "8 * 5 = 40\n",
      "8 * 6 = 48\n",
      "8 * 7 = 56\n",
      "8 * 8 = 64\n",
      "8 * 9 = 72\n",
      "9 * 1 = 9\n",
      "9 * 2 = 18\n",
      "9 * 3 = 27\n",
      "9 * 4 = 36\n",
      "9 * 5 = 45\n",
      "9 * 6 = 54\n",
      "9 * 7 = 63\n",
      "9 * 8 = 72\n",
      "9 * 9 = 81\n"
     ]
    }
   ],
   "source": [
    "for i in range(1,10):\n",
    "    for k in range(1,10):\n",
    "        print(i,\"*\",k,\"=\",i*k)"
   ]
  },
  {
   "cell_type": "markdown",
   "metadata": {},
   "source": [
    "while loop"
   ]
  },
  {
   "cell_type": "code",
   "execution_count": null,
   "metadata": {
    "collapsed": true
   },
   "outputs": [],
   "source": [
    "while 條件成立:\n",
    "    重複要做的事"
   ]
  },
  {
   "cell_type": "code",
   "execution_count": null,
   "metadata": {
    "collapsed": true
   },
   "outputs": [],
   "source": [
    "while 血量>0:\n",
    "    繼續戰鬥"
   ]
  },
  {
   "cell_type": "code",
   "execution_count": 2,
   "metadata": {
    "collapsed": false
   },
   "outputs": [
    {
     "name": "stdout",
     "output_type": "stream",
     "text": [
      "5050\n"
     ]
    }
   ],
   "source": [
    "total = 0\n",
    "i = 1\n",
    "while i < 101:\n",
    "    total += i\n",
    "    i += 1\n",
    "print(total)"
   ]
  }
 ],
 "metadata": {
  "kernelspec": {
   "display_name": "Python 3",
   "language": "python",
   "name": "python3"
  },
  "language_info": {
   "codemirror_mode": {
    "name": "ipython",
    "version": 3
   },
   "file_extension": ".py",
   "mimetype": "text/x-python",
   "name": "python",
   "nbconvert_exporter": "python",
   "pygments_lexer": "ipython3",
   "version": "3.6.3"
  }
 },
 "nbformat": 4,
 "nbformat_minor": 2
}
